{
 "cells": [
  {
   "cell_type": "markdown",
   "id": "7769c262-8d36-4f01-81c0-f12dcb88905e",
   "metadata": {},
   "source": [
    "# Introduction to R\n",
    "\n",
    "This course is a collection of the most important commmands, functions, methods and comments from the Swirl tutorial on R.\n",
    "\n",
    "In case of wanting to see the description or help window of a function use `help()` and the function between the parenthesis and the `args()` function to look at the arguments that the function requires.\n"
   ]
  },
  {
   "cell_type": "markdown",
   "id": "d12e00e9-528b-4d22-ba06-52d1e1f85c3a",
   "metadata": {},
   "source": [
    "## 1. Worskpace and files\n",
    "\n",
    "Some of the most useful functions for workspace and file operations:\n",
    "- `ls()` for listing all the objects on a local workspace (i.e. active variables).\n",
    "- `getwd()` for getting the current working directory path.\n",
    "- `dir()` for listing all the files in a directory (by default the working directory).\n",
    "- `dir.create()` for creating a directory in the current working directory.\n",
    "- `setwd()` for setting the working directory to a specified directory.\n",
    "- `file.create()` for creating a file in the current working directory.\n",
    "- `file.exists()` to check if a file exists in the current working dirctory.\n",
    "- `file.info()` returns the basic information about a file, as its size, last modification date, etc. Also, if we want to retrieve just one piece of information, we can add '$size' for getting the size for example.\n",
    "\n",
    "- `file.rename()` for renaming a file.\n",
    "- `file.remove()` for deleting a file.\n",
    "- `file.copy()` for making a copy of a file.\n",
    "- `file.path()` for creating a relative path to a file, independent of the operating system."
   ]
  },
  {
   "cell_type": "code",
   "execution_count": null,
   "id": "71d76052-c27f-44fd-af70-8c8c632b134f",
   "metadata": {},
   "outputs": [],
   "source": []
  }
 ],
 "metadata": {
  "kernelspec": {
   "display_name": "R",
   "language": "R",
   "name": "ir"
  },
  "language_info": {
   "codemirror_mode": "r",
   "file_extension": ".r",
   "mimetype": "text/x-r-source",
   "name": "R",
   "pygments_lexer": "r",
   "version": "4.1.0"
  }
 },
 "nbformat": 4,
 "nbformat_minor": 5
}
