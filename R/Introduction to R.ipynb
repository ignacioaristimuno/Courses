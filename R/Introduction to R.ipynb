{
 "cells": [
  {
   "cell_type": "markdown",
   "id": "7769c262-8d36-4f01-81c0-f12dcb88905e",
   "metadata": {},
   "source": [
    "# Introduction to R\n",
    "\n",
    "This course is a collection of the most important commmands, functions, methods and comments from the Swirl tutorial on R.\n",
    "\n",
    "In case of wanting to see the description or help window of a function use `help()` and the function between the parenthesis and the `args()` function to look at the arguments that the function requires.\n"
   ]
  },
  {
   "cell_type": "markdown",
   "id": "d12e00e9-528b-4d22-ba06-52d1e1f85c3a",
   "metadata": {},
   "source": [
    "## 1. Worskpace and files\n",
    "\n",
    "Some of the most useful functions for workspace and file operations:\n",
    "- `ls()` for listing all the objects on a local workspace (i.e. active variables).\n",
    "- `getwd()` for getting the current working directory path.\n",
    "- `dir()` for listing all the files in a directory (by default the working directory).\n",
    "- `dir.create()` for creating a directory in the current working directory.\n",
    "- `setwd()` for setting the working directory to a specified directory.\n",
    "- `file.create()` for creating a file in the current working directory.\n",
    "- `file.exists()` to check if a file exists in the current working dirctory.\n",
    "- `file.info()` returns the basic information about a file, as its size, last modification date, etc. Also, if we want to retrieve just one piece of information, we can add '$size' for getting the size for example.\n",
    "\n",
    "- `file.rename()` for renaming a file.\n",
    "- `file.remove()` for deleting a file.\n",
    "- `file.copy()` for making a copy of a file.\n",
    "- `file.path()` for creating a relative path to a file, independent of the operating system."
   ]
  },
  {
   "cell_type": "markdown",
   "id": "b51fa61e-abd6-42d0-9315-e5484b400594",
   "metadata": {},
   "source": [
    "## 2. Vectors\n",
    "\n",
    "Vectors come in two different ways in R: `atomic flavours` which contains exactly one data type, and `lists` which may contain multiple data types.\n",
    "\n",
    "Some of the most useful methods and functions for sequencing numbers:\n",
    "- `a:b` creates a sequence of numbers starting in a and finishing at b (or before b) at a step of 1 between each number. If a > b, then the step would be -1.\n",
    "- `seq()` does the same but with better control. For example, we can control the step with the 'by' argument, or just stating how many numbers we want in the sequence with the 'length' argument.\n",
    "- `length()` returns the length of a sequence.\n",
    "- `rep(c, times = n)` replicates the number (or vector) c, n times forming a sequence (vector) of those numbers. If instead we want to repeat each element of the vector n times before moving to the next element, we used 'each = n' instead of 'times = n'.\n",
    "\n",
    "Some of the most useful methods and functions for vectors:\n",
    "- `paste()` used for concatenating elements of a vector into one element, in which each element is separated from one another by the 'collapse' argument. If we wanto to concatenate two vectors but element-wise, use the 'sep' argument instead.\n",
    "- `sample(vec, n)` selects randomly n elements from vector vec.\n",
    "- `identical()` checks if two vectors are the same.\n",
    "\n",
    "Some of the most useful methods and functinos for subsets of vectors:\n",
    "- `v[c(3, 6)]` returns the 3rd ant 6th elements of vector v.\n",
    "- `v[c(-3, -6)]` returns vector v except for the the 3rd ant 6th elements.\n",
    "\n"
   ]
  },
  {
   "cell_type": "markdown",
   "id": "b8cd7ada-376a-4670-a98e-43d80371c2b9",
   "metadata": {},
   "source": [
    "## 3. Missing values\n",
    "\n",
    "In R missing values are represented by the 'NA' keyword, and can also be used for logical operators. Some of the most useful methods and functions for handling missing values are:\n",
    "- `is.na()` checks if a value (or elements in a vector) are NAs.\n"
   ]
  },
  {
   "cell_type": "markdown",
   "id": "26c578c9-1a76-48be-ba84-0f54e8912f77",
   "metadata": {},
   "source": [
    "## 4. Matrices and DataFrames\n",
    "\n",
    "The main difference between `matrices` and  `DataFrames` is that matrices can only contain a single class of data, while dataframes can consist of many different classes of data.\n",
    "\n",
    "Some of the most useful methods and functions for matrices and dataframes are:\n",
    "- `dim()` returns the dimension of an object. Vectors does not have a dimension, so would return NULL (instead use length()). It can also be used for creating a matrix from a vector.\n",
    "- `matrix()` creates a matrix from a vector or some sequence.\n",
    "- `data.frame()` creates a dataframe from specified data.\n",
    "- `colnames(df)` helps assigning a dataframe some desired column names."
   ]
  },
  {
   "cell_type": "code",
   "execution_count": null,
   "id": "ed7fab29-af64-42b6-8116-a46a7cb21df6",
   "metadata": {},
   "outputs": [],
   "source": []
  }
 ],
 "metadata": {
  "kernelspec": {
   "display_name": "R",
   "language": "R",
   "name": "ir"
  },
  "language_info": {
   "codemirror_mode": "r",
   "file_extension": ".r",
   "mimetype": "text/x-r-source",
   "name": "R",
   "pygments_lexer": "r",
   "version": "4.1.0"
  }
 },
 "nbformat": 4,
 "nbformat_minor": 5
}
