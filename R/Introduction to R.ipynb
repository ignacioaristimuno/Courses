{
 "cells": [
  {
   "cell_type": "markdown",
   "id": "7769c262-8d36-4f01-81c0-f12dcb88905e",
   "metadata": {},
   "source": [
    "# Introduction to R\n",
    "\n",
    "This course is a collection of the most important commmands, functions, methods and comments from the Swirl tutorial on R.\n",
    "\n",
    "In case of wanting to see the description or help window of a function use `help()` and the function between the parenthesis and the `args()` function to look at the arguments that the function requires.\n"
   ]
  },
  {
   "cell_type": "markdown",
   "id": "d12e00e9-528b-4d22-ba06-52d1e1f85c3a",
   "metadata": {},
   "source": [
    "## 1. Worskpace and files\n",
    "\n",
    "Some of the most useful functions for workspace and file operations:\n",
    "- `ls()` for listing all the objects on a local workspace (i.e. active variables).\n",
    "- `getwd()` for getting the current working directory path.\n",
    "- `dir()` for listing all the files in a directory (by default the working directory).\n",
    "- `dir.create()` for creating a directory in the current working directory.\n",
    "- `setwd()` for setting the working directory to a specified directory.\n",
    "- `file.create()` for creating a file in the current working directory.\n",
    "- `file.exists()` to check if a file exists in the current working dirctory.\n",
    "- `file.info()` returns the basic information about a file, as its size, last modification date, etc. Also, if we want to retrieve just one piece of information, we can add '$size' for getting the size for example.\n",
    "\n",
    "- `file.rename()` for renaming a file.\n",
    "- `file.remove()` for deleting a file.\n",
    "- `file.copy()` for making a copy of a file.\n",
    "- `file.path()` for creating a relative path to a file, independent of the operating system."
   ]
  },
  {
   "cell_type": "markdown",
   "id": "b51fa61e-abd6-42d0-9315-e5484b400594",
   "metadata": {},
   "source": [
    "## 2. Vectors\n",
    "\n",
    "Vectors come in two different ways in R: `atomic flavours` which contains exactly one data type, and `lists` which may contain multiple data types.\n",
    "\n",
    "Some of the most useful methods and functions for sequencing numbers:\n",
    "- `a:b` creates a sequence of numbers starting in a and finishing at b (or before b) at a step of 1 between each number. If a > b, then the step would be -1.\n",
    "- `seq()` does the same but with better control. For example, we can control the step with the 'by' argument, or just stating how many numbers we want in the sequence with the 'length' argument.\n",
    "- `length()` returns the length of a sequence.\n",
    "- `rep(c, times = n)` replicates the number (or vector) c, n times forming a sequence (vector) of those numbers. If instead we want to repeat each element of the vector n times before moving to the next element, we used 'each = n' instead of 'times = n'.\n",
    "\n",
    "Some of the most useful methods and functions for vectors:\n",
    "- `paste()` used for concatenating elements of a vector into one element, in which each element is separated from one another by the 'collapse' argument. If we wanto to concatenate two vectors but element-wise, use the 'sep' argument instead.\n",
    "- `sample(vec, n)` selects randomly n elements from vector vec.\n",
    "- `identical()` checks if two vectors are the same.\n",
    "- `range()` returns the minimum and maximum value for a vector.\n",
    "- `unique()` returns the unique values of a vector.\n",
    "\n",
    "Some of the most useful methods and functions for subsets of vectors:\n",
    "- `v[c(3, 6)]` returns the 3rd ant 6th elements of vector v.\n",
    "- `v[c(-3, -6)]` returns vector v except for the the 3rd ant 6th elements.\n",
    "- `which()` returns the indices of a vector which meets some condition.\n",
    "- `any()` returns TRUE if at least one of the elements of the vector meets some condition.\n",
    "- `all()` returns TRUE if all the elements of the vector meets some condition.\n",
    "\n"
   ]
  },
  {
   "cell_type": "markdown",
   "id": "b8cd7ada-376a-4670-a98e-43d80371c2b9",
   "metadata": {},
   "source": [
    "## 3. Missing values\n",
    "\n",
    "In R missing values are represented by the 'NA' keyword, and can also be used for logical operators. Some of the most useful methods and functions for handling missing values are:\n",
    "- `is.na()` checks if a value (or elements in a vector) are NAs.\n"
   ]
  },
  {
   "cell_type": "markdown",
   "id": "26c578c9-1a76-48be-ba84-0f54e8912f77",
   "metadata": {},
   "source": [
    "## 4. Matrices and DataFrames\n",
    "\n",
    "The main difference between `matrices` and  `DataFrames` is that matrices can only contain a single class of data, while dataframes can consist of many different classes of data.\n",
    "\n",
    "Some of the most useful methods and functions for matrices and dataframes are:\n",
    "- `dim()` returns the dimension of an object. Vectors does not have a dimension, so would return NULL (instead use length()). It can also be used for creating a matrix from a vector.\n",
    "- `matrix()` creates a matrix from a vector or some sequence.\n",
    "- `data.frame()` creates a dataframe from specified data.\n",
    "- `colnames(df)` helps assigning a dataframe some desired column names.\n",
    "- `$` for operating across a column (i.e. sum(df$total) for summing the total column).\n"
   ]
  },
  {
   "cell_type": "markdown",
   "id": "6cf543b6-c510-4b89-9fcb-d90fbe756515",
   "metadata": {},
   "source": [
    "## 5. Functions\n",
    "\n",
    "`Functions` are one of the fundamental building blocks of any programming language. They are small pieces of reusable code that can be treated like any other R object. For example, a very used function is `Sys.Date()` which returns today's date. To check how a function is defined, just type the name of the function whithot parenthesis nor arguments.\n",
    "\n",
    "An example of the implementation of the mean function:\n"
   ]
  },
  {
   "cell_type": "code",
   "execution_count": 1,
   "id": "516d0613-b2f7-4ffb-b9d1-284656d75f81",
   "metadata": {},
   "outputs": [],
   "source": [
    "my_mean = function(vector) {\n",
    "    sum(vector) / length(vector)\n",
    "}"
   ]
  },
  {
   "cell_type": "markdown",
   "id": "6f36494d-2e2c-444f-abf3-12a72fb058ff",
   "metadata": {},
   "source": [
    "Then, you can execute the function by calling its name and providing at least the necesary arguments:"
   ]
  },
  {
   "cell_type": "code",
   "execution_count": 2,
   "id": "5fe699ec-3b07-45a0-b55f-2103e23cd5cf",
   "metadata": {},
   "outputs": [
    {
     "data": {
      "text/html": [
       "5"
      ],
      "text/latex": [
       "5"
      ],
      "text/markdown": [
       "5"
      ],
      "text/plain": [
       "[1] 5"
      ]
     },
     "metadata": {},
     "output_type": "display_data"
    }
   ],
   "source": [
    "my_mean(c(1, 2, 3, 4, 5, 6, 7, 8, 9))"
   ]
  },
  {
   "cell_type": "markdown",
   "id": "d9728693-77f1-4b15-85ee-322d492f677e",
   "metadata": {},
   "source": [
    "We can also look at the arguments of a function by calling the `args()` function:"
   ]
  },
  {
   "cell_type": "code",
   "execution_count": 3,
   "id": "3a08ced1-8caa-48d8-af3e-1364c40ea8a3",
   "metadata": {},
   "outputs": [
    {
     "data": {
      "text/html": [
       "<pre class=language-r><code>function (vector) \n",
       "NULL</code></pre>"
      ],
      "text/latex": [
       "\\begin{minted}{r}\n",
       "function (vector) \n",
       "NULL\n",
       "\\end{minted}"
      ],
      "text/markdown": [
       "```r\n",
       "function (vector) \n",
       "NULL\n",
       "```"
      ],
      "text/plain": [
       "function (vector) \n",
       "NULL"
      ]
     },
     "metadata": {},
     "output_type": "display_data"
    }
   ],
   "source": [
    "args(my_mean)"
   ]
  },
  {
   "cell_type": "markdown",
   "id": "de97a731-6821-439d-bfbf-f4964c390f21",
   "metadata": {},
   "source": [
    "We also have `anonymus functions` in R (equivalent to *lambda* functions in Python), that can be defined as follows:"
   ]
  },
  {
   "cell_type": "code",
   "execution_count": 4,
   "id": "686ce22e-8dca-41f5-ac85-55bdbe6289be",
   "metadata": {},
   "outputs": [
    {
     "data": {
      "text/html": [
       "5"
      ],
      "text/latex": [
       "5"
      ],
      "text/markdown": [
       "5"
      ],
      "text/plain": [
       "[1] 5"
      ]
     },
     "metadata": {},
     "output_type": "display_data"
    }
   ],
   "source": [
    "plus_one = function(x){x+1}\n",
    "plus_one(4)"
   ]
  },
  {
   "cell_type": "markdown",
   "id": "18936897-2abc-4b4a-aa70-1dc49358f9ab",
   "metadata": {},
   "source": [
    "## 6. Apply functions (loop)\n",
    "\n",
    "Both `lapply()` and `sapply()` are part of the apply family of functions which offer a concise and convenient means of implementing the Split-Apply-Combine strategy for data analysis. This means: splitting up some data into smaller pieces, applying a function to each piece and then combining the results.\n",
    "\n",
    "The former takes a list as input, applies a function to each element of the list, then returns a list of the same length as the original one. The latter allows you to automate this process by calling lapply behind the scenes, but then attempting to simplify the result for you.\n",
    "\n",
    "Whereas *lapply* tries to guess the correct format of the result `vapply()` allows you to specify it explicitly and if the result doesn't match the format specified, an error will arise. This is useful for preventing significant problems in your code that might be causing unexpected return values.\n",
    "\n",
    "The `tapply()` function helps us to split our data temprarily based on the value of some variable and then apply a function to the members of each group separately. For example, for looking on the quantity of habitants per continent we could use:"
   ]
  },
  {
   "cell_type": "code",
   "execution_count": null,
   "id": "04284c60-d345-489a-a1ef-67bb2b4968e4",
   "metadata": {},
   "outputs": [],
   "source": [
    "tapply(df$population, df$continents, sum)"
   ]
  },
  {
   "cell_type": "markdown",
   "id": "9d429b26-c42b-4220-ac99-9714c54a7d9b",
   "metadata": {},
   "source": [
    "## 7. Looking at data\n",
    "\n",
    "Some of the most used methods and functions for dataframes are:\n",
    "- `dim()` for getting the dimensions of the dataframe (equivalent to .shape in Python).\n",
    "- `nrow()` returns the number of rows in a dataframe.\n",
    "- `ncol()` returns the number of columns in a dataframe.\n",
    "- `object.size()` returns the size of memory space the dataframe is occupying.\n",
    "- `names()` returns the a vector of the names of the columns within the dataframe.\n",
    "- `summary()` provides some descriptive information of the dataframe and the values within the columns (similar to the *.describe()* function in Python).\n",
    "- `str()` provides concise information about the structure of a dataframe (it can also be used for datasets, functions, vectors, etc).\n"
   ]
  },
  {
   "cell_type": "markdown",
   "id": "efe17184-b295-4a37-8faa-f04262e9ddac",
   "metadata": {},
   "source": [
    "## 8. Simulation\n",
    "\n",
    "Some of the most used methods and functions for simulation are:\n",
    "- `sample(vec, n, replace = FALSE)` to generate n random numbers within the vector vec without replacement.\n",
    "- ``\n"
   ]
  },
  {
   "cell_type": "code",
   "execution_count": null,
   "id": "cd9e9cc6-f44b-466b-ad7e-4c8a48403917",
   "metadata": {},
   "outputs": [],
   "source": []
  }
 ],
 "metadata": {
  "kernelspec": {
   "display_name": "R",
   "language": "R",
   "name": "ir"
  },
  "language_info": {
   "codemirror_mode": "r",
   "file_extension": ".r",
   "mimetype": "text/x-r-source",
   "name": "R",
   "pygments_lexer": "r",
   "version": "4.1.0"
  }
 },
 "nbformat": 4,
 "nbformat_minor": 5
}
