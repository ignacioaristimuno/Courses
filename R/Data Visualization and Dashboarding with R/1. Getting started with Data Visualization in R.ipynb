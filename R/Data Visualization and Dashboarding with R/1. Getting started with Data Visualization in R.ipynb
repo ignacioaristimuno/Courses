{
 "cells": [
  {
   "cell_type": "markdown",
   "id": "2c1b9243",
   "metadata": {},
   "source": [
    "# Getting started with Data Visualization in R\n",
    "\n",
    "This notebooks is based on the first course of the  [Data Visualization & Dashboarding with R Specialization](https://www.coursera.org/specializations/jhu-data-visualization-dashboarding-with-r) by the University of John Hopkins.\n"
   ]
  },
  {
   "cell_type": "markdown",
   "id": "3800a226",
   "metadata": {},
   "source": [
    "## 1. Managing and importing\n",
    "\n",
    "#### 1. DataFrames\n",
    "\n",
    "From the perspective of making visualizations with data you will use a DataFrame very often. A data frame is basically like a table or a spreadsheet that can be saved as an object into R's environment. Data frames can have column headers or column titles, and you can do different kinds of operations to add columns or rows to a data frame.\n",
    "\n",
    "You create a data frame in R by combining vectors together. For example:"
   ]
  },
  {
   "cell_type": "code",
   "execution_count": 1,
   "id": "64ee0879",
   "metadata": {},
   "outputs": [
    {
     "data": {
      "text/html": [
       "<table class=\"dataframe\">\n",
       "<caption>A data.frame: 5 × 2</caption>\n",
       "<thead>\n",
       "\t<tr><th scope=col>vec_1</th><th scope=col>vec_2</th></tr>\n",
       "\t<tr><th scope=col>&lt;dbl&gt;</th><th scope=col>&lt;dbl&gt;</th></tr>\n",
       "</thead>\n",
       "<tbody>\n",
       "\t<tr><td>1</td><td> 2</td></tr>\n",
       "\t<tr><td>3</td><td> 4</td></tr>\n",
       "\t<tr><td>5</td><td> 6</td></tr>\n",
       "\t<tr><td>7</td><td> 8</td></tr>\n",
       "\t<tr><td>9</td><td>10</td></tr>\n",
       "</tbody>\n",
       "</table>\n"
      ],
      "text/latex": [
       "A data.frame: 5 × 2\n",
       "\\begin{tabular}{ll}\n",
       " vec\\_1 & vec\\_2\\\\\n",
       " <dbl> & <dbl>\\\\\n",
       "\\hline\n",
       "\t 1 &  2\\\\\n",
       "\t 3 &  4\\\\\n",
       "\t 5 &  6\\\\\n",
       "\t 7 &  8\\\\\n",
       "\t 9 & 10\\\\\n",
       "\\end{tabular}\n"
      ],
      "text/markdown": [
       "\n",
       "A data.frame: 5 × 2\n",
       "\n",
       "| vec_1 &lt;dbl&gt; | vec_2 &lt;dbl&gt; |\n",
       "|---|---|\n",
       "| 1 |  2 |\n",
       "| 3 |  4 |\n",
       "| 5 |  6 |\n",
       "| 7 |  8 |\n",
       "| 9 | 10 |\n",
       "\n"
      ],
      "text/plain": [
       "  vec_1 vec_2\n",
       "1 1      2   \n",
       "2 3      4   \n",
       "3 5      6   \n",
       "4 7      8   \n",
       "5 9     10   "
      ]
     },
     "metadata": {},
     "output_type": "display_data"
    }
   ],
   "source": [
    "# Defining vectors\n",
    "vec_1 = c(1, 3, 5, 7, 9)\n",
    "vec_2 = c(2, 4, 6, 8, 10)\n",
    "\n",
    "# Creating DataFrame\n",
    "df = data.frame(vec_1, vec_2)\n",
    "\n",
    "# Show df\n",
    "df"
   ]
  },
  {
   "cell_type": "markdown",
   "id": "0d7eb813",
   "metadata": {},
   "source": [
    "Selecting the element in the 4th row and 2nd column:"
   ]
  },
  {
   "cell_type": "code",
   "execution_count": 2,
   "id": "13c911e9",
   "metadata": {},
   "outputs": [
    {
     "data": {
      "text/html": [
       "8"
      ],
      "text/latex": [
       "8"
      ],
      "text/markdown": [
       "8"
      ],
      "text/plain": [
       "[1] 8"
      ]
     },
     "metadata": {},
     "output_type": "display_data"
    }
   ],
   "source": [
    "df[4,2]"
   ]
  },
  {
   "cell_type": "markdown",
   "id": "2fc08687",
   "metadata": {},
   "source": [
    "And it's possible to fill a new column with a value, without needing to create a vector"
   ]
  },
  {
   "cell_type": "code",
   "execution_count": 3,
   "id": "e2f23941",
   "metadata": {},
   "outputs": [],
   "source": [
    "df$filled_col = 7"
   ]
  },
  {
   "cell_type": "code",
   "execution_count": 4,
   "id": "25ffdcbb",
   "metadata": {},
   "outputs": [
    {
     "data": {
      "text/html": [
       "<table class=\"dataframe\">\n",
       "<caption>A data.frame: 5 × 3</caption>\n",
       "<thead>\n",
       "\t<tr><th scope=col>vec_1</th><th scope=col>vec_2</th><th scope=col>filled_col</th></tr>\n",
       "\t<tr><th scope=col>&lt;dbl&gt;</th><th scope=col>&lt;dbl&gt;</th><th scope=col>&lt;dbl&gt;</th></tr>\n",
       "</thead>\n",
       "<tbody>\n",
       "\t<tr><td>1</td><td> 2</td><td>7</td></tr>\n",
       "\t<tr><td>3</td><td> 4</td><td>7</td></tr>\n",
       "\t<tr><td>5</td><td> 6</td><td>7</td></tr>\n",
       "\t<tr><td>7</td><td> 8</td><td>7</td></tr>\n",
       "\t<tr><td>9</td><td>10</td><td>7</td></tr>\n",
       "</tbody>\n",
       "</table>\n"
      ],
      "text/latex": [
       "A data.frame: 5 × 3\n",
       "\\begin{tabular}{lll}\n",
       " vec\\_1 & vec\\_2 & filled\\_col\\\\\n",
       " <dbl> & <dbl> & <dbl>\\\\\n",
       "\\hline\n",
       "\t 1 &  2 & 7\\\\\n",
       "\t 3 &  4 & 7\\\\\n",
       "\t 5 &  6 & 7\\\\\n",
       "\t 7 &  8 & 7\\\\\n",
       "\t 9 & 10 & 7\\\\\n",
       "\\end{tabular}\n"
      ],
      "text/markdown": [
       "\n",
       "A data.frame: 5 × 3\n",
       "\n",
       "| vec_1 &lt;dbl&gt; | vec_2 &lt;dbl&gt; | filled_col &lt;dbl&gt; |\n",
       "|---|---|---|\n",
       "| 1 |  2 | 7 |\n",
       "| 3 |  4 | 7 |\n",
       "| 5 |  6 | 7 |\n",
       "| 7 |  8 | 7 |\n",
       "| 9 | 10 | 7 |\n",
       "\n"
      ],
      "text/plain": [
       "  vec_1 vec_2 filled_col\n",
       "1 1      2    7         \n",
       "2 3      4    7         \n",
       "3 5      6    7         \n",
       "4 7      8    7         \n",
       "5 9     10    7         "
      ]
     },
     "metadata": {},
     "output_type": "display_data"
    }
   ],
   "source": [
    "df"
   ]
  },
  {
   "cell_type": "markdown",
   "id": "59dedb24",
   "metadata": {},
   "source": [
    "To get de size of the dataframe, you can use the `dim()` function"
   ]
  },
  {
   "cell_type": "code",
   "execution_count": 5,
   "id": "1914872c",
   "metadata": {},
   "outputs": [
    {
     "data": {
      "text/html": [
       "<style>\n",
       ".list-inline {list-style: none; margin:0; padding: 0}\n",
       ".list-inline>li {display: inline-block}\n",
       ".list-inline>li:not(:last-child)::after {content: \"\\00b7\"; padding: 0 .5ex}\n",
       "</style>\n",
       "<ol class=list-inline><li>5</li><li>3</li></ol>\n"
      ],
      "text/latex": [
       "\\begin{enumerate*}\n",
       "\\item 5\n",
       "\\item 3\n",
       "\\end{enumerate*}\n"
      ],
      "text/markdown": [
       "1. 5\n",
       "2. 3\n",
       "\n",
       "\n"
      ],
      "text/plain": [
       "[1] 5 3"
      ]
     },
     "metadata": {},
     "output_type": "display_data"
    }
   ],
   "source": [
    "dim(df)"
   ]
  },
  {
   "cell_type": "markdown",
   "id": "b3e53683",
   "metadata": {},
   "source": [
    "Which also can be obtained by using the `nrow` and `ncol()` functions:"
   ]
  },
  {
   "cell_type": "code",
   "execution_count": 7,
   "id": "da396567",
   "metadata": {},
   "outputs": [
    {
     "data": {
      "text/html": [
       "5"
      ],
      "text/latex": [
       "5"
      ],
      "text/markdown": [
       "5"
      ],
      "text/plain": [
       "[1] 5"
      ]
     },
     "metadata": {},
     "output_type": "display_data"
    },
    {
     "data": {
      "text/html": [
       "3"
      ],
      "text/latex": [
       "3"
      ],
      "text/markdown": [
       "3"
      ],
      "text/plain": [
       "[1] 3"
      ]
     },
     "metadata": {},
     "output_type": "display_data"
    }
   ],
   "source": [
    "nrow(df)\n",
    "ncol(df)"
   ]
  },
  {
   "cell_type": "markdown",
   "id": "3a29628f",
   "metadata": {},
   "source": [
    "For appending new rows you can use the `rbind()` and new columns with `cbind()`"
   ]
  },
  {
   "cell_type": "code",
   "execution_count": 9,
   "id": "701fcca4",
   "metadata": {},
   "outputs": [
    {
     "data": {
      "text/html": [
       "<table class=\"dataframe\">\n",
       "<caption>A data.frame: 6 × 3</caption>\n",
       "<thead>\n",
       "\t<tr><th scope=col>vec_1</th><th scope=col>vec_2</th><th scope=col>filled_col</th></tr>\n",
       "\t<tr><th scope=col>&lt;dbl&gt;</th><th scope=col>&lt;dbl&gt;</th><th scope=col>&lt;dbl&gt;</th></tr>\n",
       "</thead>\n",
       "<tbody>\n",
       "\t<tr><td>1</td><td> 2</td><td>7</td></tr>\n",
       "\t<tr><td>3</td><td> 4</td><td>7</td></tr>\n",
       "\t<tr><td>5</td><td> 6</td><td>7</td></tr>\n",
       "\t<tr><td>7</td><td> 8</td><td>7</td></tr>\n",
       "\t<tr><td>9</td><td>10</td><td>7</td></tr>\n",
       "\t<tr><td>0</td><td> 0</td><td>0</td></tr>\n",
       "</tbody>\n",
       "</table>\n"
      ],
      "text/latex": [
       "A data.frame: 6 × 3\n",
       "\\begin{tabular}{lll}\n",
       " vec\\_1 & vec\\_2 & filled\\_col\\\\\n",
       " <dbl> & <dbl> & <dbl>\\\\\n",
       "\\hline\n",
       "\t 1 &  2 & 7\\\\\n",
       "\t 3 &  4 & 7\\\\\n",
       "\t 5 &  6 & 7\\\\\n",
       "\t 7 &  8 & 7\\\\\n",
       "\t 9 & 10 & 7\\\\\n",
       "\t 0 &  0 & 0\\\\\n",
       "\\end{tabular}\n"
      ],
      "text/markdown": [
       "\n",
       "A data.frame: 6 × 3\n",
       "\n",
       "| vec_1 &lt;dbl&gt; | vec_2 &lt;dbl&gt; | filled_col &lt;dbl&gt; |\n",
       "|---|---|---|\n",
       "| 1 |  2 | 7 |\n",
       "| 3 |  4 | 7 |\n",
       "| 5 |  6 | 7 |\n",
       "| 7 |  8 | 7 |\n",
       "| 9 | 10 | 7 |\n",
       "| 0 |  0 | 0 |\n",
       "\n"
      ],
      "text/plain": [
       "  vec_1 vec_2 filled_col\n",
       "1 1      2    7         \n",
       "2 3      4    7         \n",
       "3 5      6    7         \n",
       "4 7      8    7         \n",
       "5 9     10    7         \n",
       "6 0      0    0         "
      ]
     },
     "metadata": {},
     "output_type": "display_data"
    }
   ],
   "source": [
    "rbind(df, c(0, 0, 0))"
   ]
  },
  {
   "cell_type": "code",
   "execution_count": null,
   "id": "0be88b9e",
   "metadata": {},
   "outputs": [],
   "source": []
  }
 ],
 "metadata": {
  "kernelspec": {
   "display_name": "R",
   "language": "R",
   "name": "ir"
  },
  "language_info": {
   "codemirror_mode": "r",
   "file_extension": ".r",
   "mimetype": "text/x-r-source",
   "name": "R",
   "pygments_lexer": "r",
   "version": "4.1.0"
  }
 },
 "nbformat": 4,
 "nbformat_minor": 5
}
