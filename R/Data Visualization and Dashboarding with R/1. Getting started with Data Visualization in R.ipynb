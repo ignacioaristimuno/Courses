{
 "cells": [
  {
   "cell_type": "markdown",
   "id": "2c1b9243",
   "metadata": {},
   "source": [
    "# Getting started with Data Visualization in R\n",
    "\n",
    "This notebooks is based on the first course of the  [Data Visualization & Dashboarding with R Specialization](https://www.coursera.org/specializations/jhu-data-visualization-dashboarding-with-r) by the University of John Hopkins.\n"
   ]
  },
  {
   "cell_type": "markdown",
   "id": "3800a226",
   "metadata": {},
   "source": [
    "## 1. Managing and importing\n",
    "\n",
    "#### 1. DataFrames\n",
    "\n",
    "From the perspective of making visualizations with data you will use a DataFrame very often. A data frame is basically like a table or a spreadsheet that can be saved as an object into R's environment. Data frames can have column headers or column titles, and you can do different kinds of operations to add columns or rows to a data frame.\n",
    "\n",
    "You create a data frame in R by combining vectors together. For example:"
   ]
  },
  {
   "cell_type": "code",
   "execution_count": 1,
   "id": "64ee0879",
   "metadata": {},
   "outputs": [
    {
     "data": {
      "text/html": [
       "<table class=\"dataframe\">\n",
       "<caption>A data.frame: 5 × 2</caption>\n",
       "<thead>\n",
       "\t<tr><th scope=col>vec_1</th><th scope=col>vec_2</th></tr>\n",
       "\t<tr><th scope=col>&lt;dbl&gt;</th><th scope=col>&lt;dbl&gt;</th></tr>\n",
       "</thead>\n",
       "<tbody>\n",
       "\t<tr><td>1</td><td> 2</td></tr>\n",
       "\t<tr><td>3</td><td> 4</td></tr>\n",
       "\t<tr><td>5</td><td> 6</td></tr>\n",
       "\t<tr><td>7</td><td> 8</td></tr>\n",
       "\t<tr><td>9</td><td>10</td></tr>\n",
       "</tbody>\n",
       "</table>\n"
      ],
      "text/latex": [
       "A data.frame: 5 × 2\n",
       "\\begin{tabular}{ll}\n",
       " vec\\_1 & vec\\_2\\\\\n",
       " <dbl> & <dbl>\\\\\n",
       "\\hline\n",
       "\t 1 &  2\\\\\n",
       "\t 3 &  4\\\\\n",
       "\t 5 &  6\\\\\n",
       "\t 7 &  8\\\\\n",
       "\t 9 & 10\\\\\n",
       "\\end{tabular}\n"
      ],
      "text/markdown": [
       "\n",
       "A data.frame: 5 × 2\n",
       "\n",
       "| vec_1 &lt;dbl&gt; | vec_2 &lt;dbl&gt; |\n",
       "|---|---|\n",
       "| 1 |  2 |\n",
       "| 3 |  4 |\n",
       "| 5 |  6 |\n",
       "| 7 |  8 |\n",
       "| 9 | 10 |\n",
       "\n"
      ],
      "text/plain": [
       "  vec_1 vec_2\n",
       "1 1      2   \n",
       "2 3      4   \n",
       "3 5      6   \n",
       "4 7      8   \n",
       "5 9     10   "
      ]
     },
     "metadata": {},
     "output_type": "display_data"
    }
   ],
   "source": [
    "# Defining vectors\n",
    "vec_1 = c(1, 3, 5, 7, 9)\n",
    "vec_2 = c(2, 4, 6, 8, 10)\n",
    "\n",
    "# Creating DataFrame\n",
    "df = data.frame(vec_1, vec_2)\n",
    "\n",
    "# Show df\n",
    "df"
   ]
  },
  {
   "cell_type": "markdown",
   "id": "0d7eb813",
   "metadata": {},
   "source": [
    "Selecting the element in the 4th row and 2nd column:"
   ]
  },
  {
   "cell_type": "code",
   "execution_count": 2,
   "id": "13c911e9",
   "metadata": {},
   "outputs": [
    {
     "data": {
      "text/html": [
       "8"
      ],
      "text/latex": [
       "8"
      ],
      "text/markdown": [
       "8"
      ],
      "text/plain": [
       "[1] 8"
      ]
     },
     "metadata": {},
     "output_type": "display_data"
    }
   ],
   "source": [
    "df[4,2]"
   ]
  },
  {
   "cell_type": "markdown",
   "id": "2fc08687",
   "metadata": {},
   "source": [
    "And it's possible to fill a new column with a value, without needing to create a vector"
   ]
  },
  {
   "cell_type": "code",
   "execution_count": 3,
   "id": "e2f23941",
   "metadata": {},
   "outputs": [],
   "source": [
    "df$filled_col = 7"
   ]
  },
  {
   "cell_type": "code",
   "execution_count": 4,
   "id": "25ffdcbb",
   "metadata": {},
   "outputs": [
    {
     "data": {
      "text/html": [
       "<table class=\"dataframe\">\n",
       "<caption>A data.frame: 5 × 3</caption>\n",
       "<thead>\n",
       "\t<tr><th scope=col>vec_1</th><th scope=col>vec_2</th><th scope=col>filled_col</th></tr>\n",
       "\t<tr><th scope=col>&lt;dbl&gt;</th><th scope=col>&lt;dbl&gt;</th><th scope=col>&lt;dbl&gt;</th></tr>\n",
       "</thead>\n",
       "<tbody>\n",
       "\t<tr><td>1</td><td> 2</td><td>7</td></tr>\n",
       "\t<tr><td>3</td><td> 4</td><td>7</td></tr>\n",
       "\t<tr><td>5</td><td> 6</td><td>7</td></tr>\n",
       "\t<tr><td>7</td><td> 8</td><td>7</td></tr>\n",
       "\t<tr><td>9</td><td>10</td><td>7</td></tr>\n",
       "</tbody>\n",
       "</table>\n"
      ],
      "text/latex": [
       "A data.frame: 5 × 3\n",
       "\\begin{tabular}{lll}\n",
       " vec\\_1 & vec\\_2 & filled\\_col\\\\\n",
       " <dbl> & <dbl> & <dbl>\\\\\n",
       "\\hline\n",
       "\t 1 &  2 & 7\\\\\n",
       "\t 3 &  4 & 7\\\\\n",
       "\t 5 &  6 & 7\\\\\n",
       "\t 7 &  8 & 7\\\\\n",
       "\t 9 & 10 & 7\\\\\n",
       "\\end{tabular}\n"
      ],
      "text/markdown": [
       "\n",
       "A data.frame: 5 × 3\n",
       "\n",
       "| vec_1 &lt;dbl&gt; | vec_2 &lt;dbl&gt; | filled_col &lt;dbl&gt; |\n",
       "|---|---|---|\n",
       "| 1 |  2 | 7 |\n",
       "| 3 |  4 | 7 |\n",
       "| 5 |  6 | 7 |\n",
       "| 7 |  8 | 7 |\n",
       "| 9 | 10 | 7 |\n",
       "\n"
      ],
      "text/plain": [
       "  vec_1 vec_2 filled_col\n",
       "1 1      2    7         \n",
       "2 3      4    7         \n",
       "3 5      6    7         \n",
       "4 7      8    7         \n",
       "5 9     10    7         "
      ]
     },
     "metadata": {},
     "output_type": "display_data"
    }
   ],
   "source": [
    "df"
   ]
  },
  {
   "cell_type": "markdown",
   "id": "59dedb24",
   "metadata": {},
   "source": [
    "To get de size of the dataframe, you can use the `dim()` function"
   ]
  },
  {
   "cell_type": "code",
   "execution_count": 5,
   "id": "1914872c",
   "metadata": {},
   "outputs": [
    {
     "data": {
      "text/html": [
       "<style>\n",
       ".list-inline {list-style: none; margin:0; padding: 0}\n",
       ".list-inline>li {display: inline-block}\n",
       ".list-inline>li:not(:last-child)::after {content: \"\\00b7\"; padding: 0 .5ex}\n",
       "</style>\n",
       "<ol class=list-inline><li>5</li><li>3</li></ol>\n"
      ],
      "text/latex": [
       "\\begin{enumerate*}\n",
       "\\item 5\n",
       "\\item 3\n",
       "\\end{enumerate*}\n"
      ],
      "text/markdown": [
       "1. 5\n",
       "2. 3\n",
       "\n",
       "\n"
      ],
      "text/plain": [
       "[1] 5 3"
      ]
     },
     "metadata": {},
     "output_type": "display_data"
    }
   ],
   "source": [
    "dim(df)"
   ]
  },
  {
   "cell_type": "markdown",
   "id": "b3e53683",
   "metadata": {},
   "source": [
    "Which also can be obtained by using the `nrow` and `ncol()` functions:"
   ]
  },
  {
   "cell_type": "code",
   "execution_count": 7,
   "id": "da396567",
   "metadata": {},
   "outputs": [
    {
     "data": {
      "text/html": [
       "5"
      ],
      "text/latex": [
       "5"
      ],
      "text/markdown": [
       "5"
      ],
      "text/plain": [
       "[1] 5"
      ]
     },
     "metadata": {},
     "output_type": "display_data"
    },
    {
     "data": {
      "text/html": [
       "3"
      ],
      "text/latex": [
       "3"
      ],
      "text/markdown": [
       "3"
      ],
      "text/plain": [
       "[1] 3"
      ]
     },
     "metadata": {},
     "output_type": "display_data"
    }
   ],
   "source": [
    "nrow(df)\n",
    "ncol(df)"
   ]
  },
  {
   "cell_type": "markdown",
   "id": "3a29628f",
   "metadata": {},
   "source": [
    "For appending new rows you can use the `rbind()` and new columns with `cbind()`"
   ]
  },
  {
   "cell_type": "code",
   "execution_count": 9,
   "id": "701fcca4",
   "metadata": {},
   "outputs": [
    {
     "data": {
      "text/html": [
       "<table class=\"dataframe\">\n",
       "<caption>A data.frame: 6 × 3</caption>\n",
       "<thead>\n",
       "\t<tr><th scope=col>vec_1</th><th scope=col>vec_2</th><th scope=col>filled_col</th></tr>\n",
       "\t<tr><th scope=col>&lt;dbl&gt;</th><th scope=col>&lt;dbl&gt;</th><th scope=col>&lt;dbl&gt;</th></tr>\n",
       "</thead>\n",
       "<tbody>\n",
       "\t<tr><td>1</td><td> 2</td><td>7</td></tr>\n",
       "\t<tr><td>3</td><td> 4</td><td>7</td></tr>\n",
       "\t<tr><td>5</td><td> 6</td><td>7</td></tr>\n",
       "\t<tr><td>7</td><td> 8</td><td>7</td></tr>\n",
       "\t<tr><td>9</td><td>10</td><td>7</td></tr>\n",
       "\t<tr><td>0</td><td> 0</td><td>0</td></tr>\n",
       "</tbody>\n",
       "</table>\n"
      ],
      "text/latex": [
       "A data.frame: 6 × 3\n",
       "\\begin{tabular}{lll}\n",
       " vec\\_1 & vec\\_2 & filled\\_col\\\\\n",
       " <dbl> & <dbl> & <dbl>\\\\\n",
       "\\hline\n",
       "\t 1 &  2 & 7\\\\\n",
       "\t 3 &  4 & 7\\\\\n",
       "\t 5 &  6 & 7\\\\\n",
       "\t 7 &  8 & 7\\\\\n",
       "\t 9 & 10 & 7\\\\\n",
       "\t 0 &  0 & 0\\\\\n",
       "\\end{tabular}\n"
      ],
      "text/markdown": [
       "\n",
       "A data.frame: 6 × 3\n",
       "\n",
       "| vec_1 &lt;dbl&gt; | vec_2 &lt;dbl&gt; | filled_col &lt;dbl&gt; |\n",
       "|---|---|---|\n",
       "| 1 |  2 | 7 |\n",
       "| 3 |  4 | 7 |\n",
       "| 5 |  6 | 7 |\n",
       "| 7 |  8 | 7 |\n",
       "| 9 | 10 | 7 |\n",
       "| 0 |  0 | 0 |\n",
       "\n"
      ],
      "text/plain": [
       "  vec_1 vec_2 filled_col\n",
       "1 1      2    7         \n",
       "2 3      4    7         \n",
       "3 5      6    7         \n",
       "4 7      8    7         \n",
       "5 9     10    7         \n",
       "6 0      0    0         "
      ]
     },
     "metadata": {},
     "output_type": "display_data"
    }
   ],
   "source": [
    "rbind(df, c(0, 0, 0))"
   ]
  },
  {
   "cell_type": "markdown",
   "id": "f86b21e7",
   "metadata": {},
   "source": [
    "#### 1.2 Importing data\n",
    "\n",
    "We are gonna work with tabular data, with can be imported with the `read.csv()` function in the case of a .csv file and then saving it with the `write.csv()` function.\n",
    "\n",
    "Some useful functions for nt expliciting a full file path you can use relative paths with the help of `getwd()` for looking at the current working directory and `setwd()` for setting a new working directory. For example:"
   ]
  },
  {
   "cell_type": "code",
   "execution_count": 1,
   "id": "40bf7e69",
   "metadata": {},
   "outputs": [
    {
     "data": {
      "text/html": [
       "'C:/Users/ignia/Documents/Courses/R/Data Visualization and Dashboarding with R'"
      ],
      "text/latex": [
       "'C:/Users/ignia/Documents/Courses/R/Data Visualization and Dashboarding with R'"
      ],
      "text/markdown": [
       "'C:/Users/ignia/Documents/Courses/R/Data Visualization and Dashboarding with R'"
      ],
      "text/plain": [
       "[1] \"C:/Users/ignia/Documents/Courses/R/Data Visualization and Dashboarding with R\""
      ]
     },
     "metadata": {},
     "output_type": "display_data"
    }
   ],
   "source": [
    "getwd()"
   ]
  },
  {
   "cell_type": "markdown",
   "id": "2c6fbef0",
   "metadata": {},
   "source": [
    "## 2. Base R visualizations\n",
    "\n",
    "We can make a `univariate plot` which plots the distribution of values of a single variable, or a single vector in R. Or we can make a `multivariate plot`, which plots the values of two or more values in relation to each other.\n",
    "\n",
    "A very simple univariate plot is a histogram, which is basically just a bar chart of frequencies for different values of the vector, and we can achieve this in R by using the `hist()` function.\n"
   ]
  },
  {
   "cell_type": "code",
   "execution_count": 7,
   "id": "68b2d9b3",
   "metadata": {},
   "outputs": [
    {
     "data": {
      "image/png": "[encoded data removed]",
      "text/plain": [
       "Plot with title \"Histogram of vec_1\""
      ]
     },
     "metadata": {
      "image/png": {
       "height": 420,
       "width": 420
      }
     },
     "output_type": "display_data"
    }
   ],
   "source": [
    "vec_1 = c(1, 1, 1, 1, 2, 2, 2, 3, 3, 4, 5, 5, 5, 6, 6, 6, 6, 6, 6, 7)\n",
    "\n",
    "hist(vec_1)"
   ]
  },
  {
   "cell_type": "markdown",
   "id": "f8e28c94",
   "metadata": {},
   "source": [
    "Another way to visualize a distribution numbers is with a box plot, and we can create a box plot with the `boxplot()` function. You want to give a vector of numbers to the box plot, and it will show you the minimum, maximum, median, and first and third quartiles for that vector. If you want to display more than one box plot, so for more than one vector, you can just feed two or more vectors into the box plot function."
   ]
  },
  {
   "cell_type": "code",
   "execution_count": 8,
   "id": "547df64e",
   "metadata": {},
   "outputs": [
    {
     "data": {
      "image/png": "[encoded data removed]",
      "text/plain": [
       "plot without title"
      ]
     },
     "metadata": {
      "image/png": {
       "height": 420,
       "width": 420
      }
     },
     "output_type": "display_data"
    }
   ],
   "source": [
    "vec_2 = c(12, 5, 8, 3, 0, 5, 4, 3, 6, 7, 14, 19, 4, 2)\n",
    "\n",
    "boxplot(vec_1, vec_2)"
   ]
  },
  {
   "cell_type": "markdown",
   "id": "7793e2bf",
   "metadata": {},
   "source": [
    "Moving into the world of bivariate statistics, you can create a scatterplot, and let's make some fake data to demonstrate how to do this. With `rnorm()`, `rpois()`, `rbinom()`,and `runif()`, you can tell R to pull random deviates from these different statistical distributions, given a set of parameters.\n",
    "\n",
    "These functions stand for: random Normal, random Poisson, random Binomial and random Uniform."
   ]
  },
  {
   "cell_type": "code",
   "execution_count": 25,
   "id": "6b243b1a",
   "metadata": {},
   "outputs": [
    {
     "data": {
      "image/png": "[encoded data removed]",
      "text/plain": [
       "Plot with title \"Title of the plot\""
      ]
     },
     "metadata": {
      "image/png": {
       "height": 420,
       "width": 420
      }
     },
     "output_type": "display_data"
    }
   ],
   "source": [
    "plot(runif(50, 0, 100), runif(50, 0, 200),\n",
    "    main = \"Title of the plot\",\n",
    "    xlab = \"X label title\",\n",
    "    ylab = \"Y label title\")"
   ]
  },
  {
   "cell_type": "code",
   "execution_count": 26,
   "id": "97169797",
   "metadata": {},
   "outputs": [
    {
     "data": {
      "image/png": "[encoded data removed]",
      "text/plain": [
       "Plot with title \"Histogram of rnorm(1000, 0, 10)\""
      ]
     },
     "metadata": {
      "image/png": {
       "height": 420,
       "width": 420
      }
     },
     "output_type": "display_data"
    }
   ],
   "source": [
    "hist(rnorm(1000, 0, 10))"
   ]
  },
  {
   "cell_type": "markdown",
   "id": "324e1901",
   "metadata": {},
   "source": [
    "## 3. Introduction to tidyverse\n",
    "\n",
    "#### 3.1 Introductino to tidyverse\n",
    "\n",
    "It's very important to understand that when you're wrangling data with R and you're reordering it and reshaping it to meet your needs, there's almost always more than one way to achieve the same outcome to get what you want. R has a bunch of different tools built into base R installation, and then developers have come along and added even more functions.\n",
    "\n",
    "We're just going to focus on commands that are part of what's called the tidyverse ecosystem. The tidyverse ecosystem is a set of R packages that include many different commands for managing data and making visualizations from that data. A first great resource to look at is the [tidyverse website](https://www.tidyverse.org/packages/) itself.\n",
    "\n",
    "\n",
    "#### 3.2  Data import and structure\n",
    "\n",
    "In tidyverse, we can read a .csv file with the `read_csv()` function that is similar to the `read.csv()` but with the difference that returns the table in the form of a `tibble` instead of a dataframe. A tibble is a specialized form of a dataframe that has several desired properties that also helps you take advantage on preventing to make some mistakes while wrangling data.\n"
   ]
  },
  {
   "cell_type": "code",
   "execution_count": 27,
   "id": "ef22a4a6",
   "metadata": {},
   "outputs": [
    {
     "name": "stderr",
     "output_type": "stream",
     "text": [
      "-- \u001b[1mAttaching packages\u001b[22m ------------------------------------------------------------------------------- tidyverse 1.3.1 --\n",
      "\n",
      "\u001b[32mv\u001b[39m \u001b[34mggplot2\u001b[39m 3.3.5     \u001b[32mv\u001b[39m \u001b[34mpurrr  \u001b[39m 0.3.4\n",
      "\u001b[32mv\u001b[39m \u001b[34mtibble \u001b[39m 3.1.2     \u001b[32mv\u001b[39m \u001b[34mdplyr  \u001b[39m 1.0.7\n",
      "\u001b[32mv\u001b[39m \u001b[34mtidyr  \u001b[39m 1.1.3     \u001b[32mv\u001b[39m \u001b[34mstringr\u001b[39m 1.4.0\n",
      "\u001b[32mv\u001b[39m \u001b[34mreadr  \u001b[39m 1.4.0     \u001b[32mv\u001b[39m \u001b[34mforcats\u001b[39m 0.5.1\n",
      "\n",
      "-- \u001b[1mConflicts\u001b[22m ---------------------------------------------------------------------------------- tidyverse_conflicts() --\n",
      "\u001b[31mx\u001b[39m \u001b[34mdplyr\u001b[39m::\u001b[32mfilter()\u001b[39m masks \u001b[34mstats\u001b[39m::filter()\n",
      "\u001b[31mx\u001b[39m \u001b[34mdplyr\u001b[39m::\u001b[32mlag()\u001b[39m    masks \u001b[34mstats\u001b[39m::lag()\n",
      "\n"
     ]
    }
   ],
   "source": [
    "# Import tidyverse\n",
    "library(tidyverse)"
   ]
  },
  {
   "cell_type": "code",
   "execution_count": 28,
   "id": "9bf45baa",
   "metadata": {},
   "outputs": [
    {
     "data": {
      "text/html": [
       "'C:/Users/ignia/Documents/Courses/R/Data Visualization and Dashboarding with R'"
      ],
      "text/latex": [
       "'C:/Users/ignia/Documents/Courses/R/Data Visualization and Dashboarding with R'"
      ],
      "text/markdown": [
       "'C:/Users/ignia/Documents/Courses/R/Data Visualization and Dashboarding with R'"
      ],
      "text/plain": [
       "[1] \"C:/Users/ignia/Documents/Courses/R/Data Visualization and Dashboarding with R\""
      ]
     },
     "metadata": {},
     "output_type": "display_data"
    }
   ],
   "source": [
    "# Look at current working directory\n",
    "getwd()"
   ]
  },
  {
   "cell_type": "code",
   "execution_count": 58,
   "id": "2ff3bf9c",
   "metadata": {},
   "outputs": [
    {
     "name": "stderr",
     "output_type": "stream",
     "text": [
      "\n",
      "\u001b[36m--\u001b[39m \u001b[1m\u001b[1mColumn specification\u001b[1m\u001b[22m \u001b[36m------------------------------------------------------------------------------------------------\u001b[39m\n",
      "cols(\n",
      "  age = \u001b[32mcol_double()\u001b[39m,\n",
      "  sex = \u001b[32mcol_double()\u001b[39m,\n",
      "  cp = \u001b[32mcol_double()\u001b[39m,\n",
      "  trestbps = \u001b[32mcol_double()\u001b[39m,\n",
      "  chol = \u001b[32mcol_double()\u001b[39m,\n",
      "  fbs = \u001b[32mcol_double()\u001b[39m,\n",
      "  restecg = \u001b[32mcol_double()\u001b[39m,\n",
      "  thalach = \u001b[32mcol_double()\u001b[39m,\n",
      "  exang = \u001b[32mcol_double()\u001b[39m,\n",
      "  oldpeak = \u001b[32mcol_double()\u001b[39m,\n",
      "  slope = \u001b[32mcol_double()\u001b[39m,\n",
      "  ca = \u001b[32mcol_double()\u001b[39m,\n",
      "  thal = \u001b[32mcol_double()\u001b[39m,\n",
      "  target = \u001b[32mcol_double()\u001b[39m\n",
      ")\n",
      "\n",
      "\n"
     ]
    },
    {
     "data": {
      "text/html": [
       "<table class=\"dataframe\">\n",
       "<caption>A tibble: 6 × 14</caption>\n",
       "<thead>\n",
       "\t<tr><th scope=col>age</th><th scope=col>sex</th><th scope=col>cp</th><th scope=col>trestbps</th><th scope=col>chol</th><th scope=col>fbs</th><th scope=col>restecg</th><th scope=col>thalach</th><th scope=col>exang</th><th scope=col>oldpeak</th><th scope=col>slope</th><th scope=col>ca</th><th scope=col>thal</th><th scope=col>target</th></tr>\n",
       "\t<tr><th scope=col>&lt;dbl&gt;</th><th scope=col>&lt;dbl&gt;</th><th scope=col>&lt;dbl&gt;</th><th scope=col>&lt;dbl&gt;</th><th scope=col>&lt;dbl&gt;</th><th scope=col>&lt;dbl&gt;</th><th scope=col>&lt;dbl&gt;</th><th scope=col>&lt;dbl&gt;</th><th scope=col>&lt;dbl&gt;</th><th scope=col>&lt;dbl&gt;</th><th scope=col>&lt;dbl&gt;</th><th scope=col>&lt;dbl&gt;</th><th scope=col>&lt;dbl&gt;</th><th scope=col>&lt;dbl&gt;</th></tr>\n",
       "</thead>\n",
       "<tbody>\n",
       "\t<tr><td>63</td><td>1</td><td>3</td><td>145</td><td>233</td><td>1</td><td>0</td><td>150</td><td>0</td><td>2.3</td><td>0</td><td>0</td><td>1</td><td>1</td></tr>\n",
       "\t<tr><td>37</td><td>1</td><td>2</td><td>130</td><td>250</td><td>0</td><td>1</td><td>187</td><td>0</td><td>3.5</td><td>0</td><td>0</td><td>2</td><td>1</td></tr>\n",
       "\t<tr><td>41</td><td>0</td><td>1</td><td>130</td><td>204</td><td>0</td><td>0</td><td>172</td><td>0</td><td>1.4</td><td>2</td><td>0</td><td>2</td><td>1</td></tr>\n",
       "\t<tr><td>56</td><td>1</td><td>1</td><td>120</td><td>236</td><td>0</td><td>1</td><td>178</td><td>0</td><td>0.8</td><td>2</td><td>0</td><td>2</td><td>1</td></tr>\n",
       "\t<tr><td>57</td><td>0</td><td>0</td><td>120</td><td>354</td><td>0</td><td>1</td><td>163</td><td>1</td><td>0.6</td><td>2</td><td>0</td><td>2</td><td>1</td></tr>\n",
       "\t<tr><td>57</td><td>1</td><td>0</td><td>140</td><td>192</td><td>0</td><td>1</td><td>148</td><td>0</td><td>0.4</td><td>1</td><td>0</td><td>1</td><td>1</td></tr>\n",
       "</tbody>\n",
       "</table>\n"
      ],
      "text/latex": [
       "A tibble: 6 × 14\n",
       "\\begin{tabular}{llllllllllllll}\n",
       " age & sex & cp & trestbps & chol & fbs & restecg & thalach & exang & oldpeak & slope & ca & thal & target\\\\\n",
       " <dbl> & <dbl> & <dbl> & <dbl> & <dbl> & <dbl> & <dbl> & <dbl> & <dbl> & <dbl> & <dbl> & <dbl> & <dbl> & <dbl>\\\\\n",
       "\\hline\n",
       "\t 63 & 1 & 3 & 145 & 233 & 1 & 0 & 150 & 0 & 2.3 & 0 & 0 & 1 & 1\\\\\n",
       "\t 37 & 1 & 2 & 130 & 250 & 0 & 1 & 187 & 0 & 3.5 & 0 & 0 & 2 & 1\\\\\n",
       "\t 41 & 0 & 1 & 130 & 204 & 0 & 0 & 172 & 0 & 1.4 & 2 & 0 & 2 & 1\\\\\n",
       "\t 56 & 1 & 1 & 120 & 236 & 0 & 1 & 178 & 0 & 0.8 & 2 & 0 & 2 & 1\\\\\n",
       "\t 57 & 0 & 0 & 120 & 354 & 0 & 1 & 163 & 1 & 0.6 & 2 & 0 & 2 & 1\\\\\n",
       "\t 57 & 1 & 0 & 140 & 192 & 0 & 1 & 148 & 0 & 0.4 & 1 & 0 & 1 & 1\\\\\n",
       "\\end{tabular}\n"
      ],
      "text/markdown": [
       "\n",
       "A tibble: 6 × 14\n",
       "\n",
       "| age &lt;dbl&gt; | sex &lt;dbl&gt; | cp &lt;dbl&gt; | trestbps &lt;dbl&gt; | chol &lt;dbl&gt; | fbs &lt;dbl&gt; | restecg &lt;dbl&gt; | thalach &lt;dbl&gt; | exang &lt;dbl&gt; | oldpeak &lt;dbl&gt; | slope &lt;dbl&gt; | ca &lt;dbl&gt; | thal &lt;dbl&gt; | target &lt;dbl&gt; |\n",
       "|---|---|---|---|---|---|---|---|---|---|---|---|---|---|\n",
       "| 63 | 1 | 3 | 145 | 233 | 1 | 0 | 150 | 0 | 2.3 | 0 | 0 | 1 | 1 |\n",
       "| 37 | 1 | 2 | 130 | 250 | 0 | 1 | 187 | 0 | 3.5 | 0 | 0 | 2 | 1 |\n",
       "| 41 | 0 | 1 | 130 | 204 | 0 | 0 | 172 | 0 | 1.4 | 2 | 0 | 2 | 1 |\n",
       "| 56 | 1 | 1 | 120 | 236 | 0 | 1 | 178 | 0 | 0.8 | 2 | 0 | 2 | 1 |\n",
       "| 57 | 0 | 0 | 120 | 354 | 0 | 1 | 163 | 1 | 0.6 | 2 | 0 | 2 | 1 |\n",
       "| 57 | 1 | 0 | 140 | 192 | 0 | 1 | 148 | 0 | 0.4 | 1 | 0 | 1 | 1 |\n",
       "\n"
      ],
      "text/plain": [
       "  age sex cp trestbps chol fbs restecg thalach exang oldpeak slope ca thal\n",
       "1 63  1   3  145      233  1   0       150     0     2.3     0     0  1   \n",
       "2 37  1   2  130      250  0   1       187     0     3.5     0     0  2   \n",
       "3 41  0   1  130      204  0   0       172     0     1.4     2     0  2   \n",
       "4 56  1   1  120      236  0   1       178     0     0.8     2     0  2   \n",
       "5 57  0   0  120      354  0   1       163     1     0.6     2     0  2   \n",
       "6 57  1   0  140      192  0   1       148     0     0.4     1     0  1   \n",
       "  target\n",
       "1 1     \n",
       "2 1     \n",
       "3 1     \n",
       "4 1     \n",
       "5 1     \n",
       "6 1     "
      ]
     },
     "metadata": {},
     "output_type": "display_data"
    }
   ],
   "source": [
    "# Read .csv file\n",
    "df = read_csv('datasets/heart.csv')\n",
    "head(df)"
   ]
  },
  {
   "cell_type": "code",
   "execution_count": 31,
   "id": "20447883",
   "metadata": {},
   "outputs": [
    {
     "data": {
      "text/html": [
       "<style>\n",
       ".list-inline {list-style: none; margin:0; padding: 0}\n",
       ".list-inline>li {display: inline-block}\n",
       ".list-inline>li:not(:last-child)::after {content: \"\\00b7\"; padding: 0 .5ex}\n",
       "</style>\n",
       "<ol class=list-inline><li>'spec_tbl_df'</li><li>'tbl_df'</li><li>'tbl'</li><li>'data.frame'</li></ol>\n"
      ],
      "text/latex": [
       "\\begin{enumerate*}\n",
       "\\item 'spec\\_tbl\\_df'\n",
       "\\item 'tbl\\_df'\n",
       "\\item 'tbl'\n",
       "\\item 'data.frame'\n",
       "\\end{enumerate*}\n"
      ],
      "text/markdown": [
       "1. 'spec_tbl_df'\n",
       "2. 'tbl_df'\n",
       "3. 'tbl'\n",
       "4. 'data.frame'\n",
       "\n",
       "\n"
      ],
      "text/plain": [
       "[1] \"spec_tbl_df\" \"tbl_df\"      \"tbl\"         \"data.frame\" "
      ]
     },
     "metadata": {},
     "output_type": "display_data"
    }
   ],
   "source": [
    "class(df)"
   ]
  },
  {
   "cell_type": "markdown",
   "id": "30c432f6",
   "metadata": {},
   "source": [
    "For dropping rows that have blank values, we can use the `drop_na()` function"
   ]
  },
  {
   "cell_type": "markdown",
   "id": "fc910784",
   "metadata": {},
   "source": [
    "#### 3.3 Manipulating data\n",
    "\n",
    "We can pull certain information from a bigger spreadsheet or data table based on some set of criteria with the `filter()` command to select rows of the data and `select()` to grab certain columns of the data.\n"
   ]
  },
  {
   "cell_type": "code",
   "execution_count": 34,
   "id": "dc5daebb",
   "metadata": {},
   "outputs": [
    {
     "data": {
      "text/html": [
       "<table class=\"dataframe\">\n",
       "<caption>A tibble: 6 × 14</caption>\n",
       "<thead>\n",
       "\t<tr><th scope=col>age</th><th scope=col>sex</th><th scope=col>cp</th><th scope=col>trestbps</th><th scope=col>chol</th><th scope=col>fbs</th><th scope=col>restecg</th><th scope=col>thalach</th><th scope=col>exang</th><th scope=col>oldpeak</th><th scope=col>slope</th><th scope=col>ca</th><th scope=col>thal</th><th scope=col>target</th></tr>\n",
       "\t<tr><th scope=col>&lt;dbl&gt;</th><th scope=col>&lt;dbl&gt;</th><th scope=col>&lt;dbl&gt;</th><th scope=col>&lt;dbl&gt;</th><th scope=col>&lt;dbl&gt;</th><th scope=col>&lt;dbl&gt;</th><th scope=col>&lt;dbl&gt;</th><th scope=col>&lt;dbl&gt;</th><th scope=col>&lt;dbl&gt;</th><th scope=col>&lt;dbl&gt;</th><th scope=col>&lt;dbl&gt;</th><th scope=col>&lt;dbl&gt;</th><th scope=col>&lt;dbl&gt;</th><th scope=col>&lt;dbl&gt;</th></tr>\n",
       "</thead>\n",
       "<tbody>\n",
       "\t<tr><td>63</td><td>1</td><td>3</td><td>145</td><td>233</td><td>1</td><td>0</td><td>150</td><td>0</td><td>2.3</td><td>0</td><td>0</td><td>1</td><td>1</td></tr>\n",
       "\t<tr><td>37</td><td>1</td><td>2</td><td>130</td><td>250</td><td>0</td><td>1</td><td>187</td><td>0</td><td>3.5</td><td>0</td><td>0</td><td>2</td><td>1</td></tr>\n",
       "\t<tr><td>56</td><td>1</td><td>1</td><td>120</td><td>236</td><td>0</td><td>1</td><td>178</td><td>0</td><td>0.8</td><td>2</td><td>0</td><td>2</td><td>1</td></tr>\n",
       "\t<tr><td>57</td><td>1</td><td>0</td><td>140</td><td>192</td><td>0</td><td>1</td><td>148</td><td>0</td><td>0.4</td><td>1</td><td>0</td><td>1</td><td>1</td></tr>\n",
       "\t<tr><td>44</td><td>1</td><td>1</td><td>120</td><td>263</td><td>0</td><td>1</td><td>173</td><td>0</td><td>0.0</td><td>2</td><td>0</td><td>3</td><td>1</td></tr>\n",
       "\t<tr><td>52</td><td>1</td><td>2</td><td>172</td><td>199</td><td>1</td><td>1</td><td>162</td><td>0</td><td>0.5</td><td>2</td><td>0</td><td>3</td><td>1</td></tr>\n",
       "</tbody>\n",
       "</table>\n"
      ],
      "text/latex": [
       "A tibble: 6 × 14\n",
       "\\begin{tabular}{llllllllllllll}\n",
       " age & sex & cp & trestbps & chol & fbs & restecg & thalach & exang & oldpeak & slope & ca & thal & target\\\\\n",
       " <dbl> & <dbl> & <dbl> & <dbl> & <dbl> & <dbl> & <dbl> & <dbl> & <dbl> & <dbl> & <dbl> & <dbl> & <dbl> & <dbl>\\\\\n",
       "\\hline\n",
       "\t 63 & 1 & 3 & 145 & 233 & 1 & 0 & 150 & 0 & 2.3 & 0 & 0 & 1 & 1\\\\\n",
       "\t 37 & 1 & 2 & 130 & 250 & 0 & 1 & 187 & 0 & 3.5 & 0 & 0 & 2 & 1\\\\\n",
       "\t 56 & 1 & 1 & 120 & 236 & 0 & 1 & 178 & 0 & 0.8 & 2 & 0 & 2 & 1\\\\\n",
       "\t 57 & 1 & 0 & 140 & 192 & 0 & 1 & 148 & 0 & 0.4 & 1 & 0 & 1 & 1\\\\\n",
       "\t 44 & 1 & 1 & 120 & 263 & 0 & 1 & 173 & 0 & 0.0 & 2 & 0 & 3 & 1\\\\\n",
       "\t 52 & 1 & 2 & 172 & 199 & 1 & 1 & 162 & 0 & 0.5 & 2 & 0 & 3 & 1\\\\\n",
       "\\end{tabular}\n"
      ],
      "text/markdown": [
       "\n",
       "A tibble: 6 × 14\n",
       "\n",
       "| age &lt;dbl&gt; | sex &lt;dbl&gt; | cp &lt;dbl&gt; | trestbps &lt;dbl&gt; | chol &lt;dbl&gt; | fbs &lt;dbl&gt; | restecg &lt;dbl&gt; | thalach &lt;dbl&gt; | exang &lt;dbl&gt; | oldpeak &lt;dbl&gt; | slope &lt;dbl&gt; | ca &lt;dbl&gt; | thal &lt;dbl&gt; | target &lt;dbl&gt; |\n",
       "|---|---|---|---|---|---|---|---|---|---|---|---|---|---|\n",
       "| 63 | 1 | 3 | 145 | 233 | 1 | 0 | 150 | 0 | 2.3 | 0 | 0 | 1 | 1 |\n",
       "| 37 | 1 | 2 | 130 | 250 | 0 | 1 | 187 | 0 | 3.5 | 0 | 0 | 2 | 1 |\n",
       "| 56 | 1 | 1 | 120 | 236 | 0 | 1 | 178 | 0 | 0.8 | 2 | 0 | 2 | 1 |\n",
       "| 57 | 1 | 0 | 140 | 192 | 0 | 1 | 148 | 0 | 0.4 | 1 | 0 | 1 | 1 |\n",
       "| 44 | 1 | 1 | 120 | 263 | 0 | 1 | 173 | 0 | 0.0 | 2 | 0 | 3 | 1 |\n",
       "| 52 | 1 | 2 | 172 | 199 | 1 | 1 | 162 | 0 | 0.5 | 2 | 0 | 3 | 1 |\n",
       "\n"
      ],
      "text/plain": [
       "  age sex cp trestbps chol fbs restecg thalach exang oldpeak slope ca thal\n",
       "1 63  1   3  145      233  1   0       150     0     2.3     0     0  1   \n",
       "2 37  1   2  130      250  0   1       187     0     3.5     0     0  2   \n",
       "3 56  1   1  120      236  0   1       178     0     0.8     2     0  2   \n",
       "4 57  1   0  140      192  0   1       148     0     0.4     1     0  1   \n",
       "5 44  1   1  120      263  0   1       173     0     0.0     2     0  3   \n",
       "6 52  1   2  172      199  1   1       162     0     0.5     2     0  3   \n",
       "  target\n",
       "1 1     \n",
       "2 1     \n",
       "3 1     \n",
       "4 1     \n",
       "5 1     \n",
       "6 1     "
      ]
     },
     "metadata": {},
     "output_type": "display_data"
    }
   ],
   "source": [
    "# Filtering dataset to select womens above 30 years\n",
    "women = filter(df, sex == 1 & age > 30)\n",
    "head(women)"
   ]
  },
  {
   "cell_type": "code",
   "execution_count": 35,
   "id": "f85c0a84",
   "metadata": {},
   "outputs": [
    {
     "data": {
      "text/html": [
       "34"
      ],
      "text/latex": [
       "34"
      ],
      "text/markdown": [
       "34"
      ],
      "text/plain": [
       "[1] 34"
      ]
     },
     "metadata": {},
     "output_type": "display_data"
    }
   ],
   "source": [
    "min(women$age)"
   ]
  },
  {
   "cell_type": "markdown",
   "id": "82fc0963",
   "metadata": {},
   "source": [
    "Now, let's select just some few columns from the tibble:"
   ]
  },
  {
   "cell_type": "code",
   "execution_count": 36,
   "id": "66e17ebb",
   "metadata": {},
   "outputs": [
    {
     "data": {
      "text/html": [
       "<table class=\"dataframe\">\n",
       "<caption>A tibble: 6 × 3</caption>\n",
       "<thead>\n",
       "\t<tr><th scope=col>age</th><th scope=col>sex</th><th scope=col>chol</th></tr>\n",
       "\t<tr><th scope=col>&lt;dbl&gt;</th><th scope=col>&lt;dbl&gt;</th><th scope=col>&lt;dbl&gt;</th></tr>\n",
       "</thead>\n",
       "<tbody>\n",
       "\t<tr><td>63</td><td>1</td><td>233</td></tr>\n",
       "\t<tr><td>37</td><td>1</td><td>250</td></tr>\n",
       "\t<tr><td>56</td><td>1</td><td>236</td></tr>\n",
       "\t<tr><td>57</td><td>1</td><td>192</td></tr>\n",
       "\t<tr><td>44</td><td>1</td><td>263</td></tr>\n",
       "\t<tr><td>52</td><td>1</td><td>199</td></tr>\n",
       "</tbody>\n",
       "</table>\n"
      ],
      "text/latex": [
       "A tibble: 6 × 3\n",
       "\\begin{tabular}{lll}\n",
       " age & sex & chol\\\\\n",
       " <dbl> & <dbl> & <dbl>\\\\\n",
       "\\hline\n",
       "\t 63 & 1 & 233\\\\\n",
       "\t 37 & 1 & 250\\\\\n",
       "\t 56 & 1 & 236\\\\\n",
       "\t 57 & 1 & 192\\\\\n",
       "\t 44 & 1 & 263\\\\\n",
       "\t 52 & 1 & 199\\\\\n",
       "\\end{tabular}\n"
      ],
      "text/markdown": [
       "\n",
       "A tibble: 6 × 3\n",
       "\n",
       "| age &lt;dbl&gt; | sex &lt;dbl&gt; | chol &lt;dbl&gt; |\n",
       "|---|---|---|\n",
       "| 63 | 1 | 233 |\n",
       "| 37 | 1 | 250 |\n",
       "| 56 | 1 | 236 |\n",
       "| 57 | 1 | 192 |\n",
       "| 44 | 1 | 263 |\n",
       "| 52 | 1 | 199 |\n",
       "\n"
      ],
      "text/plain": [
       "  age sex chol\n",
       "1 63  1   233 \n",
       "2 37  1   250 \n",
       "3 56  1   236 \n",
       "4 57  1   192 \n",
       "5 44  1   263 \n",
       "6 52  1   199 "
      ]
     },
     "metadata": {},
     "output_type": "display_data"
    }
   ],
   "source": [
    "# Selecting some columns\n",
    "women = select(women, \"age\", \"sex\", \"chol\")\n",
    "head(women)"
   ]
  },
  {
   "cell_type": "markdown",
   "id": "2664c2c0",
   "metadata": {},
   "source": [
    "As you get more comfortable working with data in tidyverse, combining different filter and select commands or many other kinds of data wrangling commands, can be actually done ib a single line with what is called `piping`. In the tidy verse you pipe with a series of three symbols."
   ]
  },
  {
   "cell_type": "code",
   "execution_count": 38,
   "id": "f08e7e28",
   "metadata": {},
   "outputs": [
    {
     "data": {
      "text/html": [
       "<table class=\"dataframe\">\n",
       "<caption>A tibble: 6 × 3</caption>\n",
       "<thead>\n",
       "\t<tr><th scope=col>age</th><th scope=col>sex</th><th scope=col>chol</th></tr>\n",
       "\t<tr><th scope=col>&lt;dbl&gt;</th><th scope=col>&lt;dbl&gt;</th><th scope=col>&lt;dbl&gt;</th></tr>\n",
       "</thead>\n",
       "<tbody>\n",
       "\t<tr><td>63</td><td>1</td><td>233</td></tr>\n",
       "\t<tr><td>37</td><td>1</td><td>250</td></tr>\n",
       "\t<tr><td>56</td><td>1</td><td>236</td></tr>\n",
       "\t<tr><td>57</td><td>1</td><td>192</td></tr>\n",
       "\t<tr><td>44</td><td>1</td><td>263</td></tr>\n",
       "\t<tr><td>52</td><td>1</td><td>199</td></tr>\n",
       "</tbody>\n",
       "</table>\n"
      ],
      "text/latex": [
       "A tibble: 6 × 3\n",
       "\\begin{tabular}{lll}\n",
       " age & sex & chol\\\\\n",
       " <dbl> & <dbl> & <dbl>\\\\\n",
       "\\hline\n",
       "\t 63 & 1 & 233\\\\\n",
       "\t 37 & 1 & 250\\\\\n",
       "\t 56 & 1 & 236\\\\\n",
       "\t 57 & 1 & 192\\\\\n",
       "\t 44 & 1 & 263\\\\\n",
       "\t 52 & 1 & 199\\\\\n",
       "\\end{tabular}\n"
      ],
      "text/markdown": [
       "\n",
       "A tibble: 6 × 3\n",
       "\n",
       "| age &lt;dbl&gt; | sex &lt;dbl&gt; | chol &lt;dbl&gt; |\n",
       "|---|---|---|\n",
       "| 63 | 1 | 233 |\n",
       "| 37 | 1 | 250 |\n",
       "| 56 | 1 | 236 |\n",
       "| 57 | 1 | 192 |\n",
       "| 44 | 1 | 263 |\n",
       "| 52 | 1 | 199 |\n",
       "\n"
      ],
      "text/plain": [
       "  age sex chol\n",
       "1 63  1   233 \n",
       "2 37  1   250 \n",
       "3 56  1   236 \n",
       "4 57  1   192 \n",
       "5 44  1   263 \n",
       "6 52  1   199 "
      ]
     },
     "metadata": {},
     "output_type": "display_data"
    }
   ],
   "source": [
    "# Combining filter and select\n",
    "women = df %>%\n",
    "    select(\"age\", \"sex\", \"chol\") %>%\n",
    "    filter(sex == 1 & age > 30)\n",
    "\n",
    "head(women)"
   ]
  },
  {
   "cell_type": "markdown",
   "id": "84619017",
   "metadata": {},
   "source": [
    " The `recode()` function allows us to change the codification of a variable from number to text or in any other way combination of data types. For example:"
   ]
  },
  {
   "cell_type": "code",
   "execution_count": 60,
   "id": "e46f2293",
   "metadata": {},
   "outputs": [
    {
     "ename": "ERROR",
     "evalue": "Error in parse(text = x, srcfile = src): <text>:2:23: unexpected '='\n1: # Recoding column\n2: df = recode(df$sex, 1 =\n                         ^\n",
     "output_type": "error",
     "traceback": [
      "Error in parse(text = x, srcfile = src): <text>:2:23: unexpected '='\n1: # Recoding column\n2: df = recode(df$sex, 1 =\n                         ^\nTraceback:\n"
     ]
    }
   ],
   "source": [
    "# Recoding column\n",
    "df = recode(df$sex, 1 = \"Female\", 0 = \"Male\")\n",
    "head(df)"
   ]
  },
  {
   "cell_type": "markdown",
   "id": "7359da06",
   "metadata": {},
   "source": [
    "For renaming columns, we can use the `rename()` function:"
   ]
  },
  {
   "cell_type": "code",
   "execution_count": 47,
   "id": "0cb2258a",
   "metadata": {},
   "outputs": [
    {
     "data": {
      "text/html": [
       "<table class=\"dataframe\">\n",
       "<caption>A tibble: 6 × 14</caption>\n",
       "<thead>\n",
       "\t<tr><th scope=col>age</th><th scope=col>sex</th><th scope=col>cp</th><th scope=col>trestbps</th><th scope=col>cholesterol</th><th scope=col>fbs</th><th scope=col>restecg</th><th scope=col>thalach</th><th scope=col>exang</th><th scope=col>oldpeak</th><th scope=col>slope</th><th scope=col>ca</th><th scope=col>thal</th><th scope=col>target</th></tr>\n",
       "\t<tr><th scope=col>&lt;dbl&gt;</th><th scope=col>&lt;dbl&gt;</th><th scope=col>&lt;dbl&gt;</th><th scope=col>&lt;dbl&gt;</th><th scope=col>&lt;dbl&gt;</th><th scope=col>&lt;dbl&gt;</th><th scope=col>&lt;dbl&gt;</th><th scope=col>&lt;dbl&gt;</th><th scope=col>&lt;dbl&gt;</th><th scope=col>&lt;dbl&gt;</th><th scope=col>&lt;dbl&gt;</th><th scope=col>&lt;dbl&gt;</th><th scope=col>&lt;dbl&gt;</th><th scope=col>&lt;dbl&gt;</th></tr>\n",
       "</thead>\n",
       "<tbody>\n",
       "\t<tr><td>63</td><td>1</td><td>3</td><td>145</td><td>233</td><td>1</td><td>0</td><td>150</td><td>0</td><td>2.3</td><td>0</td><td>0</td><td>1</td><td>1</td></tr>\n",
       "\t<tr><td>37</td><td>1</td><td>2</td><td>130</td><td>250</td><td>0</td><td>1</td><td>187</td><td>0</td><td>3.5</td><td>0</td><td>0</td><td>2</td><td>1</td></tr>\n",
       "\t<tr><td>41</td><td>0</td><td>1</td><td>130</td><td>204</td><td>0</td><td>0</td><td>172</td><td>0</td><td>1.4</td><td>2</td><td>0</td><td>2</td><td>1</td></tr>\n",
       "\t<tr><td>56</td><td>1</td><td>1</td><td>120</td><td>236</td><td>0</td><td>1</td><td>178</td><td>0</td><td>0.8</td><td>2</td><td>0</td><td>2</td><td>1</td></tr>\n",
       "\t<tr><td>57</td><td>0</td><td>0</td><td>120</td><td>354</td><td>0</td><td>1</td><td>163</td><td>1</td><td>0.6</td><td>2</td><td>0</td><td>2</td><td>1</td></tr>\n",
       "\t<tr><td>57</td><td>1</td><td>0</td><td>140</td><td>192</td><td>0</td><td>1</td><td>148</td><td>0</td><td>0.4</td><td>1</td><td>0</td><td>1</td><td>1</td></tr>\n",
       "</tbody>\n",
       "</table>\n"
      ],
      "text/latex": [
       "A tibble: 6 × 14\n",
       "\\begin{tabular}{llllllllllllll}\n",
       " age & sex & cp & trestbps & cholesterol & fbs & restecg & thalach & exang & oldpeak & slope & ca & thal & target\\\\\n",
       " <dbl> & <dbl> & <dbl> & <dbl> & <dbl> & <dbl> & <dbl> & <dbl> & <dbl> & <dbl> & <dbl> & <dbl> & <dbl> & <dbl>\\\\\n",
       "\\hline\n",
       "\t 63 & 1 & 3 & 145 & 233 & 1 & 0 & 150 & 0 & 2.3 & 0 & 0 & 1 & 1\\\\\n",
       "\t 37 & 1 & 2 & 130 & 250 & 0 & 1 & 187 & 0 & 3.5 & 0 & 0 & 2 & 1\\\\\n",
       "\t 41 & 0 & 1 & 130 & 204 & 0 & 0 & 172 & 0 & 1.4 & 2 & 0 & 2 & 1\\\\\n",
       "\t 56 & 1 & 1 & 120 & 236 & 0 & 1 & 178 & 0 & 0.8 & 2 & 0 & 2 & 1\\\\\n",
       "\t 57 & 0 & 0 & 120 & 354 & 0 & 1 & 163 & 1 & 0.6 & 2 & 0 & 2 & 1\\\\\n",
       "\t 57 & 1 & 0 & 140 & 192 & 0 & 1 & 148 & 0 & 0.4 & 1 & 0 & 1 & 1\\\\\n",
       "\\end{tabular}\n"
      ],
      "text/markdown": [
       "\n",
       "A tibble: 6 × 14\n",
       "\n",
       "| age &lt;dbl&gt; | sex &lt;dbl&gt; | cp &lt;dbl&gt; | trestbps &lt;dbl&gt; | cholesterol &lt;dbl&gt; | fbs &lt;dbl&gt; | restecg &lt;dbl&gt; | thalach &lt;dbl&gt; | exang &lt;dbl&gt; | oldpeak &lt;dbl&gt; | slope &lt;dbl&gt; | ca &lt;dbl&gt; | thal &lt;dbl&gt; | target &lt;dbl&gt; |\n",
       "|---|---|---|---|---|---|---|---|---|---|---|---|---|---|\n",
       "| 63 | 1 | 3 | 145 | 233 | 1 | 0 | 150 | 0 | 2.3 | 0 | 0 | 1 | 1 |\n",
       "| 37 | 1 | 2 | 130 | 250 | 0 | 1 | 187 | 0 | 3.5 | 0 | 0 | 2 | 1 |\n",
       "| 41 | 0 | 1 | 130 | 204 | 0 | 0 | 172 | 0 | 1.4 | 2 | 0 | 2 | 1 |\n",
       "| 56 | 1 | 1 | 120 | 236 | 0 | 1 | 178 | 0 | 0.8 | 2 | 0 | 2 | 1 |\n",
       "| 57 | 0 | 0 | 120 | 354 | 0 | 1 | 163 | 1 | 0.6 | 2 | 0 | 2 | 1 |\n",
       "| 57 | 1 | 0 | 140 | 192 | 0 | 1 | 148 | 0 | 0.4 | 1 | 0 | 1 | 1 |\n",
       "\n"
      ],
      "text/plain": [
       "  age sex cp trestbps cholesterol fbs restecg thalach exang oldpeak slope ca\n",
       "1 63  1   3  145      233         1   0       150     0     2.3     0     0 \n",
       "2 37  1   2  130      250         0   1       187     0     3.5     0     0 \n",
       "3 41  0   1  130      204         0   0       172     0     1.4     2     0 \n",
       "4 56  1   1  120      236         0   1       178     0     0.8     2     0 \n",
       "5 57  0   0  120      354         0   1       163     1     0.6     2     0 \n",
       "6 57  1   0  140      192         0   1       148     0     0.4     1     0 \n",
       "  thal target\n",
       "1 1    1     \n",
       "2 2    1     \n",
       "3 2    1     \n",
       "4 2    1     \n",
       "5 2    1     \n",
       "6 1    1     "
      ]
     },
     "metadata": {},
     "output_type": "display_data"
    }
   ],
   "source": [
    "# Renaming column\n",
    "df = rename(df, cholesterol = chol)\n",
    "head(df)"
   ]
  },
  {
   "cell_type": "markdown",
   "id": "b1f416cf",
   "metadata": {},
   "source": [
    "The `mutate()` function can be used for making new columns from others, for example:"
   ]
  },
  {
   "cell_type": "code",
   "execution_count": 48,
   "id": "52a4738d",
   "metadata": {},
   "outputs": [
    {
     "data": {
      "text/html": [
       "<table class=\"dataframe\">\n",
       "<caption>A tibble: 6 × 15</caption>\n",
       "<thead>\n",
       "\t<tr><th scope=col>age</th><th scope=col>sex</th><th scope=col>cp</th><th scope=col>trestbps</th><th scope=col>cholesterol</th><th scope=col>fbs</th><th scope=col>restecg</th><th scope=col>thalach</th><th scope=col>exang</th><th scope=col>oldpeak</th><th scope=col>slope</th><th scope=col>ca</th><th scope=col>thal</th><th scope=col>target</th><th scope=col>thal_total</th></tr>\n",
       "\t<tr><th scope=col>&lt;dbl&gt;</th><th scope=col>&lt;dbl&gt;</th><th scope=col>&lt;dbl&gt;</th><th scope=col>&lt;dbl&gt;</th><th scope=col>&lt;dbl&gt;</th><th scope=col>&lt;dbl&gt;</th><th scope=col>&lt;dbl&gt;</th><th scope=col>&lt;dbl&gt;</th><th scope=col>&lt;dbl&gt;</th><th scope=col>&lt;dbl&gt;</th><th scope=col>&lt;dbl&gt;</th><th scope=col>&lt;dbl&gt;</th><th scope=col>&lt;dbl&gt;</th><th scope=col>&lt;dbl&gt;</th><th scope=col>&lt;dbl&gt;</th></tr>\n",
       "</thead>\n",
       "<tbody>\n",
       "\t<tr><td>63</td><td>1</td><td>3</td><td>145</td><td>233</td><td>1</td><td>0</td><td>150</td><td>0</td><td>2.3</td><td>0</td><td>0</td><td>1</td><td>1</td><td>150</td></tr>\n",
       "\t<tr><td>37</td><td>1</td><td>2</td><td>130</td><td>250</td><td>0</td><td>1</td><td>187</td><td>0</td><td>3.5</td><td>0</td><td>0</td><td>2</td><td>1</td><td>374</td></tr>\n",
       "\t<tr><td>41</td><td>0</td><td>1</td><td>130</td><td>204</td><td>0</td><td>0</td><td>172</td><td>0</td><td>1.4</td><td>2</td><td>0</td><td>2</td><td>1</td><td>344</td></tr>\n",
       "\t<tr><td>56</td><td>1</td><td>1</td><td>120</td><td>236</td><td>0</td><td>1</td><td>178</td><td>0</td><td>0.8</td><td>2</td><td>0</td><td>2</td><td>1</td><td>356</td></tr>\n",
       "\t<tr><td>57</td><td>0</td><td>0</td><td>120</td><td>354</td><td>0</td><td>1</td><td>163</td><td>1</td><td>0.6</td><td>2</td><td>0</td><td>2</td><td>1</td><td>326</td></tr>\n",
       "\t<tr><td>57</td><td>1</td><td>0</td><td>140</td><td>192</td><td>0</td><td>1</td><td>148</td><td>0</td><td>0.4</td><td>1</td><td>0</td><td>1</td><td>1</td><td>148</td></tr>\n",
       "</tbody>\n",
       "</table>\n"
      ],
      "text/latex": [
       "A tibble: 6 × 15\n",
       "\\begin{tabular}{lllllllllllllll}\n",
       " age & sex & cp & trestbps & cholesterol & fbs & restecg & thalach & exang & oldpeak & slope & ca & thal & target & thal\\_total\\\\\n",
       " <dbl> & <dbl> & <dbl> & <dbl> & <dbl> & <dbl> & <dbl> & <dbl> & <dbl> & <dbl> & <dbl> & <dbl> & <dbl> & <dbl> & <dbl>\\\\\n",
       "\\hline\n",
       "\t 63 & 1 & 3 & 145 & 233 & 1 & 0 & 150 & 0 & 2.3 & 0 & 0 & 1 & 1 & 150\\\\\n",
       "\t 37 & 1 & 2 & 130 & 250 & 0 & 1 & 187 & 0 & 3.5 & 0 & 0 & 2 & 1 & 374\\\\\n",
       "\t 41 & 0 & 1 & 130 & 204 & 0 & 0 & 172 & 0 & 1.4 & 2 & 0 & 2 & 1 & 344\\\\\n",
       "\t 56 & 1 & 1 & 120 & 236 & 0 & 1 & 178 & 0 & 0.8 & 2 & 0 & 2 & 1 & 356\\\\\n",
       "\t 57 & 0 & 0 & 120 & 354 & 0 & 1 & 163 & 1 & 0.6 & 2 & 0 & 2 & 1 & 326\\\\\n",
       "\t 57 & 1 & 0 & 140 & 192 & 0 & 1 & 148 & 0 & 0.4 & 1 & 0 & 1 & 1 & 148\\\\\n",
       "\\end{tabular}\n"
      ],
      "text/markdown": [
       "\n",
       "A tibble: 6 × 15\n",
       "\n",
       "| age &lt;dbl&gt; | sex &lt;dbl&gt; | cp &lt;dbl&gt; | trestbps &lt;dbl&gt; | cholesterol &lt;dbl&gt; | fbs &lt;dbl&gt; | restecg &lt;dbl&gt; | thalach &lt;dbl&gt; | exang &lt;dbl&gt; | oldpeak &lt;dbl&gt; | slope &lt;dbl&gt; | ca &lt;dbl&gt; | thal &lt;dbl&gt; | target &lt;dbl&gt; | thal_total &lt;dbl&gt; |\n",
       "|---|---|---|---|---|---|---|---|---|---|---|---|---|---|---|\n",
       "| 63 | 1 | 3 | 145 | 233 | 1 | 0 | 150 | 0 | 2.3 | 0 | 0 | 1 | 1 | 150 |\n",
       "| 37 | 1 | 2 | 130 | 250 | 0 | 1 | 187 | 0 | 3.5 | 0 | 0 | 2 | 1 | 374 |\n",
       "| 41 | 0 | 1 | 130 | 204 | 0 | 0 | 172 | 0 | 1.4 | 2 | 0 | 2 | 1 | 344 |\n",
       "| 56 | 1 | 1 | 120 | 236 | 0 | 1 | 178 | 0 | 0.8 | 2 | 0 | 2 | 1 | 356 |\n",
       "| 57 | 0 | 0 | 120 | 354 | 0 | 1 | 163 | 1 | 0.6 | 2 | 0 | 2 | 1 | 326 |\n",
       "| 57 | 1 | 0 | 140 | 192 | 0 | 1 | 148 | 0 | 0.4 | 1 | 0 | 1 | 1 | 148 |\n",
       "\n"
      ],
      "text/plain": [
       "  age sex cp trestbps cholesterol fbs restecg thalach exang oldpeak slope ca\n",
       "1 63  1   3  145      233         1   0       150     0     2.3     0     0 \n",
       "2 37  1   2  130      250         0   1       187     0     3.5     0     0 \n",
       "3 41  0   1  130      204         0   0       172     0     1.4     2     0 \n",
       "4 56  1   1  120      236         0   1       178     0     0.8     2     0 \n",
       "5 57  0   0  120      354         0   1       163     1     0.6     2     0 \n",
       "6 57  1   0  140      192         0   1       148     0     0.4     1     0 \n",
       "  thal target thal_total\n",
       "1 1    1      150       \n",
       "2 2    1      374       \n",
       "3 2    1      344       \n",
       "4 2    1      356       \n",
       "5 2    1      326       \n",
       "6 1    1      148       "
      ]
     },
     "metadata": {},
     "output_type": "display_data"
    }
   ],
   "source": [
    "# Creating new column\n",
    "df = mutate(df, thal_total = thalach * thal)\n",
    "head(df)"
   ]
  },
  {
   "cell_type": "markdown",
   "id": "59510bea",
   "metadata": {},
   "source": [
    "The `arrange()` function is a fancier version of the `sort()` function from base R:"
   ]
  },
  {
   "cell_type": "code",
   "execution_count": 50,
   "id": "ac225f4c",
   "metadata": {},
   "outputs": [
    {
     "data": {
      "text/html": [
       "<table class=\"dataframe\">\n",
       "<caption>A tibble: 6 × 15</caption>\n",
       "<thead>\n",
       "\t<tr><th scope=col>age</th><th scope=col>sex</th><th scope=col>cp</th><th scope=col>trestbps</th><th scope=col>cholesterol</th><th scope=col>fbs</th><th scope=col>restecg</th><th scope=col>thalach</th><th scope=col>exang</th><th scope=col>oldpeak</th><th scope=col>slope</th><th scope=col>ca</th><th scope=col>thal</th><th scope=col>target</th><th scope=col>thal_total</th></tr>\n",
       "\t<tr><th scope=col>&lt;dbl&gt;</th><th scope=col>&lt;dbl&gt;</th><th scope=col>&lt;dbl&gt;</th><th scope=col>&lt;dbl&gt;</th><th scope=col>&lt;dbl&gt;</th><th scope=col>&lt;dbl&gt;</th><th scope=col>&lt;dbl&gt;</th><th scope=col>&lt;dbl&gt;</th><th scope=col>&lt;dbl&gt;</th><th scope=col>&lt;dbl&gt;</th><th scope=col>&lt;dbl&gt;</th><th scope=col>&lt;dbl&gt;</th><th scope=col>&lt;dbl&gt;</th><th scope=col>&lt;dbl&gt;</th><th scope=col>&lt;dbl&gt;</th></tr>\n",
       "</thead>\n",
       "<tbody>\n",
       "\t<tr><td>29</td><td>1</td><td>1</td><td>130</td><td>204</td><td>0</td><td>0</td><td>202</td><td>0</td><td>0.0</td><td>2</td><td>0</td><td>2</td><td>1</td><td>404</td></tr>\n",
       "\t<tr><td>34</td><td>1</td><td>3</td><td>118</td><td>182</td><td>0</td><td>0</td><td>174</td><td>0</td><td>0.0</td><td>2</td><td>0</td><td>2</td><td>1</td><td>348</td></tr>\n",
       "\t<tr><td>34</td><td>0</td><td>1</td><td>118</td><td>210</td><td>0</td><td>1</td><td>192</td><td>0</td><td>0.7</td><td>2</td><td>0</td><td>2</td><td>1</td><td>384</td></tr>\n",
       "\t<tr><td>35</td><td>0</td><td>0</td><td>138</td><td>183</td><td>0</td><td>1</td><td>182</td><td>0</td><td>1.4</td><td>2</td><td>0</td><td>2</td><td>1</td><td>364</td></tr>\n",
       "\t<tr><td>35</td><td>1</td><td>1</td><td>122</td><td>192</td><td>0</td><td>1</td><td>174</td><td>0</td><td>0.0</td><td>2</td><td>0</td><td>2</td><td>1</td><td>348</td></tr>\n",
       "\t<tr><td>35</td><td>1</td><td>0</td><td>120</td><td>198</td><td>0</td><td>1</td><td>130</td><td>1</td><td>1.6</td><td>1</td><td>0</td><td>3</td><td>0</td><td>390</td></tr>\n",
       "</tbody>\n",
       "</table>\n"
      ],
      "text/latex": [
       "A tibble: 6 × 15\n",
       "\\begin{tabular}{lllllllllllllll}\n",
       " age & sex & cp & trestbps & cholesterol & fbs & restecg & thalach & exang & oldpeak & slope & ca & thal & target & thal\\_total\\\\\n",
       " <dbl> & <dbl> & <dbl> & <dbl> & <dbl> & <dbl> & <dbl> & <dbl> & <dbl> & <dbl> & <dbl> & <dbl> & <dbl> & <dbl> & <dbl>\\\\\n",
       "\\hline\n",
       "\t 29 & 1 & 1 & 130 & 204 & 0 & 0 & 202 & 0 & 0.0 & 2 & 0 & 2 & 1 & 404\\\\\n",
       "\t 34 & 1 & 3 & 118 & 182 & 0 & 0 & 174 & 0 & 0.0 & 2 & 0 & 2 & 1 & 348\\\\\n",
       "\t 34 & 0 & 1 & 118 & 210 & 0 & 1 & 192 & 0 & 0.7 & 2 & 0 & 2 & 1 & 384\\\\\n",
       "\t 35 & 0 & 0 & 138 & 183 & 0 & 1 & 182 & 0 & 1.4 & 2 & 0 & 2 & 1 & 364\\\\\n",
       "\t 35 & 1 & 1 & 122 & 192 & 0 & 1 & 174 & 0 & 0.0 & 2 & 0 & 2 & 1 & 348\\\\\n",
       "\t 35 & 1 & 0 & 120 & 198 & 0 & 1 & 130 & 1 & 1.6 & 1 & 0 & 3 & 0 & 390\\\\\n",
       "\\end{tabular}\n"
      ],
      "text/markdown": [
       "\n",
       "A tibble: 6 × 15\n",
       "\n",
       "| age &lt;dbl&gt; | sex &lt;dbl&gt; | cp &lt;dbl&gt; | trestbps &lt;dbl&gt; | cholesterol &lt;dbl&gt; | fbs &lt;dbl&gt; | restecg &lt;dbl&gt; | thalach &lt;dbl&gt; | exang &lt;dbl&gt; | oldpeak &lt;dbl&gt; | slope &lt;dbl&gt; | ca &lt;dbl&gt; | thal &lt;dbl&gt; | target &lt;dbl&gt; | thal_total &lt;dbl&gt; |\n",
       "|---|---|---|---|---|---|---|---|---|---|---|---|---|---|---|\n",
       "| 29 | 1 | 1 | 130 | 204 | 0 | 0 | 202 | 0 | 0.0 | 2 | 0 | 2 | 1 | 404 |\n",
       "| 34 | 1 | 3 | 118 | 182 | 0 | 0 | 174 | 0 | 0.0 | 2 | 0 | 2 | 1 | 348 |\n",
       "| 34 | 0 | 1 | 118 | 210 | 0 | 1 | 192 | 0 | 0.7 | 2 | 0 | 2 | 1 | 384 |\n",
       "| 35 | 0 | 0 | 138 | 183 | 0 | 1 | 182 | 0 | 1.4 | 2 | 0 | 2 | 1 | 364 |\n",
       "| 35 | 1 | 1 | 122 | 192 | 0 | 1 | 174 | 0 | 0.0 | 2 | 0 | 2 | 1 | 348 |\n",
       "| 35 | 1 | 0 | 120 | 198 | 0 | 1 | 130 | 1 | 1.6 | 1 | 0 | 3 | 0 | 390 |\n",
       "\n"
      ],
      "text/plain": [
       "  age sex cp trestbps cholesterol fbs restecg thalach exang oldpeak slope ca\n",
       "1 29  1   1  130      204         0   0       202     0     0.0     2     0 \n",
       "2 34  1   3  118      182         0   0       174     0     0.0     2     0 \n",
       "3 34  0   1  118      210         0   1       192     0     0.7     2     0 \n",
       "4 35  0   0  138      183         0   1       182     0     1.4     2     0 \n",
       "5 35  1   1  122      192         0   1       174     0     0.0     2     0 \n",
       "6 35  1   0  120      198         0   1       130     1     1.6     1     0 \n",
       "  thal target thal_total\n",
       "1 2    1      404       \n",
       "2 2    1      348       \n",
       "3 2    1      384       \n",
       "4 2    1      364       \n",
       "5 2    1      348       \n",
       "6 3    0      390       "
      ]
     },
     "metadata": {},
     "output_type": "display_data"
    }
   ],
   "source": [
    "# Ascending sort by default\n",
    "head(arrange(df, age))"
   ]
  },
  {
   "cell_type": "code",
   "execution_count": 51,
   "id": "9b27cdde",
   "metadata": {},
   "outputs": [
    {
     "data": {
      "text/html": [
       "<table class=\"dataframe\">\n",
       "<caption>A tibble: 6 × 15</caption>\n",
       "<thead>\n",
       "\t<tr><th scope=col>age</th><th scope=col>sex</th><th scope=col>cp</th><th scope=col>trestbps</th><th scope=col>cholesterol</th><th scope=col>fbs</th><th scope=col>restecg</th><th scope=col>thalach</th><th scope=col>exang</th><th scope=col>oldpeak</th><th scope=col>slope</th><th scope=col>ca</th><th scope=col>thal</th><th scope=col>target</th><th scope=col>thal_total</th></tr>\n",
       "\t<tr><th scope=col>&lt;dbl&gt;</th><th scope=col>&lt;dbl&gt;</th><th scope=col>&lt;dbl&gt;</th><th scope=col>&lt;dbl&gt;</th><th scope=col>&lt;dbl&gt;</th><th scope=col>&lt;dbl&gt;</th><th scope=col>&lt;dbl&gt;</th><th scope=col>&lt;dbl&gt;</th><th scope=col>&lt;dbl&gt;</th><th scope=col>&lt;dbl&gt;</th><th scope=col>&lt;dbl&gt;</th><th scope=col>&lt;dbl&gt;</th><th scope=col>&lt;dbl&gt;</th><th scope=col>&lt;dbl&gt;</th><th scope=col>&lt;dbl&gt;</th></tr>\n",
       "</thead>\n",
       "<tbody>\n",
       "\t<tr><td>77</td><td>1</td><td>0</td><td>125</td><td>304</td><td>0</td><td>0</td><td>162</td><td>1</td><td>0.0</td><td>2</td><td>3</td><td>2</td><td>0</td><td>324</td></tr>\n",
       "\t<tr><td>76</td><td>0</td><td>2</td><td>140</td><td>197</td><td>0</td><td>2</td><td>116</td><td>0</td><td>1.1</td><td>1</td><td>0</td><td>2</td><td>1</td><td>232</td></tr>\n",
       "\t<tr><td>74</td><td>0</td><td>1</td><td>120</td><td>269</td><td>0</td><td>0</td><td>121</td><td>1</td><td>0.2</td><td>2</td><td>1</td><td>2</td><td>1</td><td>242</td></tr>\n",
       "\t<tr><td>71</td><td>0</td><td>1</td><td>160</td><td>302</td><td>0</td><td>1</td><td>162</td><td>0</td><td>0.4</td><td>2</td><td>2</td><td>2</td><td>1</td><td>324</td></tr>\n",
       "\t<tr><td>71</td><td>0</td><td>2</td><td>110</td><td>265</td><td>1</td><td>0</td><td>130</td><td>0</td><td>0.0</td><td>2</td><td>1</td><td>2</td><td>1</td><td>260</td></tr>\n",
       "\t<tr><td>71</td><td>0</td><td>0</td><td>112</td><td>149</td><td>0</td><td>1</td><td>125</td><td>0</td><td>1.6</td><td>1</td><td>0</td><td>2</td><td>1</td><td>250</td></tr>\n",
       "</tbody>\n",
       "</table>\n"
      ],
      "text/latex": [
       "A tibble: 6 × 15\n",
       "\\begin{tabular}{lllllllllllllll}\n",
       " age & sex & cp & trestbps & cholesterol & fbs & restecg & thalach & exang & oldpeak & slope & ca & thal & target & thal\\_total\\\\\n",
       " <dbl> & <dbl> & <dbl> & <dbl> & <dbl> & <dbl> & <dbl> & <dbl> & <dbl> & <dbl> & <dbl> & <dbl> & <dbl> & <dbl> & <dbl>\\\\\n",
       "\\hline\n",
       "\t 77 & 1 & 0 & 125 & 304 & 0 & 0 & 162 & 1 & 0.0 & 2 & 3 & 2 & 0 & 324\\\\\n",
       "\t 76 & 0 & 2 & 140 & 197 & 0 & 2 & 116 & 0 & 1.1 & 1 & 0 & 2 & 1 & 232\\\\\n",
       "\t 74 & 0 & 1 & 120 & 269 & 0 & 0 & 121 & 1 & 0.2 & 2 & 1 & 2 & 1 & 242\\\\\n",
       "\t 71 & 0 & 1 & 160 & 302 & 0 & 1 & 162 & 0 & 0.4 & 2 & 2 & 2 & 1 & 324\\\\\n",
       "\t 71 & 0 & 2 & 110 & 265 & 1 & 0 & 130 & 0 & 0.0 & 2 & 1 & 2 & 1 & 260\\\\\n",
       "\t 71 & 0 & 0 & 112 & 149 & 0 & 1 & 125 & 0 & 1.6 & 1 & 0 & 2 & 1 & 250\\\\\n",
       "\\end{tabular}\n"
      ],
      "text/markdown": [
       "\n",
       "A tibble: 6 × 15\n",
       "\n",
       "| age &lt;dbl&gt; | sex &lt;dbl&gt; | cp &lt;dbl&gt; | trestbps &lt;dbl&gt; | cholesterol &lt;dbl&gt; | fbs &lt;dbl&gt; | restecg &lt;dbl&gt; | thalach &lt;dbl&gt; | exang &lt;dbl&gt; | oldpeak &lt;dbl&gt; | slope &lt;dbl&gt; | ca &lt;dbl&gt; | thal &lt;dbl&gt; | target &lt;dbl&gt; | thal_total &lt;dbl&gt; |\n",
       "|---|---|---|---|---|---|---|---|---|---|---|---|---|---|---|\n",
       "| 77 | 1 | 0 | 125 | 304 | 0 | 0 | 162 | 1 | 0.0 | 2 | 3 | 2 | 0 | 324 |\n",
       "| 76 | 0 | 2 | 140 | 197 | 0 | 2 | 116 | 0 | 1.1 | 1 | 0 | 2 | 1 | 232 |\n",
       "| 74 | 0 | 1 | 120 | 269 | 0 | 0 | 121 | 1 | 0.2 | 2 | 1 | 2 | 1 | 242 |\n",
       "| 71 | 0 | 1 | 160 | 302 | 0 | 1 | 162 | 0 | 0.4 | 2 | 2 | 2 | 1 | 324 |\n",
       "| 71 | 0 | 2 | 110 | 265 | 1 | 0 | 130 | 0 | 0.0 | 2 | 1 | 2 | 1 | 260 |\n",
       "| 71 | 0 | 0 | 112 | 149 | 0 | 1 | 125 | 0 | 1.6 | 1 | 0 | 2 | 1 | 250 |\n",
       "\n"
      ],
      "text/plain": [
       "  age sex cp trestbps cholesterol fbs restecg thalach exang oldpeak slope ca\n",
       "1 77  1   0  125      304         0   0       162     1     0.0     2     3 \n",
       "2 76  0   2  140      197         0   2       116     0     1.1     1     0 \n",
       "3 74  0   1  120      269         0   0       121     1     0.2     2     1 \n",
       "4 71  0   1  160      302         0   1       162     0     0.4     2     2 \n",
       "5 71  0   2  110      265         1   0       130     0     0.0     2     1 \n",
       "6 71  0   0  112      149         0   1       125     0     1.6     1     0 \n",
       "  thal target thal_total\n",
       "1 2    0      324       \n",
       "2 2    1      232       \n",
       "3 2    1      242       \n",
       "4 2    1      324       \n",
       "5 2    1      260       \n",
       "6 2    1      250       "
      ]
     },
     "metadata": {},
     "output_type": "display_data"
    }
   ],
   "source": [
    "# Descending sort\n",
    "head(arrange(df, desc(age)))"
   ]
  },
  {
   "cell_type": "markdown",
   "id": "f2e7b48e",
   "metadata": {},
   "source": [
    "It's also useful to group data based on the values in some column. And grouping doesn't change the order of the data, but it does change how the tibble will interact with other functions in the tidyverse. You set up groups in a tible with the `group_by()` function specifying the groups and the arguments for the function.\n"
   ]
  },
  {
   "cell_type": "code",
   "execution_count": 57,
   "id": "3666b630",
   "metadata": {},
   "outputs": [
    {
     "data": {
      "text/html": [
       "<table class=\"dataframe\">\n",
       "<caption>A grouped_df: 6 × 15</caption>\n",
       "<thead>\n",
       "\t<tr><th scope=col>age</th><th scope=col>sex</th><th scope=col>cp</th><th scope=col>trestbps</th><th scope=col>cholesterol</th><th scope=col>fbs</th><th scope=col>restecg</th><th scope=col>thalach</th><th scope=col>exang</th><th scope=col>oldpeak</th><th scope=col>slope</th><th scope=col>ca</th><th scope=col>thal</th><th scope=col>target</th><th scope=col>thal_total</th></tr>\n",
       "\t<tr><th scope=col>&lt;dbl&gt;</th><th scope=col>&lt;dbl&gt;</th><th scope=col>&lt;dbl&gt;</th><th scope=col>&lt;dbl&gt;</th><th scope=col>&lt;dbl&gt;</th><th scope=col>&lt;dbl&gt;</th><th scope=col>&lt;dbl&gt;</th><th scope=col>&lt;dbl&gt;</th><th scope=col>&lt;dbl&gt;</th><th scope=col>&lt;dbl&gt;</th><th scope=col>&lt;dbl&gt;</th><th scope=col>&lt;dbl&gt;</th><th scope=col>&lt;dbl&gt;</th><th scope=col>&lt;dbl&gt;</th><th scope=col>&lt;dbl&gt;</th></tr>\n",
       "</thead>\n",
       "<tbody>\n",
       "\t<tr><td>63</td><td>1</td><td>3</td><td>145</td><td>233</td><td>1</td><td>0</td><td>150</td><td>0</td><td>2.3</td><td>0</td><td>0</td><td>1</td><td>1</td><td>150</td></tr>\n",
       "\t<tr><td>37</td><td>1</td><td>2</td><td>130</td><td>250</td><td>0</td><td>1</td><td>187</td><td>0</td><td>3.5</td><td>0</td><td>0</td><td>2</td><td>1</td><td>374</td></tr>\n",
       "\t<tr><td>41</td><td>0</td><td>1</td><td>130</td><td>204</td><td>0</td><td>0</td><td>172</td><td>0</td><td>1.4</td><td>2</td><td>0</td><td>2</td><td>1</td><td>344</td></tr>\n",
       "\t<tr><td>56</td><td>1</td><td>1</td><td>120</td><td>236</td><td>0</td><td>1</td><td>178</td><td>0</td><td>0.8</td><td>2</td><td>0</td><td>2</td><td>1</td><td>356</td></tr>\n",
       "\t<tr><td>57</td><td>0</td><td>0</td><td>120</td><td>354</td><td>0</td><td>1</td><td>163</td><td>1</td><td>0.6</td><td>2</td><td>0</td><td>2</td><td>1</td><td>326</td></tr>\n",
       "\t<tr><td>57</td><td>1</td><td>0</td><td>140</td><td>192</td><td>0</td><td>1</td><td>148</td><td>0</td><td>0.4</td><td>1</td><td>0</td><td>1</td><td>1</td><td>148</td></tr>\n",
       "</tbody>\n",
       "</table>\n"
      ],
      "text/latex": [
       "A grouped\\_df: 6 × 15\n",
       "\\begin{tabular}{lllllllllllllll}\n",
       " age & sex & cp & trestbps & cholesterol & fbs & restecg & thalach & exang & oldpeak & slope & ca & thal & target & thal\\_total\\\\\n",
       " <dbl> & <dbl> & <dbl> & <dbl> & <dbl> & <dbl> & <dbl> & <dbl> & <dbl> & <dbl> & <dbl> & <dbl> & <dbl> & <dbl> & <dbl>\\\\\n",
       "\\hline\n",
       "\t 63 & 1 & 3 & 145 & 233 & 1 & 0 & 150 & 0 & 2.3 & 0 & 0 & 1 & 1 & 150\\\\\n",
       "\t 37 & 1 & 2 & 130 & 250 & 0 & 1 & 187 & 0 & 3.5 & 0 & 0 & 2 & 1 & 374\\\\\n",
       "\t 41 & 0 & 1 & 130 & 204 & 0 & 0 & 172 & 0 & 1.4 & 2 & 0 & 2 & 1 & 344\\\\\n",
       "\t 56 & 1 & 1 & 120 & 236 & 0 & 1 & 178 & 0 & 0.8 & 2 & 0 & 2 & 1 & 356\\\\\n",
       "\t 57 & 0 & 0 & 120 & 354 & 0 & 1 & 163 & 1 & 0.6 & 2 & 0 & 2 & 1 & 326\\\\\n",
       "\t 57 & 1 & 0 & 140 & 192 & 0 & 1 & 148 & 0 & 0.4 & 1 & 0 & 1 & 1 & 148\\\\\n",
       "\\end{tabular}\n"
      ],
      "text/markdown": [
       "\n",
       "A grouped_df: 6 × 15\n",
       "\n",
       "| age &lt;dbl&gt; | sex &lt;dbl&gt; | cp &lt;dbl&gt; | trestbps &lt;dbl&gt; | cholesterol &lt;dbl&gt; | fbs &lt;dbl&gt; | restecg &lt;dbl&gt; | thalach &lt;dbl&gt; | exang &lt;dbl&gt; | oldpeak &lt;dbl&gt; | slope &lt;dbl&gt; | ca &lt;dbl&gt; | thal &lt;dbl&gt; | target &lt;dbl&gt; | thal_total &lt;dbl&gt; |\n",
       "|---|---|---|---|---|---|---|---|---|---|---|---|---|---|---|\n",
       "| 63 | 1 | 3 | 145 | 233 | 1 | 0 | 150 | 0 | 2.3 | 0 | 0 | 1 | 1 | 150 |\n",
       "| 37 | 1 | 2 | 130 | 250 | 0 | 1 | 187 | 0 | 3.5 | 0 | 0 | 2 | 1 | 374 |\n",
       "| 41 | 0 | 1 | 130 | 204 | 0 | 0 | 172 | 0 | 1.4 | 2 | 0 | 2 | 1 | 344 |\n",
       "| 56 | 1 | 1 | 120 | 236 | 0 | 1 | 178 | 0 | 0.8 | 2 | 0 | 2 | 1 | 356 |\n",
       "| 57 | 0 | 0 | 120 | 354 | 0 | 1 | 163 | 1 | 0.6 | 2 | 0 | 2 | 1 | 326 |\n",
       "| 57 | 1 | 0 | 140 | 192 | 0 | 1 | 148 | 0 | 0.4 | 1 | 0 | 1 | 1 | 148 |\n",
       "\n"
      ],
      "text/plain": [
       "  age sex cp trestbps cholesterol fbs restecg thalach exang oldpeak slope ca\n",
       "1 63  1   3  145      233         1   0       150     0     2.3     0     0 \n",
       "2 37  1   2  130      250         0   1       187     0     3.5     0     0 \n",
       "3 41  0   1  130      204         0   0       172     0     1.4     2     0 \n",
       "4 56  1   1  120      236         0   1       178     0     0.8     2     0 \n",
       "5 57  0   0  120      354         0   1       163     1     0.6     2     0 \n",
       "6 57  1   0  140      192         0   1       148     0     0.4     1     0 \n",
       "  thal target thal_total\n",
       "1 1    1      150       \n",
       "2 2    1      374       \n",
       "3 2    1      344       \n",
       "4 2    1      356       \n",
       "5 2    1      326       \n",
       "6 1    1      148       "
      ]
     },
     "metadata": {},
     "output_type": "display_data"
    }
   ],
   "source": [
    "head(group_by(df, sex))"
   ]
  },
  {
   "cell_type": "markdown",
   "id": "f8cf1036",
   "metadata": {},
   "source": [
    "And this step can be reversed with the `ungroup()` function.\n"
   ]
  },
  {
   "cell_type": "markdown",
   "id": "611928ae",
   "metadata": {},
   "source": [
    "## 4. Creating reports in R Markdown\n",
    "\n"
   ]
  },
  {
   "cell_type": "code",
   "execution_count": null,
   "id": "b61955fb",
   "metadata": {},
   "outputs": [],
   "source": []
  }
 ],
 "metadata": {
  "kernelspec": {
   "display_name": "R",
   "language": "R",
   "name": "ir"
  },
  "language_info": {
   "codemirror_mode": "r",
   "file_extension": ".r",
   "mimetype": "text/x-r-source",
   "name": "R",
   "pygments_lexer": "r",
   "version": "4.1.0"
  }
 },
 "nbformat": 4,
 "nbformat_minor": 5
}
