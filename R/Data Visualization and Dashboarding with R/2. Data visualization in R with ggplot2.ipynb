{
 "cells": [
  {
   "cell_type": "markdown",
   "id": "8810afb6-08cd-4f87-b2e5-78fc0afbb21c",
   "metadata": {},
   "source": [
    "# Data visualization in R with ggplot2\n",
    "\n",
    "## 1. Getting started with ggplot2\n",
    "\n",
    "The ggplo2 package stands for 'Grammar or Graphics', so let's first look at how data visualization works in ggplot. It has 5 main ingredients:\n",
    "\n",
    "- Tidy data\n",
    "- Mapping 'aesthetics' to plot\n",
    "- Geometric shapes (geoms) to plot\n",
    "- Coordinate system\n",
    "- Labels, guides (legends) and other anotations\n",
    "\n"
   ]
  },
  {
   "cell_type": "code",
   "execution_count": 1,
   "id": "7c1a6190-18e6-4c82-9efc-a1ac7b67c314",
   "metadata": {},
   "outputs": [
    {
     "data": {
      "text/html": [
       "'C:/Users/ignia/Documents/Courses/R/Data Visualization and Dashboarding with R'"
      ],
      "text/latex": [
       "'C:/Users/ignia/Documents/Courses/R/Data Visualization and Dashboarding with R'"
      ],
      "text/markdown": [
       "'C:/Users/ignia/Documents/Courses/R/Data Visualization and Dashboarding with R'"
      ],
      "text/plain": [
       "[1] \"C:/Users/ignia/Documents/Courses/R/Data Visualization and Dashboarding with R\""
      ]
     },
     "metadata": {},
     "output_type": "display_data"
    }
   ],
   "source": [
    "# Looking at working directory\n",
    "getwd()"
   ]
  },
  {
   "cell_type": "code",
   "execution_count": 2,
   "id": "eee6d4f4-ef5e-48cd-83a7-2646a531fb9f",
   "metadata": {},
   "outputs": [
    {
     "name": "stderr",
     "output_type": "stream",
     "text": [
      "-- \u001b[1mAttaching packages\u001b[22m ------------------------------------------------------------------------------- tidyverse 1.3.1 --\n",
      "\n",
      "\u001b[32mv\u001b[39m \u001b[34mggplot2\u001b[39m 3.3.5     \u001b[32mv\u001b[39m \u001b[34mpurrr  \u001b[39m 0.3.4\n",
      "\u001b[32mv\u001b[39m \u001b[34mtibble \u001b[39m 3.1.2     \u001b[32mv\u001b[39m \u001b[34mdplyr  \u001b[39m 1.0.7\n",
      "\u001b[32mv\u001b[39m \u001b[34mtidyr  \u001b[39m 1.1.3     \u001b[32mv\u001b[39m \u001b[34mstringr\u001b[39m 1.4.0\n",
      "\u001b[32mv\u001b[39m \u001b[34mreadr  \u001b[39m 1.4.0     \u001b[32mv\u001b[39m \u001b[34mforcats\u001b[39m 0.5.1\n",
      "\n",
      "Warning message:\n",
      "\"package 'ggplot2' was built under R version 4.1.1\"\n",
      "-- \u001b[1mConflicts\u001b[22m ---------------------------------------------------------------------------------- tidyverse_conflicts() --\n",
      "\u001b[31mx\u001b[39m \u001b[34mdplyr\u001b[39m::\u001b[32mfilter()\u001b[39m masks \u001b[34mstats\u001b[39m::filter()\n",
      "\u001b[31mx\u001b[39m \u001b[34mdplyr\u001b[39m::\u001b[32mlag()\u001b[39m    masks \u001b[34mstats\u001b[39m::lag()\n",
      "\n"
     ]
    }
   ],
   "source": [
    "# Load packages\n",
    "library(tidyverse)"
   ]
  },
  {
   "cell_type": "code",
   "execution_count": 3,
   "id": "489c7271-54f7-4496-86ed-1cf0d2d4fc79",
   "metadata": {},
   "outputs": [
    {
     "data": {
      "text/html": [
       "<table class=\"dataframe\">\n",
       "<caption>A tibble: 6 × 54</caption>\n",
       "<thead>\n",
       "\t<tr><th scope=col>thomas_num</th><th scope=col>thomas_name</th><th scope=col>icpsr</th><th scope=col>congress</th><th scope=col>year</th><th scope=col>st_name</th><th scope=col>cd</th><th scope=col>dem</th><th scope=col>majority</th><th scope=col>elected</th><th scope=col>...</th><th scope=col>c_abc</th><th scope=col>c_pass</th><th scope=col>c_law</th><th scope=col>all_bills</th><th scope=col>all_aic</th><th scope=col>all_abc</th><th scope=col>all_pass</th><th scope=col>all_law</th><th scope=col>les</th><th scope=col>leslag</th></tr>\n",
       "\t<tr><th scope=col>&lt;chr&gt;</th><th scope=col>&lt;chr&gt;</th><th scope=col>&lt;chr&gt;</th><th scope=col>&lt;chr&gt;</th><th scope=col>&lt;chr&gt;</th><th scope=col>&lt;chr&gt;</th><th scope=col>&lt;chr&gt;</th><th scope=col>&lt;chr&gt;</th><th scope=col>&lt;chr&gt;</th><th scope=col>&lt;chr&gt;</th><th scope=col>...</th><th scope=col>&lt;chr&gt;</th><th scope=col>&lt;chr&gt;</th><th scope=col>&lt;chr&gt;</th><th scope=col>&lt;chr&gt;</th><th scope=col>&lt;chr&gt;</th><th scope=col>&lt;chr&gt;</th><th scope=col>&lt;chr&gt;</th><th scope=col>&lt;chr&gt;</th><th scope=col>&lt;chr&gt;</th><th scope=col>&lt;chr&gt;</th></tr>\n",
       "</thead>\n",
       "<tbody>\n",
       "\t<tr><td>Numeric counter for order in THOMAS data from 93rd - 110th Congresses</td><td>Legislator name, as given in THOMAS</td><td>ICPSR number, according to Poole and Rosenthal</td><td>Congress number</td><td>Year at start of Congress</td><td>Two-letter state code</td><td>Congressional district number</td><td>1 = Democrat</td><td>1 = majority party member</td><td>Year first elected to House</td><td>...</td><td>Number of commemorative bills with action beyond committee</td><td>Number of commemorative bills passed House</td><td>Number of commemorative bills became law</td><td>Total bills sponsored</td><td>Total bills with action in committee</td><td>Total bills with action beyond committee</td><td>Total bills passed House</td><td>Total bills became law</td><td>Legislative Effectiveness Score (1-5-10)</td><td>Lagged LES</td></tr>\n",
       "\t<tr><td>1                                                                    </td><td>Abdnor, James                      </td><td>14000                                         </td><td>93             </td><td>1973                     </td><td>SD                   </td><td>2                            </td><td>0           </td><td>0                        </td><td>1972                       </td><td>...</td><td>0                                                         </td><td>0                                         </td><td>0                                       </td><td>22                   </td><td>0                                   </td><td>0                                       </td><td>0                       </td><td>0                     </td><td>0.10957026481628418                     </td><td>NA        </td></tr>\n",
       "\t<tr><td>2                                                                    </td><td>Abzug, Bella                       </td><td>13001                                         </td><td>93             </td><td>1973                     </td><td>NY                   </td><td>20                           </td><td>1           </td><td>1                        </td><td>1970                       </td><td>...</td><td>1                                                         </td><td>1                                         </td><td>1                                       </td><td>136                  </td><td>1                                   </td><td>1                                       </td><td>1                       </td><td>1                     </td><td>0.76243108510971069                     </td><td>NA        </td></tr>\n",
       "\t<tr><td>3                                                                    </td><td>Adams, Brock                       </td><td>10700                                         </td><td>93             </td><td>1973                     </td><td>WA                   </td><td>7                            </td><td>1           </td><td>1                        </td><td>1964                       </td><td>...</td><td>0                                                         </td><td>0                                         </td><td>0                                       </td><td>37                   </td><td>2                                   </td><td>2                                       </td><td>2                       </td><td>1                     </td><td>1.2364784479141235                      </td><td>NA        </td></tr>\n",
       "\t<tr><td>4                                                                    </td><td>Addabbo, Joseph                    </td><td>10500                                         </td><td>93             </td><td>1973                     </td><td>NY                   </td><td>7                            </td><td>1           </td><td>1                        </td><td>1960                       </td><td>...</td><td>0                                                         </td><td>0                                         </td><td>0                                       </td><td>38                   </td><td>0                                   </td><td>0                                       </td><td>0                       </td><td>0                     </td><td>0.15505225956439972                     </td><td>NA        </td></tr>\n",
       "\t<tr><td>5                                                                    </td><td>Albert, Carl                       </td><td>NA                                            </td><td>93             </td><td>1973                     </td><td>OK                   </td><td>3                            </td><td>NA          </td><td>0                        </td><td>1946                       </td><td>...</td><td>0                                                         </td><td>0                                         </td><td>0                                       </td><td>1                    </td><td>0                                   </td><td>0                                       </td><td>0                       </td><td>0                     </td><td>1.0336817940697074E-3                   </td><td>NA        </td></tr>\n",
       "</tbody>\n",
       "</table>\n"
      ],
      "text/latex": [
       "A tibble: 6 × 54\n",
       "\\begin{tabular}{lllllllllllllllllllll}\n",
       " thomas\\_num & thomas\\_name & icpsr & congress & year & st\\_name & cd & dem & majority & elected & ... & c\\_abc & c\\_pass & c\\_law & all\\_bills & all\\_aic & all\\_abc & all\\_pass & all\\_law & les & leslag\\\\\n",
       " <chr> & <chr> & <chr> & <chr> & <chr> & <chr> & <chr> & <chr> & <chr> & <chr> & ... & <chr> & <chr> & <chr> & <chr> & <chr> & <chr> & <chr> & <chr> & <chr> & <chr>\\\\\n",
       "\\hline\n",
       "\t Numeric counter for order in THOMAS data from 93rd - 110th Congresses & Legislator name, as given in THOMAS & ICPSR number, according to Poole and Rosenthal & Congress number & Year at start of Congress & Two-letter state code & Congressional district number & 1 = Democrat & 1 = majority party member & Year first elected to House & ... & Number of commemorative bills with action beyond committee & Number of commemorative bills passed House & Number of commemorative bills became law & Total bills sponsored & Total bills with action in committee & Total bills with action beyond committee & Total bills passed House & Total bills became law & Legislative Effectiveness Score (1-5-10) & Lagged LES\\\\\n",
       "\t 1                                                                     & Abdnor, James                       & 14000                                          & 93              & 1973                      & SD                    & 2                             & 0            & 0                         & 1972                        & ... & 0                                                          & 0                                          & 0                                        & 22                    & 0                                    & 0                                        & 0                        & 0                      & 0.10957026481628418                      & NA        \\\\\n",
       "\t 2                                                                     & Abzug, Bella                        & 13001                                          & 93              & 1973                      & NY                    & 20                            & 1            & 1                         & 1970                        & ... & 1                                                          & 1                                          & 1                                        & 136                   & 1                                    & 1                                        & 1                        & 1                      & 0.76243108510971069                      & NA        \\\\\n",
       "\t 3                                                                     & Adams, Brock                        & 10700                                          & 93              & 1973                      & WA                    & 7                             & 1            & 1                         & 1964                        & ... & 0                                                          & 0                                          & 0                                        & 37                    & 2                                    & 2                                        & 2                        & 1                      & 1.2364784479141235                       & NA        \\\\\n",
       "\t 4                                                                     & Addabbo, Joseph                     & 10500                                          & 93              & 1973                      & NY                    & 7                             & 1            & 1                         & 1960                        & ... & 0                                                          & 0                                          & 0                                        & 38                    & 0                                    & 0                                        & 0                        & 0                      & 0.15505225956439972                      & NA        \\\\\n",
       "\t 5                                                                     & Albert, Carl                        & NA                                             & 93              & 1973                      & OK                    & 3                             & NA           & 0                         & 1946                        & ... & 0                                                          & 0                                          & 0                                        & 1                     & 0                                    & 0                                        & 0                        & 0                      & 1.0336817940697074E-3                    & NA        \\\\\n",
       "\\end{tabular}\n"
      ],
      "text/markdown": [
       "\n",
       "A tibble: 6 × 54\n",
       "\n",
       "| thomas_num &lt;chr&gt; | thomas_name &lt;chr&gt; | icpsr &lt;chr&gt; | congress &lt;chr&gt; | year &lt;chr&gt; | st_name &lt;chr&gt; | cd &lt;chr&gt; | dem &lt;chr&gt; | majority &lt;chr&gt; | elected &lt;chr&gt; | ... ... | c_abc &lt;chr&gt; | c_pass &lt;chr&gt; | c_law &lt;chr&gt; | all_bills &lt;chr&gt; | all_aic &lt;chr&gt; | all_abc &lt;chr&gt; | all_pass &lt;chr&gt; | all_law &lt;chr&gt; | les &lt;chr&gt; | leslag &lt;chr&gt; |\n",
       "|---|---|---|---|---|---|---|---|---|---|---|---|---|---|---|---|---|---|---|---|---|\n",
       "| Numeric counter for order in THOMAS data from 93rd - 110th Congresses | Legislator name, as given in THOMAS | ICPSR number, according to Poole and Rosenthal | Congress number | Year at start of Congress | Two-letter state code | Congressional district number | 1 = Democrat | 1 = majority party member | Year first elected to House | ... | Number of commemorative bills with action beyond committee | Number of commemorative bills passed House | Number of commemorative bills became law | Total bills sponsored | Total bills with action in committee | Total bills with action beyond committee | Total bills passed House | Total bills became law | Legislative Effectiveness Score (1-5-10) | Lagged LES |\n",
       "| 1                                                                     | Abdnor, James                       | 14000                                          | 93              | 1973                      | SD                    | 2                             | 0            | 0                         | 1972                        | ... | 0                                                          | 0                                          | 0                                        | 22                    | 0                                    | 0                                        | 0                        | 0                      | 0.10957026481628418                      | NA         |\n",
       "| 2                                                                     | Abzug, Bella                        | 13001                                          | 93              | 1973                      | NY                    | 20                            | 1            | 1                         | 1970                        | ... | 1                                                          | 1                                          | 1                                        | 136                   | 1                                    | 1                                        | 1                        | 1                      | 0.76243108510971069                      | NA         |\n",
       "| 3                                                                     | Adams, Brock                        | 10700                                          | 93              | 1973                      | WA                    | 7                             | 1            | 1                         | 1964                        | ... | 0                                                          | 0                                          | 0                                        | 37                    | 2                                    | 2                                        | 2                        | 1                      | 1.2364784479141235                       | NA         |\n",
       "| 4                                                                     | Addabbo, Joseph                     | 10500                                          | 93              | 1973                      | NY                    | 7                             | 1            | 1                         | 1960                        | ... | 0                                                          | 0                                          | 0                                        | 38                    | 0                                    | 0                                        | 0                        | 0                      | 0.15505225956439972                      | NA         |\n",
       "| 5                                                                     | Albert, Carl                        | NA                                             | 93              | 1973                      | OK                    | 3                             | NA           | 0                         | 1946                        | ... | 0                                                          | 0                                          | 0                                        | 1                     | 0                                    | 0                                        | 0                        | 0                      | 1.0336817940697074E-3                    | NA         |\n",
       "\n"
      ],
      "text/plain": [
       "  thomas_num                                                           \n",
       "1 Numeric counter for order in THOMAS data from 93rd - 110th Congresses\n",
       "2 1                                                                    \n",
       "3 2                                                                    \n",
       "4 3                                                                    \n",
       "5 4                                                                    \n",
       "6 5                                                                    \n",
       "  thomas_name                        \n",
       "1 Legislator name, as given in THOMAS\n",
       "2 Abdnor, James                      \n",
       "3 Abzug, Bella                       \n",
       "4 Adams, Brock                       \n",
       "5 Addabbo, Joseph                    \n",
       "6 Albert, Carl                       \n",
       "  icpsr                                          congress       \n",
       "1 ICPSR number, according to Poole and Rosenthal Congress number\n",
       "2 14000                                          93             \n",
       "3 13001                                          93             \n",
       "4 10700                                          93             \n",
       "5 10500                                          93             \n",
       "6 NA                                             93             \n",
       "  year                      st_name               cd                           \n",
       "1 Year at start of Congress Two-letter state code Congressional district number\n",
       "2 1973                      SD                    2                            \n",
       "3 1973                      NY                    20                           \n",
       "4 1973                      WA                    7                            \n",
       "5 1973                      NY                    7                            \n",
       "6 1973                      OK                    3                            \n",
       "  dem          majority                  elected                     ...\n",
       "1 1 = Democrat 1 = majority party member Year first elected to House ...\n",
       "2 0            0                         1972                        ...\n",
       "3 1            1                         1970                        ...\n",
       "4 1            1                         1964                        ...\n",
       "5 1            1                         1960                        ...\n",
       "6 NA           0                         1946                        ...\n",
       "  c_abc                                                     \n",
       "1 Number of commemorative bills with action beyond committee\n",
       "2 0                                                         \n",
       "3 1                                                         \n",
       "4 0                                                         \n",
       "5 0                                                         \n",
       "6 0                                                         \n",
       "  c_pass                                    \n",
       "1 Number of commemorative bills passed House\n",
       "2 0                                         \n",
       "3 1                                         \n",
       "4 0                                         \n",
       "5 0                                         \n",
       "6 0                                         \n",
       "  c_law                                    all_bills            \n",
       "1 Number of commemorative bills became law Total bills sponsored\n",
       "2 0                                        22                   \n",
       "3 1                                        136                  \n",
       "4 0                                        37                   \n",
       "5 0                                        38                   \n",
       "6 0                                        1                    \n",
       "  all_aic                              all_abc                                 \n",
       "1 Total bills with action in committee Total bills with action beyond committee\n",
       "2 0                                    0                                       \n",
       "3 1                                    1                                       \n",
       "4 2                                    2                                       \n",
       "5 0                                    0                                       \n",
       "6 0                                    0                                       \n",
       "  all_pass                 all_law               \n",
       "1 Total bills passed House Total bills became law\n",
       "2 0                        0                     \n",
       "3 1                        1                     \n",
       "4 2                        1                     \n",
       "5 0                        0                     \n",
       "6 0                        0                     \n",
       "  les                                      leslag    \n",
       "1 Legislative Effectiveness Score (1-5-10) Lagged LES\n",
       "2 0.10957026481628418                      NA        \n",
       "3 0.76243108510971069                      NA        \n",
       "4 1.2364784479141235                       NA        \n",
       "5 0.15505225956439972                      NA        \n",
       "6 1.0336817940697074E-3                    NA        "
      ]
     },
     "metadata": {},
     "output_type": "display_data"
    }
   ],
   "source": [
    "library(readxl)\n",
    "\n",
    "df = read_excel('datasets/effective_lawmaking.xlsx')\n",
    "head(df)"
   ]
  },
  {
   "cell_type": "code",
   "execution_count": 4,
   "id": "d81210a2-c2f7-41f0-be6b-8d26129b84af",
   "metadata": {},
   "outputs": [
    {
     "data": {
      "text/html": [
       "<table class=\"dataframe\">\n",
       "<caption>A tibble: 6 × 54</caption>\n",
       "<thead>\n",
       "\t<tr><th scope=col>thomas_num</th><th scope=col>thomas_name</th><th scope=col>icpsr</th><th scope=col>congress</th><th scope=col>year</th><th scope=col>st_name</th><th scope=col>cd</th><th scope=col>dem</th><th scope=col>majority</th><th scope=col>elected</th><th scope=col>...</th><th scope=col>c_abc</th><th scope=col>c_pass</th><th scope=col>c_law</th><th scope=col>all_bills</th><th scope=col>all_aic</th><th scope=col>all_abc</th><th scope=col>all_pass</th><th scope=col>all_law</th><th scope=col>les</th><th scope=col>leslag</th></tr>\n",
       "\t<tr><th scope=col>&lt;chr&gt;</th><th scope=col>&lt;chr&gt;</th><th scope=col>&lt;chr&gt;</th><th scope=col>&lt;chr&gt;</th><th scope=col>&lt;chr&gt;</th><th scope=col>&lt;chr&gt;</th><th scope=col>&lt;chr&gt;</th><th scope=col>&lt;chr&gt;</th><th scope=col>&lt;chr&gt;</th><th scope=col>&lt;chr&gt;</th><th scope=col>...</th><th scope=col>&lt;chr&gt;</th><th scope=col>&lt;chr&gt;</th><th scope=col>&lt;chr&gt;</th><th scope=col>&lt;chr&gt;</th><th scope=col>&lt;chr&gt;</th><th scope=col>&lt;chr&gt;</th><th scope=col>&lt;chr&gt;</th><th scope=col>&lt;chr&gt;</th><th scope=col>&lt;chr&gt;</th><th scope=col>&lt;chr&gt;</th></tr>\n",
       "</thead>\n",
       "<tbody>\n",
       "\t<tr><td>1</td><td>Abdnor, James  </td><td>14000</td><td>93</td><td>1973</td><td>SD</td><td>2 </td><td>0 </td><td>0</td><td>1972</td><td>...</td><td>0</td><td>0</td><td>0</td><td>22 </td><td>0</td><td>0</td><td>0</td><td>0</td><td>0.10957026481628418  </td><td>NA</td></tr>\n",
       "\t<tr><td>2</td><td>Abzug, Bella   </td><td>13001</td><td>93</td><td>1973</td><td>NY</td><td>20</td><td>1 </td><td>1</td><td>1970</td><td>...</td><td>1</td><td>1</td><td>1</td><td>136</td><td>1</td><td>1</td><td>1</td><td>1</td><td>0.76243108510971069  </td><td>NA</td></tr>\n",
       "\t<tr><td>3</td><td>Adams, Brock   </td><td>10700</td><td>93</td><td>1973</td><td>WA</td><td>7 </td><td>1 </td><td>1</td><td>1964</td><td>...</td><td>0</td><td>0</td><td>0</td><td>37 </td><td>2</td><td>2</td><td>2</td><td>1</td><td>1.2364784479141235   </td><td>NA</td></tr>\n",
       "\t<tr><td>4</td><td>Addabbo, Joseph</td><td>10500</td><td>93</td><td>1973</td><td>NY</td><td>7 </td><td>1 </td><td>1</td><td>1960</td><td>...</td><td>0</td><td>0</td><td>0</td><td>38 </td><td>0</td><td>0</td><td>0</td><td>0</td><td>0.15505225956439972  </td><td>NA</td></tr>\n",
       "\t<tr><td>5</td><td>Albert, Carl   </td><td>NA   </td><td>93</td><td>1973</td><td>OK</td><td>3 </td><td>NA</td><td>0</td><td>1946</td><td>...</td><td>0</td><td>0</td><td>0</td><td>1  </td><td>0</td><td>0</td><td>0</td><td>0</td><td>1.0336817940697074E-3</td><td>NA</td></tr>\n",
       "\t<tr><td>6</td><td>Alexander, Bill</td><td>12000</td><td>93</td><td>1973</td><td>AR</td><td>1 </td><td>1 </td><td>1</td><td>1968</td><td>...</td><td>0</td><td>0</td><td>0</td><td>53 </td><td>3</td><td>3</td><td>2</td><td>1</td><td>1.8750505447387695   </td><td>NA</td></tr>\n",
       "</tbody>\n",
       "</table>\n"
      ],
      "text/latex": [
       "A tibble: 6 × 54\n",
       "\\begin{tabular}{lllllllllllllllllllll}\n",
       " thomas\\_num & thomas\\_name & icpsr & congress & year & st\\_name & cd & dem & majority & elected & ... & c\\_abc & c\\_pass & c\\_law & all\\_bills & all\\_aic & all\\_abc & all\\_pass & all\\_law & les & leslag\\\\\n",
       " <chr> & <chr> & <chr> & <chr> & <chr> & <chr> & <chr> & <chr> & <chr> & <chr> & ... & <chr> & <chr> & <chr> & <chr> & <chr> & <chr> & <chr> & <chr> & <chr> & <chr>\\\\\n",
       "\\hline\n",
       "\t 1 & Abdnor, James   & 14000 & 93 & 1973 & SD & 2  & 0  & 0 & 1972 & ... & 0 & 0 & 0 & 22  & 0 & 0 & 0 & 0 & 0.10957026481628418   & NA\\\\\n",
       "\t 2 & Abzug, Bella    & 13001 & 93 & 1973 & NY & 20 & 1  & 1 & 1970 & ... & 1 & 1 & 1 & 136 & 1 & 1 & 1 & 1 & 0.76243108510971069   & NA\\\\\n",
       "\t 3 & Adams, Brock    & 10700 & 93 & 1973 & WA & 7  & 1  & 1 & 1964 & ... & 0 & 0 & 0 & 37  & 2 & 2 & 2 & 1 & 1.2364784479141235    & NA\\\\\n",
       "\t 4 & Addabbo, Joseph & 10500 & 93 & 1973 & NY & 7  & 1  & 1 & 1960 & ... & 0 & 0 & 0 & 38  & 0 & 0 & 0 & 0 & 0.15505225956439972   & NA\\\\\n",
       "\t 5 & Albert, Carl    & NA    & 93 & 1973 & OK & 3  & NA & 0 & 1946 & ... & 0 & 0 & 0 & 1   & 0 & 0 & 0 & 0 & 1.0336817940697074E-3 & NA\\\\\n",
       "\t 6 & Alexander, Bill & 12000 & 93 & 1973 & AR & 1  & 1  & 1 & 1968 & ... & 0 & 0 & 0 & 53  & 3 & 3 & 2 & 1 & 1.8750505447387695    & NA\\\\\n",
       "\\end{tabular}\n"
      ],
      "text/markdown": [
       "\n",
       "A tibble: 6 × 54\n",
       "\n",
       "| thomas_num &lt;chr&gt; | thomas_name &lt;chr&gt; | icpsr &lt;chr&gt; | congress &lt;chr&gt; | year &lt;chr&gt; | st_name &lt;chr&gt; | cd &lt;chr&gt; | dem &lt;chr&gt; | majority &lt;chr&gt; | elected &lt;chr&gt; | ... ... | c_abc &lt;chr&gt; | c_pass &lt;chr&gt; | c_law &lt;chr&gt; | all_bills &lt;chr&gt; | all_aic &lt;chr&gt; | all_abc &lt;chr&gt; | all_pass &lt;chr&gt; | all_law &lt;chr&gt; | les &lt;chr&gt; | leslag &lt;chr&gt; |\n",
       "|---|---|---|---|---|---|---|---|---|---|---|---|---|---|---|---|---|---|---|---|---|\n",
       "| 1 | Abdnor, James   | 14000 | 93 | 1973 | SD | 2  | 0  | 0 | 1972 | ... | 0 | 0 | 0 | 22  | 0 | 0 | 0 | 0 | 0.10957026481628418   | NA |\n",
       "| 2 | Abzug, Bella    | 13001 | 93 | 1973 | NY | 20 | 1  | 1 | 1970 | ... | 1 | 1 | 1 | 136 | 1 | 1 | 1 | 1 | 0.76243108510971069   | NA |\n",
       "| 3 | Adams, Brock    | 10700 | 93 | 1973 | WA | 7  | 1  | 1 | 1964 | ... | 0 | 0 | 0 | 37  | 2 | 2 | 2 | 1 | 1.2364784479141235    | NA |\n",
       "| 4 | Addabbo, Joseph | 10500 | 93 | 1973 | NY | 7  | 1  | 1 | 1960 | ... | 0 | 0 | 0 | 38  | 0 | 0 | 0 | 0 | 0.15505225956439972   | NA |\n",
       "| 5 | Albert, Carl    | NA    | 93 | 1973 | OK | 3  | NA | 0 | 1946 | ... | 0 | 0 | 0 | 1   | 0 | 0 | 0 | 0 | 1.0336817940697074E-3 | NA |\n",
       "| 6 | Alexander, Bill | 12000 | 93 | 1973 | AR | 1  | 1  | 1 | 1968 | ... | 0 | 0 | 0 | 53  | 3 | 3 | 2 | 1 | 1.8750505447387695    | NA |\n",
       "\n"
      ],
      "text/plain": [
       "  thomas_num thomas_name     icpsr congress year st_name cd dem majority\n",
       "1 1          Abdnor, James   14000 93       1973 SD      2  0   0       \n",
       "2 2          Abzug, Bella    13001 93       1973 NY      20 1   1       \n",
       "3 3          Adams, Brock    10700 93       1973 WA      7  1   1       \n",
       "4 4          Addabbo, Joseph 10500 93       1973 NY      7  1   1       \n",
       "5 5          Albert, Carl    NA    93       1973 OK      3  NA  0       \n",
       "6 6          Alexander, Bill 12000 93       1973 AR      1  1   1       \n",
       "  elected ... c_abc c_pass c_law all_bills all_aic all_abc all_pass all_law\n",
       "1 1972    ... 0     0      0     22        0       0       0        0      \n",
       "2 1970    ... 1     1      1     136       1       1       1        1      \n",
       "3 1964    ... 0     0      0     37        2       2       2        1      \n",
       "4 1960    ... 0     0      0     38        0       0       0        0      \n",
       "5 1946    ... 0     0      0     1         0       0       0        0      \n",
       "6 1968    ... 0     0      0     53        3       3       2        1      \n",
       "  les                   leslag\n",
       "1 0.10957026481628418   NA    \n",
       "2 0.76243108510971069   NA    \n",
       "3 1.2364784479141235    NA    \n",
       "4 0.15505225956439972   NA    \n",
       "5 1.0336817940697074E-3 NA    \n",
       "6 1.8750505447387695    NA    "
      ]
     },
     "metadata": {},
     "output_type": "display_data"
    }
   ],
   "source": [
    "# Deleting first row\n",
    "df = df[-1,]\n",
    "head(df)"
   ]
  },
  {
   "cell_type": "code",
   "execution_count": 5,
   "id": "e2747174-bf62-45ec-bc3d-763a58ea9547",
   "metadata": {},
   "outputs": [
    {
     "data": {
      "text/html": [
       "<style>\n",
       ".list-inline {list-style: none; margin:0; padding: 0}\n",
       ".list-inline>li {display: inline-block}\n",
       ".list-inline>li:not(:last-child)::after {content: \"\\00b7\"; padding: 0 .5ex}\n",
       "</style>\n",
       "<ol class=list-inline><li>'thomas_num'</li><li>'thomas_name'</li><li>'icpsr'</li><li>'congress'</li><li>'year'</li><li>'st_name'</li><li>'cd'</li><li>'dem'</li><li>'majority'</li><li>'elected'</li><li>'female'</li><li>'afam'</li><li>'latino'</li><li>'votepct'</li><li>'votepct_sq'</li><li>'dwnom1'</li><li>'meddist'</li><li>'majdist'</li><li>'deleg_size'</li><li>'speaker'</li><li>'chair'</li><li>'subchr'</li><li>'power'</li><li>'budget'</li><li>'seniority'</li><li>'sensq'</li><li>'state_leg'</li><li>'state_leg_prof'</li><li>'maj_leader'</li><li>'min_leader'</li><li>'south'</li><li>'south_dem'</li><li>'ss_bills'</li><li>'ss_aic'</li><li>'ss_abc'</li><li>'ss_pass'</li><li>'ss_law'</li><li>'s_bills'</li><li>'s_aic'</li><li>'s_abc'</li><li>'s_pass'</li><li>'s_law'</li><li>'c_bills'</li><li>'c_aic'</li><li>'c_abc'</li><li>'c_pass'</li><li>'c_law'</li><li>'all_bills'</li><li>'all_aic'</li><li>'all_abc'</li><li>'all_pass'</li><li>'all_law'</li><li>'les'</li><li>'leslag'</li></ol>\n"
      ],
      "text/latex": [
       "\\begin{enumerate*}\n",
       "\\item 'thomas\\_num'\n",
       "\\item 'thomas\\_name'\n",
       "\\item 'icpsr'\n",
       "\\item 'congress'\n",
       "\\item 'year'\n",
       "\\item 'st\\_name'\n",
       "\\item 'cd'\n",
       "\\item 'dem'\n",
       "\\item 'majority'\n",
       "\\item 'elected'\n",
       "\\item 'female'\n",
       "\\item 'afam'\n",
       "\\item 'latino'\n",
       "\\item 'votepct'\n",
       "\\item 'votepct\\_sq'\n",
       "\\item 'dwnom1'\n",
       "\\item 'meddist'\n",
       "\\item 'majdist'\n",
       "\\item 'deleg\\_size'\n",
       "\\item 'speaker'\n",
       "\\item 'chair'\n",
       "\\item 'subchr'\n",
       "\\item 'power'\n",
       "\\item 'budget'\n",
       "\\item 'seniority'\n",
       "\\item 'sensq'\n",
       "\\item 'state\\_leg'\n",
       "\\item 'state\\_leg\\_prof'\n",
       "\\item 'maj\\_leader'\n",
       "\\item 'min\\_leader'\n",
       "\\item 'south'\n",
       "\\item 'south\\_dem'\n",
       "\\item 'ss\\_bills'\n",
       "\\item 'ss\\_aic'\n",
       "\\item 'ss\\_abc'\n",
       "\\item 'ss\\_pass'\n",
       "\\item 'ss\\_law'\n",
       "\\item 's\\_bills'\n",
       "\\item 's\\_aic'\n",
       "\\item 's\\_abc'\n",
       "\\item 's\\_pass'\n",
       "\\item 's\\_law'\n",
       "\\item 'c\\_bills'\n",
       "\\item 'c\\_aic'\n",
       "\\item 'c\\_abc'\n",
       "\\item 'c\\_pass'\n",
       "\\item 'c\\_law'\n",
       "\\item 'all\\_bills'\n",
       "\\item 'all\\_aic'\n",
       "\\item 'all\\_abc'\n",
       "\\item 'all\\_pass'\n",
       "\\item 'all\\_law'\n",
       "\\item 'les'\n",
       "\\item 'leslag'\n",
       "\\end{enumerate*}\n"
      ],
      "text/markdown": [
       "1. 'thomas_num'\n",
       "2. 'thomas_name'\n",
       "3. 'icpsr'\n",
       "4. 'congress'\n",
       "5. 'year'\n",
       "6. 'st_name'\n",
       "7. 'cd'\n",
       "8. 'dem'\n",
       "9. 'majority'\n",
       "10. 'elected'\n",
       "11. 'female'\n",
       "12. 'afam'\n",
       "13. 'latino'\n",
       "14. 'votepct'\n",
       "15. 'votepct_sq'\n",
       "16. 'dwnom1'\n",
       "17. 'meddist'\n",
       "18. 'majdist'\n",
       "19. 'deleg_size'\n",
       "20. 'speaker'\n",
       "21. 'chair'\n",
       "22. 'subchr'\n",
       "23. 'power'\n",
       "24. 'budget'\n",
       "25. 'seniority'\n",
       "26. 'sensq'\n",
       "27. 'state_leg'\n",
       "28. 'state_leg_prof'\n",
       "29. 'maj_leader'\n",
       "30. 'min_leader'\n",
       "31. 'south'\n",
       "32. 'south_dem'\n",
       "33. 'ss_bills'\n",
       "34. 'ss_aic'\n",
       "35. 'ss_abc'\n",
       "36. 'ss_pass'\n",
       "37. 'ss_law'\n",
       "38. 's_bills'\n",
       "39. 's_aic'\n",
       "40. 's_abc'\n",
       "41. 's_pass'\n",
       "42. 's_law'\n",
       "43. 'c_bills'\n",
       "44. 'c_aic'\n",
       "45. 'c_abc'\n",
       "46. 'c_pass'\n",
       "47. 'c_law'\n",
       "48. 'all_bills'\n",
       "49. 'all_aic'\n",
       "50. 'all_abc'\n",
       "51. 'all_pass'\n",
       "52. 'all_law'\n",
       "53. 'les'\n",
       "54. 'leslag'\n",
       "\n",
       "\n"
      ],
      "text/plain": [
       " [1] \"thomas_num\"     \"thomas_name\"    \"icpsr\"          \"congress\"      \n",
       " [5] \"year\"           \"st_name\"        \"cd\"             \"dem\"           \n",
       " [9] \"majority\"       \"elected\"        \"female\"         \"afam\"          \n",
       "[13] \"latino\"         \"votepct\"        \"votepct_sq\"     \"dwnom1\"        \n",
       "[17] \"meddist\"        \"majdist\"        \"deleg_size\"     \"speaker\"       \n",
       "[21] \"chair\"          \"subchr\"         \"power\"          \"budget\"        \n",
       "[25] \"seniority\"      \"sensq\"          \"state_leg\"      \"state_leg_prof\"\n",
       "[29] \"maj_leader\"     \"min_leader\"     \"south\"          \"south_dem\"     \n",
       "[33] \"ss_bills\"       \"ss_aic\"         \"ss_abc\"         \"ss_pass\"       \n",
       "[37] \"ss_law\"         \"s_bills\"        \"s_aic\"          \"s_abc\"         \n",
       "[41] \"s_pass\"         \"s_law\"          \"c_bills\"        \"c_aic\"         \n",
       "[45] \"c_abc\"          \"c_pass\"         \"c_law\"          \"all_bills\"     \n",
       "[49] \"all_aic\"        \"all_abc\"        \"all_pass\"       \"all_law\"       \n",
       "[53] \"les\"            \"leslag\"        "
      ]
     },
     "metadata": {},
     "output_type": "display_data"
    },
    {
     "data": {
      "text/html": [
       "<style>\n",
       ".list-inline {list-style: none; margin:0; padding: 0}\n",
       ".list-inline>li {display: inline-block}\n",
       ".list-inline>li:not(:last-child)::after {content: \"\\00b7\"; padding: 0 .5ex}\n",
       "</style>\n",
       "<ol class=list-inline><li>8016</li><li>54</li></ol>\n"
      ],
      "text/latex": [
       "\\begin{enumerate*}\n",
       "\\item 8016\n",
       "\\item 54\n",
       "\\end{enumerate*}\n"
      ],
      "text/markdown": [
       "1. 8016\n",
       "2. 54\n",
       "\n",
       "\n"
      ],
      "text/plain": [
       "[1] 8016   54"
      ]
     },
     "metadata": {},
     "output_type": "display_data"
    },
    {
     "name": "stdout",
     "output_type": "stream",
     "text": [
      "tibble [8,016 x 54] (S3: tbl_df/tbl/data.frame)\n",
      " $ thomas_num    : chr [1:8016] \"1\" \"2\" \"3\" \"4\" ...\n",
      " $ thomas_name   : chr [1:8016] \"Abdnor, James\" \"Abzug, Bella\" \"Adams, Brock\" \"Addabbo, Joseph\" ...\n",
      " $ icpsr         : chr [1:8016] \"14000\" \"13001\" \"10700\" \"10500\" ...\n",
      " $ congress      : chr [1:8016] \"93\" \"93\" \"93\" \"93\" ...\n",
      " $ year          : chr [1:8016] \"1973\" \"1973\" \"1973\" \"1973\" ...\n",
      " $ st_name       : chr [1:8016] \"SD\" \"NY\" \"WA\" \"NY\" ...\n",
      " $ cd            : chr [1:8016] \"2\" \"20\" \"7\" \"7\" ...\n",
      " $ dem           : chr [1:8016] \"0\" \"1\" \"1\" \"1\" ...\n",
      " $ majority      : chr [1:8016] \"0\" \"1\" \"1\" \"1\" ...\n",
      " $ elected       : chr [1:8016] \"1972\" \"1970\" \"1964\" \"1960\" ...\n",
      " $ female        : chr [1:8016] \"0\" \"1\" \"0\" \"0\" ...\n",
      " $ afam          : chr [1:8016] \"0\" \"0\" \"0\" \"0\" ...\n",
      " $ latino        : chr [1:8016] \"0\" \"0\" \"0\" \"0\" ...\n",
      " $ votepct       : chr [1:8016] \"55\" \"56\" \"85\" \"75\" ...\n",
      " $ votepct_sq    : chr [1:8016] \"3025\" \"3136\" \"7225\" \"5625\" ...\n",
      " $ dwnom1        : chr [1:8016] \"0.22800000011920929\" \"-0.68699997663497925\" \"-0.36100000143051147\" \"-0.40000000596046448\" ...\n",
      " $ meddist       : chr [1:8016] \"0.27500000596046448\" \"0.63999998569488525\" \"0.31400001049041748\" \"0.35300001502037048\" ...\n",
      " $ majdist       : chr [1:8016] \"0.54750001430511475\" \"0.36749997735023499\" \"4.1500002145767212E-2\" \"8.0500006675720215E-2\" ...\n",
      " $ deleg_size    : chr [1:8016] \"6\" \"39\" \"7\" \"39\" ...\n",
      " $ speaker       : chr [1:8016] \"0\" \"0\" \"0\" \"0\" ...\n",
      " $ chair         : chr [1:8016] \"0\" \"0\" \"0\" \"0\" ...\n",
      " $ subchr        : chr [1:8016] \"0\" \"0\" \"1\" \"1\" ...\n",
      " $ power         : chr [1:8016] \"0\" \"0\" \"0\" \"1\" ...\n",
      " $ budget        : chr [1:8016] \"0\" \"0\" \"1\" \"0\" ...\n",
      " $ seniority     : chr [1:8016] \"1\" \"2\" \"5\" \"7\" ...\n",
      " $ sensq         : chr [1:8016] \"1\" \"4\" \"25\" \"49\" ...\n",
      " $ state_leg     : chr [1:8016] \"1\" \"0\" \"0\" \"0\" ...\n",
      " $ state_leg_prof: chr [1:8016] \"0.10400000214576721\" \"0\" \"0\" \"0\" ...\n",
      " $ maj_leader    : chr [1:8016] \"0\" \"0\" \"0\" \"0\" ...\n",
      " $ min_leader    : chr [1:8016] \"0\" \"0\" \"0\" \"0\" ...\n",
      " $ south         : chr [1:8016] \"0\" \"0\" \"0\" \"0\" ...\n",
      " $ south_dem     : chr [1:8016] \"0\" \"0\" \"0\" \"0\" ...\n",
      " $ ss_bills      : chr [1:8016] \"0\" \"0\" \"2\" \"0\" ...\n",
      " $ ss_aic        : chr [1:8016] \"0\" \"0\" \"1\" \"0\" ...\n",
      " $ ss_abc        : chr [1:8016] \"0\" \"0\" \"1\" \"0\" ...\n",
      " $ ss_pass       : chr [1:8016] \"0\" \"0\" \"1\" \"0\" ...\n",
      " $ ss_law        : chr [1:8016] \"0\" \"0\" \"0\" \"0\" ...\n",
      " $ s_bills       : chr [1:8016] \"21\" \"128\" \"33\" \"28\" ...\n",
      " $ s_aic         : chr [1:8016] \"0\" \"0\" \"1\" \"0\" ...\n",
      " $ s_abc         : chr [1:8016] \"0\" \"0\" \"1\" \"0\" ...\n",
      " $ s_pass        : chr [1:8016] \"0\" \"0\" \"1\" \"0\" ...\n",
      " $ s_law         : chr [1:8016] \"0\" \"0\" \"1\" \"0\" ...\n",
      " $ c_bills       : chr [1:8016] \"1\" \"8\" \"2\" \"10\" ...\n",
      " $ c_aic         : chr [1:8016] \"0\" \"1\" \"0\" \"0\" ...\n",
      " $ c_abc         : chr [1:8016] \"0\" \"1\" \"0\" \"0\" ...\n",
      " $ c_pass        : chr [1:8016] \"0\" \"1\" \"0\" \"0\" ...\n",
      " $ c_law         : chr [1:8016] \"0\" \"1\" \"0\" \"0\" ...\n",
      " $ all_bills     : chr [1:8016] \"22\" \"136\" \"37\" \"38\" ...\n",
      " $ all_aic       : chr [1:8016] \"0\" \"1\" \"2\" \"0\" ...\n",
      " $ all_abc       : chr [1:8016] \"0\" \"1\" \"2\" \"0\" ...\n",
      " $ all_pass      : chr [1:8016] \"0\" \"1\" \"2\" \"0\" ...\n",
      " $ all_law       : chr [1:8016] \"0\" \"1\" \"1\" \"0\" ...\n",
      " $ les           : chr [1:8016] \"0.10957026481628418\" \"0.76243108510971069\" \"1.2364784479141235\" \"0.15505225956439972\" ...\n",
      " $ leslag        : chr [1:8016] NA NA NA NA ...\n"
     ]
    }
   ],
   "source": [
    "# First glance at the dataset\n",
    "names(df)\n",
    "dim(df)\n",
    "str(df)"
   ]
  },
  {
   "cell_type": "markdown",
   "id": "c4bc5af1-8806-41f0-8061-81df43ba3da5",
   "metadata": {},
   "source": [
    "#### 1.1 Tidy Data\n",
    "\n",
    "Let's filter some data we want for making a plot"
   ]
  },
  {
   "cell_type": "code",
   "execution_count": 6,
   "id": "fbda8c1c-c72a-46db-9eca-99bba1104d62",
   "metadata": {},
   "outputs": [
    {
     "data": {
      "text/html": [
       "<table class=\"dataframe\">\n",
       "<caption>A tibble: 442 × 2</caption>\n",
       "<thead>\n",
       "\t<tr><th scope=col>seniority</th><th scope=col>all_pass</th></tr>\n",
       "\t<tr><th scope=col>&lt;dbl&gt;</th><th scope=col>&lt;dbl&gt;</th></tr>\n",
       "</thead>\n",
       "<tbody>\n",
       "\t<tr><td> 1</td><td>0</td></tr>\n",
       "\t<tr><td> 2</td><td>1</td></tr>\n",
       "\t<tr><td> 5</td><td>2</td></tr>\n",
       "\t<tr><td> 7</td><td>0</td></tr>\n",
       "\t<tr><td>14</td><td>0</td></tr>\n",
       "\t<tr><td> 3</td><td>2</td></tr>\n",
       "\t<tr><td> 7</td><td>0</td></tr>\n",
       "\t<tr><td> 3</td><td>0</td></tr>\n",
       "\t<tr><td> 1</td><td>0</td></tr>\n",
       "\t<tr><td> 6</td><td>0</td></tr>\n",
       "\t<tr><td> 5</td><td>2</td></tr>\n",
       "\t<tr><td> 2</td><td>0</td></tr>\n",
       "\t<tr><td>20</td><td>0</td></tr>\n",
       "\t<tr><td> 1</td><td>1</td></tr>\n",
       "\t<tr><td> 7</td><td>0</td></tr>\n",
       "\t<tr><td>10</td><td>5</td></tr>\n",
       "\t<tr><td> 2</td><td>0</td></tr>\n",
       "\t<tr><td> 2</td><td>0</td></tr>\n",
       "\t<tr><td> 1</td><td>0</td></tr>\n",
       "\t<tr><td> 2</td><td>1</td></tr>\n",
       "\t<tr><td>13</td><td>2</td></tr>\n",
       "\t<tr><td> 1</td><td>0</td></tr>\n",
       "\t<tr><td> 1</td><td>0</td></tr>\n",
       "\t<tr><td> 7</td><td>0</td></tr>\n",
       "\t<tr><td>13</td><td>1</td></tr>\n",
       "\t<tr><td> 2</td><td>0</td></tr>\n",
       "\t<tr><td> 4</td><td>1</td></tr>\n",
       "\t<tr><td> 3</td><td>1</td></tr>\n",
       "\t<tr><td> 4</td><td>0</td></tr>\n",
       "\t<tr><td> 5</td><td>0</td></tr>\n",
       "\t<tr><td>...</td><td>...</td></tr>\n",
       "\t<tr><td> 4</td><td>1</td></tr>\n",
       "\t<tr><td> 5</td><td>2</td></tr>\n",
       "\t<tr><td> 3</td><td>0</td></tr>\n",
       "\t<tr><td>17</td><td>3</td></tr>\n",
       "\t<tr><td>12</td><td>0</td></tr>\n",
       "\t<tr><td> 4</td><td>0</td></tr>\n",
       "\t<tr><td> 4</td><td>0</td></tr>\n",
       "\t<tr><td> 1</td><td>2</td></tr>\n",
       "\t<tr><td>11</td><td>1</td></tr>\n",
       "\t<tr><td> 4</td><td>1</td></tr>\n",
       "\t<tr><td> 5</td><td>0</td></tr>\n",
       "\t<tr><td> 1</td><td>4</td></tr>\n",
       "\t<tr><td>10</td><td>2</td></tr>\n",
       "\t<tr><td> 5</td><td>2</td></tr>\n",
       "\t<tr><td> 6</td><td>0</td></tr>\n",
       "\t<tr><td> 4</td><td>0</td></tr>\n",
       "\t<tr><td> 6</td><td>2</td></tr>\n",
       "\t<tr><td> 5</td><td>0</td></tr>\n",
       "\t<tr><td> 3</td><td>1</td></tr>\n",
       "\t<tr><td> 1</td><td>4</td></tr>\n",
       "\t<tr><td> 1</td><td>3</td></tr>\n",
       "\t<tr><td> 1</td><td>1</td></tr>\n",
       "\t<tr><td> 1</td><td>1</td></tr>\n",
       "\t<tr><td> 2</td><td>2</td></tr>\n",
       "\t<tr><td> 9</td><td>2</td></tr>\n",
       "\t<tr><td>13</td><td>0</td></tr>\n",
       "\t<tr><td> 4</td><td>0</td></tr>\n",
       "\t<tr><td> 4</td><td>0</td></tr>\n",
       "\t<tr><td> 5</td><td>0</td></tr>\n",
       "\t<tr><td> 2</td><td>0</td></tr>\n",
       "</tbody>\n",
       "</table>\n"
      ],
      "text/latex": [
       "A tibble: 442 × 2\n",
       "\\begin{tabular}{ll}\n",
       " seniority & all\\_pass\\\\\n",
       " <dbl> & <dbl>\\\\\n",
       "\\hline\n",
       "\t  1 & 0\\\\\n",
       "\t  2 & 1\\\\\n",
       "\t  5 & 2\\\\\n",
       "\t  7 & 0\\\\\n",
       "\t 14 & 0\\\\\n",
       "\t  3 & 2\\\\\n",
       "\t  7 & 0\\\\\n",
       "\t  3 & 0\\\\\n",
       "\t  1 & 0\\\\\n",
       "\t  6 & 0\\\\\n",
       "\t  5 & 2\\\\\n",
       "\t  2 & 0\\\\\n",
       "\t 20 & 0\\\\\n",
       "\t  1 & 1\\\\\n",
       "\t  7 & 0\\\\\n",
       "\t 10 & 5\\\\\n",
       "\t  2 & 0\\\\\n",
       "\t  2 & 0\\\\\n",
       "\t  1 & 0\\\\\n",
       "\t  2 & 1\\\\\n",
       "\t 13 & 2\\\\\n",
       "\t  1 & 0\\\\\n",
       "\t  1 & 0\\\\\n",
       "\t  7 & 0\\\\\n",
       "\t 13 & 1\\\\\n",
       "\t  2 & 0\\\\\n",
       "\t  4 & 1\\\\\n",
       "\t  3 & 1\\\\\n",
       "\t  4 & 0\\\\\n",
       "\t  5 & 0\\\\\n",
       "\t ... & ...\\\\\n",
       "\t  4 & 1\\\\\n",
       "\t  5 & 2\\\\\n",
       "\t  3 & 0\\\\\n",
       "\t 17 & 3\\\\\n",
       "\t 12 & 0\\\\\n",
       "\t  4 & 0\\\\\n",
       "\t  4 & 0\\\\\n",
       "\t  1 & 2\\\\\n",
       "\t 11 & 1\\\\\n",
       "\t  4 & 1\\\\\n",
       "\t  5 & 0\\\\\n",
       "\t  1 & 4\\\\\n",
       "\t 10 & 2\\\\\n",
       "\t  5 & 2\\\\\n",
       "\t  6 & 0\\\\\n",
       "\t  4 & 0\\\\\n",
       "\t  6 & 2\\\\\n",
       "\t  5 & 0\\\\\n",
       "\t  3 & 1\\\\\n",
       "\t  1 & 4\\\\\n",
       "\t  1 & 3\\\\\n",
       "\t  1 & 1\\\\\n",
       "\t  1 & 1\\\\\n",
       "\t  2 & 2\\\\\n",
       "\t  9 & 2\\\\\n",
       "\t 13 & 0\\\\\n",
       "\t  4 & 0\\\\\n",
       "\t  4 & 0\\\\\n",
       "\t  5 & 0\\\\\n",
       "\t  2 & 0\\\\\n",
       "\\end{tabular}\n"
      ],
      "text/markdown": [
       "\n",
       "A tibble: 442 × 2\n",
       "\n",
       "| seniority &lt;dbl&gt; | all_pass &lt;dbl&gt; |\n",
       "|---|---|\n",
       "|  1 | 0 |\n",
       "|  2 | 1 |\n",
       "|  5 | 2 |\n",
       "|  7 | 0 |\n",
       "| 14 | 0 |\n",
       "|  3 | 2 |\n",
       "|  7 | 0 |\n",
       "|  3 | 0 |\n",
       "|  1 | 0 |\n",
       "|  6 | 0 |\n",
       "|  5 | 2 |\n",
       "|  2 | 0 |\n",
       "| 20 | 0 |\n",
       "|  1 | 1 |\n",
       "|  7 | 0 |\n",
       "| 10 | 5 |\n",
       "|  2 | 0 |\n",
       "|  2 | 0 |\n",
       "|  1 | 0 |\n",
       "|  2 | 1 |\n",
       "| 13 | 2 |\n",
       "|  1 | 0 |\n",
       "|  1 | 0 |\n",
       "|  7 | 0 |\n",
       "| 13 | 1 |\n",
       "|  2 | 0 |\n",
       "|  4 | 1 |\n",
       "|  3 | 1 |\n",
       "|  4 | 0 |\n",
       "|  5 | 0 |\n",
       "| ... | ... |\n",
       "|  4 | 1 |\n",
       "|  5 | 2 |\n",
       "|  3 | 0 |\n",
       "| 17 | 3 |\n",
       "| 12 | 0 |\n",
       "|  4 | 0 |\n",
       "|  4 | 0 |\n",
       "|  1 | 2 |\n",
       "| 11 | 1 |\n",
       "|  4 | 1 |\n",
       "|  5 | 0 |\n",
       "|  1 | 4 |\n",
       "| 10 | 2 |\n",
       "|  5 | 2 |\n",
       "|  6 | 0 |\n",
       "|  4 | 0 |\n",
       "|  6 | 2 |\n",
       "|  5 | 0 |\n",
       "|  3 | 1 |\n",
       "|  1 | 4 |\n",
       "|  1 | 3 |\n",
       "|  1 | 1 |\n",
       "|  1 | 1 |\n",
       "|  2 | 2 |\n",
       "|  9 | 2 |\n",
       "| 13 | 0 |\n",
       "|  4 | 0 |\n",
       "|  4 | 0 |\n",
       "|  5 | 0 |\n",
       "|  2 | 0 |\n",
       "\n"
      ],
      "text/plain": [
       "    seniority all_pass\n",
       "1    1        0       \n",
       "2    2        1       \n",
       "3    5        2       \n",
       "4    7        0       \n",
       "5   14        0       \n",
       "6    3        2       \n",
       "7    7        0       \n",
       "8    3        0       \n",
       "9    1        0       \n",
       "10   6        0       \n",
       "11   5        2       \n",
       "12   2        0       \n",
       "13  20        0       \n",
       "14   1        1       \n",
       "15   7        0       \n",
       "16  10        5       \n",
       "17   2        0       \n",
       "18   2        0       \n",
       "19   1        0       \n",
       "20   2        1       \n",
       "21  13        2       \n",
       "22   1        0       \n",
       "23   1        0       \n",
       "24   7        0       \n",
       "25  13        1       \n",
       "26   2        0       \n",
       "27   4        1       \n",
       "28   3        1       \n",
       "29   4        0       \n",
       "30   5        0       \n",
       "... ...       ...     \n",
       "413  4        1       \n",
       "414  5        2       \n",
       "415  3        0       \n",
       "416 17        3       \n",
       "417 12        0       \n",
       "418  4        0       \n",
       "419  4        0       \n",
       "420  1        2       \n",
       "421 11        1       \n",
       "422  4        1       \n",
       "423  5        0       \n",
       "424  1        4       \n",
       "425 10        2       \n",
       "426  5        2       \n",
       "427  6        0       \n",
       "428  4        0       \n",
       "429  6        2       \n",
       "430  5        0       \n",
       "431  3        1       \n",
       "432  1        4       \n",
       "433  1        3       \n",
       "434  1        1       \n",
       "435  1        1       \n",
       "436  2        2       \n",
       "437  9        2       \n",
       "438 13        0       \n",
       "439  4        0       \n",
       "440  4        0       \n",
       "441  5        0       \n",
       "442  2        0       "
      ]
     },
     "metadata": {},
     "output_type": "display_data"
    }
   ],
   "source": [
    "df93 = df %>% \n",
    "    filter(congress == 93) %>%              # Rows with 93 as congress\n",
    "    select(\"seniority\", \"all_pass\") %>%     # Keep only those 2 columns\n",
    "    drop_na() %>%                           # Drop null values\n",
    "    mutate_at(vars(seniority, all_pass), as.numeric)\n",
    "\n",
    "df93\n"
   ]
  },
  {
   "cell_type": "markdown",
   "id": "d78031af-a645-4e48-bcdd-e8a880c2cbbd",
   "metadata": {},
   "source": [
    "#### 1.2 Aesthetics\n",
    "\n",
    "Now let's call the `ggplot()` function and map it to the desired aesthetics:\n"
   ]
  },
  {
   "cell_type": "code",
   "execution_count": 7,
   "id": "bc8790df-0395-4dd9-a8ee-7a6331dab309",
   "metadata": {},
   "outputs": [
    {
     "data": {
      "image/png": "[encoded data removed]",
      "text/plain": [
       "plot without title"
      ]
     },
     "metadata": {
      "image/png": {
       "height": 420,
       "width": 420
      }
     },
     "output_type": "display_data"
    }
   ],
   "source": [
    "ggplot(df93, aes(x = seniority, y = all_pass))"
   ]
  },
  {
   "cell_type": "markdown",
   "id": "6048f086-9999-4108-a320-803cc1a5d72f",
   "metadata": {},
   "source": [
    "As you may see, nothing is plotted in this chart, becase no geom was assigned to the plot."
   ]
  },
  {
   "cell_type": "markdown",
   "id": "cfc3e094-2b7e-471e-9699-1061ef24e6e4",
   "metadata": {},
   "source": [
    "#### 1.3 Geometrics\n",
    "\n",
    "There are many geoms available as: points, bars, boxplots, lines and many more. For a scatter plot, we will use the `geom_point()` while adding the geom with a + sign:\n"
   ]
  },
  {
   "cell_type": "code",
   "execution_count": 8,
   "id": "bfa928ff-3ad2-4f08-a8f6-45db33330326",
   "metadata": {},
   "outputs": [
    {
     "data": {
      "image/png": "[encoded data removed]",
      "text/plain": [
       "plot without title"
      ]
     },
     "metadata": {
      "image/png": {
       "height": 420,
       "width": 420
      }
     },
     "output_type": "display_data"
    }
   ],
   "source": [
    "ggplot(df93, aes(x = seniority, y = all_pass)) +\n",
    "    geom_point()"
   ]
  },
  {
   "cell_type": "markdown",
   "id": "0d1a33ac-80d4-4dfb-8c0d-7cead66407bc",
   "metadata": {},
   "source": [
    "However, there's an issue with overlapping. We can see where the points are, but we cannot see how many occurences are in each point of the plot.To help represent this, and not having these points overlapped on top of each other, we´re going to change this slighlty by adding some random noise to the data with the `geom_jitter()` geom function:"
   ]
  },
  {
   "cell_type": "code",
   "execution_count": 9,
   "id": "f289195d-3fea-44ec-aae3-46ab41aadc3d",
   "metadata": {},
   "outputs": [
    {
     "data": {
      "image/png": "[encoded data removed]",
      "text/plain": [
       "plot without title"
      ]
     },
     "metadata": {
      "image/png": {
       "height": 420,
       "width": 420
      }
     },
     "output_type": "display_data"
    }
   ],
   "source": [
    "ggplot(df93, aes(x = seniority, y = all_pass)) +\n",
    "    geom_jitter()"
   ]
  },
  {
   "cell_type": "markdown",
   "id": "3d207db3-c4e4-415a-b9a2-0d87dee0ed73",
   "metadata": {},
   "source": [
    "We can now look at the different points in the dataset, but we have to bear in mind that this plot does not displays exactly the underlying data."
   ]
  },
  {
   "cell_type": "markdown",
   "id": "9cae6803-1929-4686-bb07-f25b878db439",
   "metadata": {},
   "source": [
    "#### 1.4 Labels and guides\n",
    "\n",
    "With the `labs()` function we can add some labels and a title:\n"
   ]
  },
  {
   "cell_type": "code",
   "execution_count": 10,
   "id": "e3a78b68-3f2e-4987-852d-1eabb1228338",
   "metadata": {},
   "outputs": [
    {
     "data": {
      "image/png": "[encoded data removed]",
      "text/plain": [
       "plot without title"
      ]
     },
     "metadata": {
      "image/png": {
       "height": 420,
       "width": 420
      }
     },
     "output_type": "display_data"
    }
   ],
   "source": [
    "ggplot(df93, aes(x = seniority, y = all_pass)) +\n",
    "    geom_jitter() +\n",
    "    labs(x = \"Seniority\", \n",
    "         y = \"Bills Passed\",\n",
    "         title = \"Bills passed by Seniority in the 93th Congress\")"
   ]
  },
  {
   "cell_type": "markdown",
   "id": "b6c1a402-b10a-4663-851a-032a34eb8b13",
   "metadata": {},
   "source": [
    "Now, let's add some more information on the plot by separating the Democrats and Republicans with colors."
   ]
  },
  {
   "cell_type": "code",
   "execution_count": 11,
   "id": "20dbdaf2-afc6-4351-b7af-9af610c7f80f",
   "metadata": {},
   "outputs": [
    {
     "data": {
      "text/html": [
       "<table class=\"dataframe\">\n",
       "<caption>A tibble: 6 × 3</caption>\n",
       "<thead>\n",
       "\t<tr><th scope=col>seniority</th><th scope=col>all_pass</th><th scope=col>dem</th></tr>\n",
       "\t<tr><th scope=col>&lt;dbl&gt;</th><th scope=col>&lt;dbl&gt;</th><th scope=col>&lt;chr&gt;</th></tr>\n",
       "</thead>\n",
       "<tbody>\n",
       "\t<tr><td>1</td><td>0</td><td>0</td></tr>\n",
       "\t<tr><td>2</td><td>1</td><td>1</td></tr>\n",
       "\t<tr><td>5</td><td>2</td><td>1</td></tr>\n",
       "\t<tr><td>7</td><td>0</td><td>1</td></tr>\n",
       "\t<tr><td>3</td><td>2</td><td>1</td></tr>\n",
       "\t<tr><td>7</td><td>0</td><td>0</td></tr>\n",
       "</tbody>\n",
       "</table>\n"
      ],
      "text/latex": [
       "A tibble: 6 × 3\n",
       "\\begin{tabular}{lll}\n",
       " seniority & all\\_pass & dem\\\\\n",
       " <dbl> & <dbl> & <chr>\\\\\n",
       "\\hline\n",
       "\t 1 & 0 & 0\\\\\n",
       "\t 2 & 1 & 1\\\\\n",
       "\t 5 & 2 & 1\\\\\n",
       "\t 7 & 0 & 1\\\\\n",
       "\t 3 & 2 & 1\\\\\n",
       "\t 7 & 0 & 0\\\\\n",
       "\\end{tabular}\n"
      ],
      "text/markdown": [
       "\n",
       "A tibble: 6 × 3\n",
       "\n",
       "| seniority &lt;dbl&gt; | all_pass &lt;dbl&gt; | dem &lt;chr&gt; |\n",
       "|---|---|---|\n",
       "| 1 | 0 | 0 |\n",
       "| 2 | 1 | 1 |\n",
       "| 5 | 2 | 1 |\n",
       "| 7 | 0 | 1 |\n",
       "| 3 | 2 | 1 |\n",
       "| 7 | 0 | 0 |\n",
       "\n"
      ],
      "text/plain": [
       "  seniority all_pass dem\n",
       "1 1         0        0  \n",
       "2 2         1        1  \n",
       "3 5         2        1  \n",
       "4 7         0        1  \n",
       "5 3         2        1  \n",
       "6 7         0        0  "
      ]
     },
     "metadata": {},
     "output_type": "display_data"
    }
   ],
   "source": [
    "df93 = df %>% \n",
    "    filter(congress == 93) %>%\n",
    "    select(\"seniority\", \"all_pass\", \"dem\") %>%\n",
    "    drop_na() %>%\n",
    "    mutate_at(vars(seniority, all_pass), as.numeric)\n",
    "\n",
    "head(df93)\n"
   ]
  },
  {
   "cell_type": "markdown",
   "id": "72b9c250-26d5-41e2-ace5-28d0d4a60930",
   "metadata": {},
   "source": [
    "And we can pass this color attribute with the `color` argument of the ggplot function:"
   ]
  },
  {
   "cell_type": "code",
   "execution_count": 12,
   "id": "ebd308a6-ac42-4d36-9734-99dcb3211126",
   "metadata": {},
   "outputs": [
    {
     "data": {
      "image/png": "[encoded data removed]",
      "text/plain": [
       "plot without title"
      ]
     },
     "metadata": {
      "image/png": {
       "height": 420,
       "width": 420
      }
     },
     "output_type": "display_data"
    }
   ],
   "source": [
    "ggplot(df93, aes(x = seniority, y = all_pass, color = dem)) +\n",
    "    geom_jitter() +\n",
    "    labs(x = \"Seniority\", \n",
    "         y = \"Bills Passed\",\n",
    "         title = \"Bills passed by Seniority in the 93th Congress\")"
   ]
  },
  {
   "cell_type": "markdown",
   "id": "58e3e5b5-fb32-41ad-8374-b10bcebb94aa",
   "metadata": {},
   "source": [
    "We can also recode the values of the dem column like this:"
   ]
  },
  {
   "cell_type": "code",
   "execution_count": 13,
   "id": "42e72504-3186-463b-b40f-d2898ebc3a43",
   "metadata": {},
   "outputs": [],
   "source": [
    "df93$dem = recode(df93$dem, '1' = 'Democrat', '0' = 'Republican')"
   ]
  },
  {
   "cell_type": "code",
   "execution_count": 14,
   "id": "8294feba-84dc-434a-a30e-7b73750d871f",
   "metadata": {},
   "outputs": [
    {
     "data": {
      "image/png": "[encoded data removed]",
      "text/plain": [
       "plot without title"
      ]
     },
     "metadata": {
      "image/png": {
       "height": 420,
       "width": 420
      }
     },
     "output_type": "display_data"
    }
   ],
   "source": [
    "ggplot(df93, aes(x = seniority, y = all_pass, color = dem)) +\n",
    "    geom_jitter() +\n",
    "    labs(x = \"Seniority\", \n",
    "         y = \"Bills Passed\",\n",
    "         title = \"Bills passed by Seniority in the 93th Congress\")"
   ]
  },
  {
   "cell_type": "markdown",
   "id": "197e1623-cd90-47d6-a59c-df5a41ad59e9",
   "metadata": {},
   "source": [
    "We can also set the colors we want by adding the `scale_color_manual()` function: "
   ]
  },
  {
   "cell_type": "code",
   "execution_count": 15,
   "id": "e9ba8ef6-6bcc-4179-8abb-a2b9afb51c72",
   "metadata": {},
   "outputs": [
    {
     "data": {
      "image/png": "[encoded data removed]",
      "text/plain": [
       "plot without title"
      ]
     },
     "metadata": {
      "image/png": {
       "height": 420,
       "width": 420
      }
     },
     "output_type": "display_data"
    }
   ],
   "source": [
    "ggplot(df93, aes(x = seniority, y = all_pass, color = dem)) +\n",
    "    geom_jitter() +\n",
    "    labs(x = \"Seniority\", \n",
    "         y = \"Bills Passed\",\n",
    "         title = \"Bills passed by Seniority in the 93th Congress\") +\n",
    "    scale_color_manual(values = c(\"blue\", \"red\"))"
   ]
  },
  {
   "cell_type": "markdown",
   "id": "3118550c-8c6d-48dd-8f3e-697064976aaa",
   "metadata": {},
   "source": [
    "#### 1.5 Making two different plots\n",
    "\n",
    "If we don't want to make the same plot for Democrats and Republicans, we can make two plots with the `facet_wrap()` function:"
   ]
  },
  {
   "cell_type": "code",
   "execution_count": 16,
   "id": "4bc5bd63-c641-47c2-b93e-187eb5219a14",
   "metadata": {},
   "outputs": [
    {
     "data": {
      "image/png": "[encoded data removed]",
      "text/plain": [
       "plot without title"
      ]
     },
     "metadata": {
      "image/png": {
       "height": 420,
       "width": 420
      }
     },
     "output_type": "display_data"
    }
   ],
   "source": [
    "ggplot(df93, aes(x = seniority, y = all_pass, color = dem)) +\n",
    "    geom_jitter() +\n",
    "    labs(x = \"Seniority\", \n",
    "         y = \"Bills Passed\",\n",
    "         title = \"Bills passed by Seniority in the 93th Congress\") +\n",
    "    scale_color_manual(values = c(\"blue\", \"red\")) +\n",
    "    facet_wrap(~dem)"
   ]
  },
  {
   "cell_type": "markdown",
   "id": "649df427-c181-4aa9-b6c0-2d4b0a1cc28a",
   "metadata": {},
   "source": [
    "For making this division horizontally, we can set the number of columns to one, with the `ncol` argument:"
   ]
  },
  {
   "cell_type": "code",
   "execution_count": 17,
   "id": "61f1d87a-e173-4386-99fa-9fe9cd1a1d47",
   "metadata": {},
   "outputs": [
    {
     "data": {
      "image/png": "[encoded data removed]",
      "text/plain": [
       "plot without title"
      ]
     },
     "metadata": {
      "image/png": {
       "height": 420,
       "width": 420
      }
     },
     "output_type": "display_data"
    }
   ],
   "source": [
    "ggplot(df93, aes(x = seniority, y = all_pass, color = dem)) +\n",
    "    geom_jitter() +\n",
    "    labs(x = \"Seniority\", \n",
    "         y = \"Bills Passed\",\n",
    "         title = \"Bills passed by Seniority in the 93th Congress\") +\n",
    "    scale_color_manual(values = c(\"blue\", \"red\")) +\n",
    "    facet_wrap(~dem, ncol = 1)"
   ]
  },
  {
   "cell_type": "markdown",
   "id": "5b0f524a-feac-4f2e-b871-48895b8add1a",
   "metadata": {},
   "source": [
    "## 2. Univariate plots\n",
    "\n",
    "We are gonna look at visualizations that display summaries of the data or underlying data distributions for single variables in the dataset. One of the classic kinds of this summaries is the `boxplot` which includes the IQR (Inter-Quartile Range), the median, etc.\n"
   ]
  },
  {
   "cell_type": "code",
   "execution_count": 18,
   "id": "c20c5a8f-ae42-4514-a9c0-a54dbd18473d",
   "metadata": {},
   "outputs": [
    {
     "name": "stderr",
     "output_type": "stream",
     "text": [
      "\n",
      "\u001b[36m--\u001b[39m \u001b[1m\u001b[1mColumn specification\u001b[1m\u001b[22m \u001b[36m------------------------------------------------------------------------------------------------\u001b[39m\n",
      "cols(\n",
      "  .default = col_double(),\n",
      "  race_other = \u001b[31mcol_character()\u001b[39m,\n",
      "  CC20_hisp_t = \u001b[31mcol_character()\u001b[39m,\n",
      "  CC20_asian_t = \u001b[31mcol_character()\u001b[39m,\n",
      "  multrace_97 = \u001b[33mcol_logical()\u001b[39m,\n",
      "  CC20_300d_6 = \u001b[33mcol_logical()\u001b[39m,\n",
      "  CC20_309d_t = \u001b[31mcol_character()\u001b[39m,\n",
      "  CC20_364a_t = \u001b[31mcol_character()\u001b[39m,\n",
      "  CC20_365_voted_t = \u001b[31mcol_character()\u001b[39m,\n",
      "  CC20_365b_voted_t = \u001b[31mcol_character()\u001b[39m,\n",
      "  CC20_366_voted_t = \u001b[31mcol_character()\u001b[39m,\n",
      "  CC20_367_voted_t = \u001b[31mcol_character()\u001b[39m,\n",
      "  CC20_364b_t = \u001b[31mcol_character()\u001b[39m,\n",
      "  CC20_365_t = \u001b[31mcol_character()\u001b[39m,\n",
      "  CC20_365b_t = \u001b[31mcol_character()\u001b[39m,\n",
      "  CC20_365c_t = \u001b[31mcol_character()\u001b[39m,\n",
      "  CC20_366_t = \u001b[31mcol_character()\u001b[39m,\n",
      "  CC20_367_t = \u001b[31mcol_character()\u001b[39m,\n",
      "  CC20_367a_t = \u001b[31mcol_character()\u001b[39m,\n",
      "  presvote16post_t = \u001b[31mcol_character()\u001b[39m,\n",
      "  pid3_t = \u001b[31mcol_character()\u001b[39m\n",
      "  # ... with 153 more columns\n",
      ")\n",
      "\u001b[36mi\u001b[39m Use \u001b[30m\u001b[47m\u001b[30m\u001b[47m`spec()`\u001b[47m\u001b[30m\u001b[49m\u001b[39m for the full column specifications.\n",
      "\n",
      "\n",
      "Warning message:\n",
      "\"32587 parsing failures.\n",
      " row             col           expected          actual                file\n",
      "1471 HouseCand7Name  1/0/T/F/TRUE/FALSE Luke Letlow     'datasets/cces.csv'\n",
      "1471 HouseCand8Name  1/0/T/F/TRUE/FALSE Scotty Robinson 'datasets/cces.csv'\n",
      "1471 HouseCand9Name  1/0/T/F/TRUE/FALSE Phillip Snowden 'datasets/cces.csv'\n",
      "1471 HouseCand7Party 1/0/T/F/TRUE/FALSE Republican      'datasets/cces.csv'\n",
      "1471 HouseCand8Party 1/0/T/F/TRUE/FALSE Republican      'datasets/cces.csv'\n",
      ".... ............... .................. ............... ...................\n",
      "See problems(...) for more details.\n",
      "\"\n"
     ]
    },
    {
     "data": {
      "text/html": [
       "<table class=\"dataframe\">\n",
       "<caption>A tibble: 6 × 716</caption>\n",
       "<thead>\n",
       "\t<tr><th scope=col>caseid</th><th scope=col>commonweight</th><th scope=col>commonpostweight</th><th scope=col>vvweight</th><th scope=col>vvweight_post</th><th scope=col>tookpost</th><th scope=col>CCEStake</th><th scope=col>birthyr</th><th scope=col>gender</th><th scope=col>educ</th><th scope=col>...</th><th scope=col>CL_2020ppep</th><th scope=col>CL_2020ppvm</th><th scope=col>CL_2020pep</th><th scope=col>CL_2020pvm</th><th scope=col>CL_state</th><th scope=col>CL_party</th><th scope=col>starttime</th><th scope=col>endtime</th><th scope=col>starttime_post</th><th scope=col>endtime_post</th></tr>\n",
       "\t<tr><th scope=col>&lt;dbl&gt;</th><th scope=col>&lt;dbl&gt;</th><th scope=col>&lt;dbl&gt;</th><th scope=col>&lt;dbl&gt;</th><th scope=col>&lt;dbl&gt;</th><th scope=col>&lt;dbl&gt;</th><th scope=col>&lt;dbl&gt;</th><th scope=col>&lt;dbl&gt;</th><th scope=col>&lt;dbl&gt;</th><th scope=col>&lt;dbl&gt;</th><th scope=col>...</th><th scope=col>&lt;dbl&gt;</th><th scope=col>&lt;dbl&gt;</th><th scope=col>&lt;dbl&gt;</th><th scope=col>&lt;dbl&gt;</th><th scope=col>&lt;dbl&gt;</th><th scope=col>&lt;dbl&gt;</th><th scope=col>&lt;chr&gt;</th><th scope=col>&lt;chr&gt;</th><th scope=col>&lt;chr&gt;</th><th scope=col>&lt;chr&gt;</th></tr>\n",
       "</thead>\n",
       "<tbody>\n",
       "\t<tr><td>1232318697</td><td>0.7825103</td><td>0.6659710</td><td>0.8509167</td><td>0.6065928</td><td>2</td><td>1</td><td>1966</td><td>1</td><td>4</td><td>...</td><td>NA</td><td> 1</td><td>NA</td><td> 1</td><td> 7</td><td>11</td><td>9/29/2020 21:22</td><td>10/14/2020 19:54</td><td>11/17/2020 20:34</td><td>11/17/2020 21:14</td></tr>\n",
       "\t<tr><td>1231394915</td><td>1.3444245</td><td>1.4355936</td><td>       NA</td><td>       NA</td><td>2</td><td>1</td><td>1955</td><td>2</td><td>6</td><td>...</td><td>NA</td><td>NA</td><td>NA</td><td>NA</td><td>25</td><td>13</td><td>9/30/2020 0:15 </td><td>10/19/2020 17:45</td><td>12/4/2020 19:33 </td><td>12/4/2020 19:46 </td></tr>\n",
       "\t<tr><td>1232451503</td><td>0.4055196</td><td>0.3424541</td><td>       NA</td><td>       NA</td><td>2</td><td>1</td><td>1946</td><td>2</td><td>5</td><td>...</td><td>NA</td><td>NA</td><td>NA</td><td>NA</td><td>NA</td><td>NA</td><td>9/29/2020 23:31</td><td>10/1/2020 19:59 </td><td>11/26/2020 16:29</td><td>11/26/2020 16:54</td></tr>\n",
       "\t<tr><td>1232494791</td><td>0.9577344</td><td>0.8221059</td><td>1.0414587</td><td>1.0024952</td><td>2</td><td>1</td><td>1962</td><td>2</td><td>5</td><td>...</td><td>NA</td><td>NA</td><td> 1</td><td> 5</td><td>20</td><td> 8</td><td>9/30/2020 0:07 </td><td>10/2/2020 18:01 </td><td>11/16/2020 0:54 </td><td>11/16/2020 1:16 </td></tr>\n",
       "\t<tr><td>1232494829</td><td>0.1946648</td><td>0.1617253</td><td>       NA</td><td>       NA</td><td>2</td><td>1</td><td>1967</td><td>1</td><td>5</td><td>...</td><td>NA</td><td>NA</td><td>NA</td><td>NA</td><td>NA</td><td>NA</td><td>9/30/2020 0:08 </td><td>9/30/2020 23:51 </td><td>11/13/2020 17:00</td><td>11/13/2020 17:11</td></tr>\n",
       "\t<tr><td>1232473675</td><td>1.0569137</td><td>0.8803970</td><td>1.1493082</td><td>0.9883287</td><td>2</td><td>1</td><td>1961</td><td>1</td><td>3</td><td>...</td><td>NA</td><td>NA</td><td>NA</td><td>NA</td><td>36</td><td>13</td><td>9/30/2020 0:43 </td><td>10/16/2020 21:50</td><td>11/26/2020 13:27</td><td>11/26/2020 13:37</td></tr>\n",
       "</tbody>\n",
       "</table>\n"
      ],
      "text/latex": [
       "A tibble: 6 × 716\n",
       "\\begin{tabular}{lllllllllllllllllllll}\n",
       " caseid & commonweight & commonpostweight & vvweight & vvweight\\_post & tookpost & CCEStake & birthyr & gender & educ & ... & CL\\_2020ppep & CL\\_2020ppvm & CL\\_2020pep & CL\\_2020pvm & CL\\_state & CL\\_party & starttime & endtime & starttime\\_post & endtime\\_post\\\\\n",
       " <dbl> & <dbl> & <dbl> & <dbl> & <dbl> & <dbl> & <dbl> & <dbl> & <dbl> & <dbl> & ... & <dbl> & <dbl> & <dbl> & <dbl> & <dbl> & <dbl> & <chr> & <chr> & <chr> & <chr>\\\\\n",
       "\\hline\n",
       "\t 1232318697 & 0.7825103 & 0.6659710 & 0.8509167 & 0.6065928 & 2 & 1 & 1966 & 1 & 4 & ... & NA &  1 & NA &  1 &  7 & 11 & 9/29/2020 21:22 & 10/14/2020 19:54 & 11/17/2020 20:34 & 11/17/2020 21:14\\\\\n",
       "\t 1231394915 & 1.3444245 & 1.4355936 &        NA &        NA & 2 & 1 & 1955 & 2 & 6 & ... & NA & NA & NA & NA & 25 & 13 & 9/30/2020 0:15  & 10/19/2020 17:45 & 12/4/2020 19:33  & 12/4/2020 19:46 \\\\\n",
       "\t 1232451503 & 0.4055196 & 0.3424541 &        NA &        NA & 2 & 1 & 1946 & 2 & 5 & ... & NA & NA & NA & NA & NA & NA & 9/29/2020 23:31 & 10/1/2020 19:59  & 11/26/2020 16:29 & 11/26/2020 16:54\\\\\n",
       "\t 1232494791 & 0.9577344 & 0.8221059 & 1.0414587 & 1.0024952 & 2 & 1 & 1962 & 2 & 5 & ... & NA & NA &  1 &  5 & 20 &  8 & 9/30/2020 0:07  & 10/2/2020 18:01  & 11/16/2020 0:54  & 11/16/2020 1:16 \\\\\n",
       "\t 1232494829 & 0.1946648 & 0.1617253 &        NA &        NA & 2 & 1 & 1967 & 1 & 5 & ... & NA & NA & NA & NA & NA & NA & 9/30/2020 0:08  & 9/30/2020 23:51  & 11/13/2020 17:00 & 11/13/2020 17:11\\\\\n",
       "\t 1232473675 & 1.0569137 & 0.8803970 & 1.1493082 & 0.9883287 & 2 & 1 & 1961 & 1 & 3 & ... & NA & NA & NA & NA & 36 & 13 & 9/30/2020 0:43  & 10/16/2020 21:50 & 11/26/2020 13:27 & 11/26/2020 13:37\\\\\n",
       "\\end{tabular}\n"
      ],
      "text/markdown": [
       "\n",
       "A tibble: 6 × 716\n",
       "\n",
       "| caseid &lt;dbl&gt; | commonweight &lt;dbl&gt; | commonpostweight &lt;dbl&gt; | vvweight &lt;dbl&gt; | vvweight_post &lt;dbl&gt; | tookpost &lt;dbl&gt; | CCEStake &lt;dbl&gt; | birthyr &lt;dbl&gt; | gender &lt;dbl&gt; | educ &lt;dbl&gt; | ... ... | CL_2020ppep &lt;dbl&gt; | CL_2020ppvm &lt;dbl&gt; | CL_2020pep &lt;dbl&gt; | CL_2020pvm &lt;dbl&gt; | CL_state &lt;dbl&gt; | CL_party &lt;dbl&gt; | starttime &lt;chr&gt; | endtime &lt;chr&gt; | starttime_post &lt;chr&gt; | endtime_post &lt;chr&gt; |\n",
       "|---|---|---|---|---|---|---|---|---|---|---|---|---|---|---|---|---|---|---|---|---|\n",
       "| 1232318697 | 0.7825103 | 0.6659710 | 0.8509167 | 0.6065928 | 2 | 1 | 1966 | 1 | 4 | ... | NA |  1 | NA |  1 |  7 | 11 | 9/29/2020 21:22 | 10/14/2020 19:54 | 11/17/2020 20:34 | 11/17/2020 21:14 |\n",
       "| 1231394915 | 1.3444245 | 1.4355936 |        NA |        NA | 2 | 1 | 1955 | 2 | 6 | ... | NA | NA | NA | NA | 25 | 13 | 9/30/2020 0:15  | 10/19/2020 17:45 | 12/4/2020 19:33  | 12/4/2020 19:46  |\n",
       "| 1232451503 | 0.4055196 | 0.3424541 |        NA |        NA | 2 | 1 | 1946 | 2 | 5 | ... | NA | NA | NA | NA | NA | NA | 9/29/2020 23:31 | 10/1/2020 19:59  | 11/26/2020 16:29 | 11/26/2020 16:54 |\n",
       "| 1232494791 | 0.9577344 | 0.8221059 | 1.0414587 | 1.0024952 | 2 | 1 | 1962 | 2 | 5 | ... | NA | NA |  1 |  5 | 20 |  8 | 9/30/2020 0:07  | 10/2/2020 18:01  | 11/16/2020 0:54  | 11/16/2020 1:16  |\n",
       "| 1232494829 | 0.1946648 | 0.1617253 |        NA |        NA | 2 | 1 | 1967 | 1 | 5 | ... | NA | NA | NA | NA | NA | NA | 9/30/2020 0:08  | 9/30/2020 23:51  | 11/13/2020 17:00 | 11/13/2020 17:11 |\n",
       "| 1232473675 | 1.0569137 | 0.8803970 | 1.1493082 | 0.9883287 | 2 | 1 | 1961 | 1 | 3 | ... | NA | NA | NA | NA | 36 | 13 | 9/30/2020 0:43  | 10/16/2020 21:50 | 11/26/2020 13:27 | 11/26/2020 13:37 |\n",
       "\n"
      ],
      "text/plain": [
       "  caseid     commonweight commonpostweight vvweight  vvweight_post tookpost\n",
       "1 1232318697 0.7825103    0.6659710        0.8509167 0.6065928     2       \n",
       "2 1231394915 1.3444245    1.4355936               NA        NA     2       \n",
       "3 1232451503 0.4055196    0.3424541               NA        NA     2       \n",
       "4 1232494791 0.9577344    0.8221059        1.0414587 1.0024952     2       \n",
       "5 1232494829 0.1946648    0.1617253               NA        NA     2       \n",
       "6 1232473675 1.0569137    0.8803970        1.1493082 0.9883287     2       \n",
       "  CCEStake birthyr gender educ ... CL_2020ppep CL_2020ppvm CL_2020pep\n",
       "1 1        1966    1      4    ... NA           1          NA        \n",
       "2 1        1955    2      6    ... NA          NA          NA        \n",
       "3 1        1946    2      5    ... NA          NA          NA        \n",
       "4 1        1962    2      5    ... NA          NA           1        \n",
       "5 1        1967    1      5    ... NA          NA          NA        \n",
       "6 1        1961    1      3    ... NA          NA          NA        \n",
       "  CL_2020pvm CL_state CL_party starttime       endtime         \n",
       "1  1          7       11       9/29/2020 21:22 10/14/2020 19:54\n",
       "2 NA         25       13       9/30/2020 0:15  10/19/2020 17:45\n",
       "3 NA         NA       NA       9/29/2020 23:31 10/1/2020 19:59 \n",
       "4  5         20        8       9/30/2020 0:07  10/2/2020 18:01 \n",
       "5 NA         NA       NA       9/30/2020 0:08  9/30/2020 23:51 \n",
       "6 NA         36       13       9/30/2020 0:43  10/16/2020 21:50\n",
       "  starttime_post   endtime_post    \n",
       "1 11/17/2020 20:34 11/17/2020 21:14\n",
       "2 12/4/2020 19:33  12/4/2020 19:46 \n",
       "3 11/26/2020 16:29 11/26/2020 16:54\n",
       "4 11/16/2020 0:54  11/16/2020 1:16 \n",
       "5 11/13/2020 17:00 11/13/2020 17:11\n",
       "6 11/26/2020 13:27 11/26/2020 13:37"
      ]
     },
     "metadata": {},
     "output_type": "display_data"
    }
   ],
   "source": [
    "# Loading the dataset\n",
    "cces = read_csv('datasets/cces.csv')\n",
    "head(cces)\n"
   ]
  },
  {
   "cell_type": "markdown",
   "id": "6ce9e466-a1b5-495f-9034-90cfb0989092",
   "metadata": {},
   "source": [
    "#### 2.1 Boxplot"
   ]
  },
  {
   "cell_type": "markdown",
   "id": "dbccb774-1861-4845-b437-4e8fb7e2acf4",
   "metadata": {},
   "source": [
    "Let's make a boxplot of the 'faminc_new' column with the `geom_boxplot()` function:"
   ]
  },
  {
   "cell_type": "code",
   "execution_count": 19,
   "id": "b5b96b85-5b80-4270-a18d-32d7c54329e2",
   "metadata": {},
   "outputs": [
    {
     "name": "stderr",
     "output_type": "stream",
     "text": [
      "Warning message:\n",
      "\"Removed 19 rows containing non-finite values (stat_boxplot).\"\n"
     ]
    },
    {
     "data": {
      "image/png": "[encoded data removed]",
      "text/plain": [
       "plot without title"
      ]
     },
     "metadata": {
      "image/png": {
       "height": 420,
       "width": 420
      }
     },
     "output_type": "display_data"
    }
   ],
   "source": [
    "ggplot(cces, aes(y = faminc_new)) +\n",
    "      geom_boxplot()"
   ]
  },
  {
   "cell_type": "markdown",
   "id": "2ae0e124-d213-4b10-934c-cd7668f47f9b",
   "metadata": {},
   "source": [
    "There is an outlier value that we can replace with the mean value"
   ]
  },
  {
   "cell_type": "code",
   "execution_count": 20,
   "id": "b4d0bc49-25c7-4858-885c-77ca9b0cdc0d",
   "metadata": {},
   "outputs": [],
   "source": [
    "cces$faminc_new[cces$faminc_new > 50] = mean(cces$faminc_new[cces$faminc_new <= 50])\n"
   ]
  },
  {
   "cell_type": "code",
   "execution_count": 21,
   "id": "2888fc94-1e76-4415-86b9-9052aed375bb",
   "metadata": {},
   "outputs": [
    {
     "name": "stderr",
     "output_type": "stream",
     "text": [
      "Warning message:\n",
      "\"Removed 6094 rows containing non-finite values (stat_boxplot).\"\n"
     ]
    },
    {
     "data": {
      "image/png": "[encoded data removed]",
      "text/plain": [
       "plot without title"
      ]
     },
     "metadata": {
      "image/png": {
       "height": 420,
       "width": 420
      }
     },
     "output_type": "display_data"
    }
   ],
   "source": [
    "ggplot(cces, aes(y = faminc_new)) +\n",
    "      geom_boxplot()"
   ]
  },
  {
   "cell_type": "markdown",
   "id": "c2ebfd47-f1ec-4c0f-8b42-b109c565c863",
   "metadata": {},
   "source": [
    "We can also break down this boxplot by education level groups with the `group` argument:"
   ]
  },
  {
   "cell_type": "code",
   "execution_count": 22,
   "id": "a79bb86d-709a-4fe4-8771-f91662a6ecf0",
   "metadata": {},
   "outputs": [
    {
     "name": "stderr",
     "output_type": "stream",
     "text": [
      "Warning message:\n",
      "\"Removed 6094 rows containing non-finite values (stat_boxplot).\"\n"
     ]
    },
    {
     "data": {
      "image/png": "[encoded data removed]",
      "text/plain": [
       "plot without title"
      ]
     },
     "metadata": {
      "image/png": {
       "height": 420,
       "width": 420
      }
     },
     "output_type": "display_data"
    }
   ],
   "source": [
    "ggplot(cces, aes(y = faminc_new, group = educ)) +\n",
    "      geom_boxplot()"
   ]
  },
  {
   "cell_type": "markdown",
   "id": "eb2939e4-c3f7-4f01-99a4-e32aa4100cdb",
   "metadata": {},
   "source": [
    "Another tweak you may want to make is to convert the numeric encoding for the education level variable to a categorical one:"
   ]
  },
  {
   "cell_type": "code",
   "execution_count": 23,
   "id": "829d804c-bc56-46e4-9fd5-91547b1dbb74",
   "metadata": {},
   "outputs": [],
   "source": [
    "cces$educ_category = recode(cces$educ, \n",
    "                           '1' = \"<4 yr Degree\",\n",
    "                           '2' = \"<4 yr Degree\",\n",
    "                           '3' = \"<4 yr Degree\",\n",
    "                           '4' = \"<4 yr Degree\",\n",
    "                           '5' = \"4 yr Degree\",\n",
    "                           '6' = \">4 yr Deg\")\n"
   ]
  },
  {
   "cell_type": "markdown",
   "id": "59184022-3212-43c5-966c-66c2feeebeec",
   "metadata": {},
   "source": [
    "As now the values are categorical, we need to change de grouping to an x value:"
   ]
  },
  {
   "cell_type": "code",
   "execution_count": 24,
   "id": "5b026da7-3065-4c33-8849-871254227ad3",
   "metadata": {},
   "outputs": [
    {
     "name": "stderr",
     "output_type": "stream",
     "text": [
      "Warning message:\n",
      "\"Removed 6094 rows containing non-finite values (stat_boxplot).\"\n"
     ]
    },
    {
     "data": {
      "image/png": "[encoded data removed]",
      "text/plain": [
       "plot without title"
      ]
     },
     "metadata": {
      "image/png": {
       "height": 420,
       "width": 420
      }
     },
     "output_type": "display_data"
    }
   ],
   "source": [
    "ggplot(cces, aes(y = faminc_new, x = educ_category)) +\n",
    "    geom_boxplot() + \n",
    "    labs(x = \"Income level\", y = \"Family Income\",\n",
    "        title = \"Family income by Respondent Educational Level\")\n"
   ]
  },
  {
   "cell_type": "markdown",
   "id": "05d5aa0f-883d-4907-9ff0-7f100b8a8afb",
   "metadata": {},
   "source": [
    "#### 2.2 Histogram\n",
    "\n",
    "Can be done with the `geom_histogram()` function\n"
   ]
  },
  {
   "cell_type": "code",
   "execution_count": 25,
   "id": "b1485a93-fd08-479f-bdf1-c391c853cbef",
   "metadata": {},
   "outputs": [
    {
     "name": "stderr",
     "output_type": "stream",
     "text": [
      "Warning message:\n",
      "\"Removed 6094 rows containing non-finite values (stat_bin).\"\n"
     ]
    },
    {
     "data": {
      "image/png": "[encoded data removed]",
      "text/plain": [
       "plot without title"
      ]
     },
     "metadata": {
      "image/png": {
       "height": 420,
       "width": 420
      }
     },
     "output_type": "display_data"
    }
   ],
   "source": [
    "ggplot(cces, aes(x = faminc_new)) +\n",
    "    geom_histogram(bins = 30)\n"
   ]
  },
  {
   "cell_type": "markdown",
   "id": "075f1fab-0898-462e-94c0-242c7ba622ed",
   "metadata": {},
   "source": [
    "#### 2.3 Density\n",
    "\n",
    "Can be done with the `geom_density()` function\n"
   ]
  },
  {
   "cell_type": "code",
   "execution_count": 26,
   "id": "5b633fb7-bb54-4400-8484-ff241f2ad5d0",
   "metadata": {},
   "outputs": [
    {
     "name": "stderr",
     "output_type": "stream",
     "text": [
      "Warning message:\n",
      "\"Removed 6094 rows containing non-finite values (stat_density).\"\n"
     ]
    },
    {
     "data": {
      "image/png": "[encoded data removed]",
      "text/plain": [
       "plot without title"
      ]
     },
     "metadata": {
      "image/png": {
       "height": 420,
       "width": 420
      }
     },
     "output_type": "display_data"
    }
   ],
   "source": [
    "ggplot(cces, aes(x = faminc_new)) +\n",
    "    geom_density()\n"
   ]
  },
  {
   "cell_type": "markdown",
   "id": "7b4386b0-bc15-41cb-ab5f-7b1a03f0fc02",
   "metadata": {},
   "source": [
    "## 3. Multivariate plots\n",
    "\n",
    "#### 3.1 Barplots\n"
   ]
  },
  {
   "cell_type": "code",
   "execution_count": 27,
   "id": "b4b428ed-bbe8-4f01-abe4-1e0d131f1742",
   "metadata": {},
   "outputs": [
    {
     "data": {
      "text/html": [
       "<table class=\"dataframe\">\n",
       "<caption>A tibble: 6 × 54</caption>\n",
       "<thead>\n",
       "\t<tr><th scope=col>thomas_num</th><th scope=col>thomas_name</th><th scope=col>icpsr</th><th scope=col>congress</th><th scope=col>year</th><th scope=col>st_name</th><th scope=col>cd</th><th scope=col>dem</th><th scope=col>majority</th><th scope=col>elected</th><th scope=col>...</th><th scope=col>c_abc</th><th scope=col>c_pass</th><th scope=col>c_law</th><th scope=col>all_bills</th><th scope=col>all_aic</th><th scope=col>all_abc</th><th scope=col>all_pass</th><th scope=col>all_law</th><th scope=col>les</th><th scope=col>leslag</th></tr>\n",
       "\t<tr><th scope=col>&lt;chr&gt;</th><th scope=col>&lt;chr&gt;</th><th scope=col>&lt;chr&gt;</th><th scope=col>&lt;chr&gt;</th><th scope=col>&lt;chr&gt;</th><th scope=col>&lt;chr&gt;</th><th scope=col>&lt;chr&gt;</th><th scope=col>&lt;chr&gt;</th><th scope=col>&lt;chr&gt;</th><th scope=col>&lt;chr&gt;</th><th scope=col>...</th><th scope=col>&lt;chr&gt;</th><th scope=col>&lt;chr&gt;</th><th scope=col>&lt;chr&gt;</th><th scope=col>&lt;chr&gt;</th><th scope=col>&lt;chr&gt;</th><th scope=col>&lt;chr&gt;</th><th scope=col>&lt;chr&gt;</th><th scope=col>&lt;chr&gt;</th><th scope=col>&lt;chr&gt;</th><th scope=col>&lt;chr&gt;</th></tr>\n",
       "</thead>\n",
       "<tbody>\n",
       "\t<tr><td>1</td><td>Abdnor, James  </td><td>14000</td><td>93</td><td>1973</td><td>SD</td><td>2 </td><td>0 </td><td>0</td><td>1972</td><td>...</td><td>0</td><td>0</td><td>0</td><td>22 </td><td>0</td><td>0</td><td>0</td><td>0</td><td>0.10957026481628418  </td><td>NA</td></tr>\n",
       "\t<tr><td>2</td><td>Abzug, Bella   </td><td>13001</td><td>93</td><td>1973</td><td>NY</td><td>20</td><td>1 </td><td>1</td><td>1970</td><td>...</td><td>1</td><td>1</td><td>1</td><td>136</td><td>1</td><td>1</td><td>1</td><td>1</td><td>0.76243108510971069  </td><td>NA</td></tr>\n",
       "\t<tr><td>3</td><td>Adams, Brock   </td><td>10700</td><td>93</td><td>1973</td><td>WA</td><td>7 </td><td>1 </td><td>1</td><td>1964</td><td>...</td><td>0</td><td>0</td><td>0</td><td>37 </td><td>2</td><td>2</td><td>2</td><td>1</td><td>1.2364784479141235   </td><td>NA</td></tr>\n",
       "\t<tr><td>4</td><td>Addabbo, Joseph</td><td>10500</td><td>93</td><td>1973</td><td>NY</td><td>7 </td><td>1 </td><td>1</td><td>1960</td><td>...</td><td>0</td><td>0</td><td>0</td><td>38 </td><td>0</td><td>0</td><td>0</td><td>0</td><td>0.15505225956439972  </td><td>NA</td></tr>\n",
       "\t<tr><td>5</td><td>Albert, Carl   </td><td>NA   </td><td>93</td><td>1973</td><td>OK</td><td>3 </td><td>NA</td><td>0</td><td>1946</td><td>...</td><td>0</td><td>0</td><td>0</td><td>1  </td><td>0</td><td>0</td><td>0</td><td>0</td><td>1.0336817940697074E-3</td><td>NA</td></tr>\n",
       "\t<tr><td>6</td><td>Alexander, Bill</td><td>12000</td><td>93</td><td>1973</td><td>AR</td><td>1 </td><td>1 </td><td>1</td><td>1968</td><td>...</td><td>0</td><td>0</td><td>0</td><td>53 </td><td>3</td><td>3</td><td>2</td><td>1</td><td>1.8750505447387695   </td><td>NA</td></tr>\n",
       "</tbody>\n",
       "</table>\n"
      ],
      "text/latex": [
       "A tibble: 6 × 54\n",
       "\\begin{tabular}{lllllllllllllllllllll}\n",
       " thomas\\_num & thomas\\_name & icpsr & congress & year & st\\_name & cd & dem & majority & elected & ... & c\\_abc & c\\_pass & c\\_law & all\\_bills & all\\_aic & all\\_abc & all\\_pass & all\\_law & les & leslag\\\\\n",
       " <chr> & <chr> & <chr> & <chr> & <chr> & <chr> & <chr> & <chr> & <chr> & <chr> & ... & <chr> & <chr> & <chr> & <chr> & <chr> & <chr> & <chr> & <chr> & <chr> & <chr>\\\\\n",
       "\\hline\n",
       "\t 1 & Abdnor, James   & 14000 & 93 & 1973 & SD & 2  & 0  & 0 & 1972 & ... & 0 & 0 & 0 & 22  & 0 & 0 & 0 & 0 & 0.10957026481628418   & NA\\\\\n",
       "\t 2 & Abzug, Bella    & 13001 & 93 & 1973 & NY & 20 & 1  & 1 & 1970 & ... & 1 & 1 & 1 & 136 & 1 & 1 & 1 & 1 & 0.76243108510971069   & NA\\\\\n",
       "\t 3 & Adams, Brock    & 10700 & 93 & 1973 & WA & 7  & 1  & 1 & 1964 & ... & 0 & 0 & 0 & 37  & 2 & 2 & 2 & 1 & 1.2364784479141235    & NA\\\\\n",
       "\t 4 & Addabbo, Joseph & 10500 & 93 & 1973 & NY & 7  & 1  & 1 & 1960 & ... & 0 & 0 & 0 & 38  & 0 & 0 & 0 & 0 & 0.15505225956439972   & NA\\\\\n",
       "\t 5 & Albert, Carl    & NA    & 93 & 1973 & OK & 3  & NA & 0 & 1946 & ... & 0 & 0 & 0 & 1   & 0 & 0 & 0 & 0 & 1.0336817940697074E-3 & NA\\\\\n",
       "\t 6 & Alexander, Bill & 12000 & 93 & 1973 & AR & 1  & 1  & 1 & 1968 & ... & 0 & 0 & 0 & 53  & 3 & 3 & 2 & 1 & 1.8750505447387695    & NA\\\\\n",
       "\\end{tabular}\n"
      ],
      "text/markdown": [
       "\n",
       "A tibble: 6 × 54\n",
       "\n",
       "| thomas_num &lt;chr&gt; | thomas_name &lt;chr&gt; | icpsr &lt;chr&gt; | congress &lt;chr&gt; | year &lt;chr&gt; | st_name &lt;chr&gt; | cd &lt;chr&gt; | dem &lt;chr&gt; | majority &lt;chr&gt; | elected &lt;chr&gt; | ... ... | c_abc &lt;chr&gt; | c_pass &lt;chr&gt; | c_law &lt;chr&gt; | all_bills &lt;chr&gt; | all_aic &lt;chr&gt; | all_abc &lt;chr&gt; | all_pass &lt;chr&gt; | all_law &lt;chr&gt; | les &lt;chr&gt; | leslag &lt;chr&gt; |\n",
       "|---|---|---|---|---|---|---|---|---|---|---|---|---|---|---|---|---|---|---|---|---|\n",
       "| 1 | Abdnor, James   | 14000 | 93 | 1973 | SD | 2  | 0  | 0 | 1972 | ... | 0 | 0 | 0 | 22  | 0 | 0 | 0 | 0 | 0.10957026481628418   | NA |\n",
       "| 2 | Abzug, Bella    | 13001 | 93 | 1973 | NY | 20 | 1  | 1 | 1970 | ... | 1 | 1 | 1 | 136 | 1 | 1 | 1 | 1 | 0.76243108510971069   | NA |\n",
       "| 3 | Adams, Brock    | 10700 | 93 | 1973 | WA | 7  | 1  | 1 | 1964 | ... | 0 | 0 | 0 | 37  | 2 | 2 | 2 | 1 | 1.2364784479141235    | NA |\n",
       "| 4 | Addabbo, Joseph | 10500 | 93 | 1973 | NY | 7  | 1  | 1 | 1960 | ... | 0 | 0 | 0 | 38  | 0 | 0 | 0 | 0 | 0.15505225956439972   | NA |\n",
       "| 5 | Albert, Carl    | NA    | 93 | 1973 | OK | 3  | NA | 0 | 1946 | ... | 0 | 0 | 0 | 1   | 0 | 0 | 0 | 0 | 1.0336817940697074E-3 | NA |\n",
       "| 6 | Alexander, Bill | 12000 | 93 | 1973 | AR | 1  | 1  | 1 | 1968 | ... | 0 | 0 | 0 | 53  | 3 | 3 | 2 | 1 | 1.8750505447387695    | NA |\n",
       "\n"
      ],
      "text/plain": [
       "  thomas_num thomas_name     icpsr congress year st_name cd dem majority\n",
       "1 1          Abdnor, James   14000 93       1973 SD      2  0   0       \n",
       "2 2          Abzug, Bella    13001 93       1973 NY      20 1   1       \n",
       "3 3          Adams, Brock    10700 93       1973 WA      7  1   1       \n",
       "4 4          Addabbo, Joseph 10500 93       1973 NY      7  1   1       \n",
       "5 5          Albert, Carl    NA    93       1973 OK      3  NA  0       \n",
       "6 6          Alexander, Bill 12000 93       1973 AR      1  1   1       \n",
       "  elected ... c_abc c_pass c_law all_bills all_aic all_abc all_pass all_law\n",
       "1 1972    ... 0     0      0     22        0       0       0        0      \n",
       "2 1970    ... 1     1      1     136       1       1       1        1      \n",
       "3 1964    ... 0     0      0     37        2       2       2        1      \n",
       "4 1960    ... 0     0      0     38        0       0       0        0      \n",
       "5 1946    ... 0     0      0     1         0       0       0        0      \n",
       "6 1968    ... 0     0      0     53        3       3       2        1      \n",
       "  les                   leslag\n",
       "1 0.10957026481628418   NA    \n",
       "2 0.76243108510971069   NA    \n",
       "3 1.2364784479141235    NA    \n",
       "4 0.15505225956439972   NA    \n",
       "5 1.0336817940697074E-3 NA    \n",
       "6 1.8750505447387695    NA    "
      ]
     },
     "metadata": {},
     "output_type": "display_data"
    }
   ],
   "source": [
    "# Load dataset\n",
    "df = read_excel('datasets/effective_lawmaking.xlsx')\n",
    "df = df[-1,]\n",
    "head(df)\n"
   ]
  },
  {
   "cell_type": "code",
   "execution_count": 28,
   "id": "a865f470-3701-4ad9-8ed9-0920c36e8be8",
   "metadata": {},
   "outputs": [
    {
     "data": {
      "image/png": "[encoded data removed]",
      "text/plain": [
       "plot without title"
      ]
     },
     "metadata": {
      "image/png": {
       "height": 420,
       "width": 420
      }
     },
     "output_type": "display_data"
    }
   ],
   "source": [
    "# Data Wrangling\n",
    "df %>%\n",
    "    filter(congress == 93) %>%\n",
    "    ggplot(aes(x = dem)) + \n",
    "        geom_bar()\n"
   ]
  },
  {
   "cell_type": "markdown",
   "id": "b9aa101b-17a1-4eff-a342-9e6feb1959d7",
   "metadata": {},
   "source": [
    "Let's recode the dem variable so that it shows 'Republican' adn 'Democrat'"
   ]
  },
  {
   "cell_type": "code",
   "execution_count": 29,
   "id": "65d7dc53-1cf2-4293-bb9f-b240a364a003",
   "metadata": {},
   "outputs": [],
   "source": [
    "df$dem = recode(df$dem, '1' = 'Democrat', '0' = 'Republican')"
   ]
  },
  {
   "cell_type": "code",
   "execution_count": 44,
   "id": "2aa1603d-530f-4f7a-bd24-e472ffa157c8",
   "metadata": {},
   "outputs": [
    {
     "data": {
      "image/png": "[encoded data removed]",
      "text/plain": [
       "plot without title"
      ]
     },
     "metadata": {
      "image/png": {
       "height": 420,
       "width": 420
      }
     },
     "output_type": "display_data"
    }
   ],
   "source": [
    "# Data Wrangling\n",
    "df %>%\n",
    "    filter(congress == 93) %>%\n",
    "    ggplot(aes(x = dem, fill = dem)) + \n",
    "        geom_bar() +\n",
    "        labs(x = 'Party', y = 'Count of Congresists',\n",
    "            title = 'Congresists by party in the 93th Congress') +\n",
    "        scale_fill_manual(values = c(\"blue\", \"red\"))\n"
   ]
  },
  {
   "cell_type": "code",
   "execution_count": 31,
   "id": "2f94040d-afd7-4ae8-83e5-8bf2b6e8f835",
   "metadata": {},
   "outputs": [
    {
     "data": {
      "image/png": "[encoded data removed]",
      "text/plain": [
       "plot without title"
      ]
     },
     "metadata": {
      "image/png": {
       "height": 420,
       "width": 420
      }
     },
     "output_type": "display_data"
    }
   ],
   "source": [
    "# Data Wrangling\n",
    "df %>%\n",
    "    filter(congress == 93) %>%\n",
    "    ggplot(aes(y = st_name)) + \n",
    "        geom_bar()\n"
   ]
  },
  {
   "cell_type": "markdown",
   "id": "289afa13-bb1d-43ae-9196-698cac2b71d8",
   "metadata": {},
   "source": [
    "We can also make a barplot of the proportions instead of the counts"
   ]
  },
  {
   "cell_type": "code",
   "execution_count": 32,
   "id": "38a4da9f-c72a-436e-9546-2e8f80bca324",
   "metadata": {},
   "outputs": [
    {
     "data": {
      "image/png": "[encoded data removed]",
      "text/plain": [
       "plot without title"
      ]
     },
     "metadata": {
      "image/png": {
       "height": 420,
       "width": 420
      }
     },
     "output_type": "display_data"
    }
   ],
   "source": [
    "# Data Wrangling\n",
    "df %>%\n",
    "    filter(congress == 93) %>%\n",
    "    ggplot() + \n",
    "        geom_bar(mapping = aes(x = dem, y = ..prop.., group = 1,fill = dem), \n",
    "                 stat = \"count\") + \n",
    "        scale_y_continuous(labels = scales::percent_format()) +\n",
    "        labs(x = 'Party', y = 'Count of Congresists',\n",
    "            title = 'Congresists by party in the 93th Congress')\n"
   ]
  },
  {
   "cell_type": "code",
   "execution_count": 37,
   "id": "eb269734-fc59-4cc5-a93e-e1b4940457c3",
   "metadata": {},
   "outputs": [
    {
     "data": {
      "text/html": [
       "<style>\n",
       ".list-inline {list-style: none; margin:0; padding: 0}\n",
       ".list-inline>li {display: inline-block}\n",
       ".list-inline>li:not(:last-child)::after {content: \"\\00b7\"; padding: 0 .5ex}\n",
       "</style>\n",
       "<ol class=list-inline><li>6</li><li>1</li><li>3</li><li>4</li><li>7</li><li>2</li><li>5</li><li>8</li></ol>\n"
      ],
      "text/latex": [
       "\\begin{enumerate*}\n",
       "\\item 6\n",
       "\\item 1\n",
       "\\item 3\n",
       "\\item 4\n",
       "\\item 7\n",
       "\\item 2\n",
       "\\item 5\n",
       "\\item 8\n",
       "\\end{enumerate*}\n"
      ],
      "text/markdown": [
       "1. 6\n",
       "2. 1\n",
       "3. 3\n",
       "4. 4\n",
       "5. 7\n",
       "6. 2\n",
       "7. 5\n",
       "8. 8\n",
       "\n",
       "\n"
      ],
      "text/plain": [
       "[1] 6 1 3 4 7 2 5 8"
      ]
     },
     "metadata": {},
     "output_type": "display_data"
    }
   ],
   "source": [
    "unique(cces$pid7)"
   ]
  },
  {
   "cell_type": "code",
   "execution_count": 39,
   "id": "ad51eaf7-ef90-4309-ba82-154a948bd507",
   "metadata": {},
   "outputs": [],
   "source": [
    "cces$pid7 = recode(cces$pid7,\n",
    "                       '1' = \"Democrat\",\n",
    "                       '2' = \"Democrat\",\n",
    "                       '3' = \"Democrat\",\n",
    "                       '4' = \"Independent\",\n",
    "                       '5' = \"Independent\",\n",
    "                       '6' = \"Republican\",\n",
    "                       '7' = \"Republican\",\n",
    "                       '8' = \"Republican\"\n",
    "                  )\n"
   ]
  },
  {
   "cell_type": "code",
   "execution_count": 41,
   "id": "71fb26c8-a2b3-4232-8650-f2b3ed153e00",
   "metadata": {},
   "outputs": [
    {
     "data": {
      "image/png": "[encoded data removed]",
      "text/plain": [
       "plot without title"
      ]
     },
     "metadata": {
      "image/png": {
       "height": 420,
       "width": 420
      }
     },
     "output_type": "display_data"
    }
   ],
   "source": [
    "ggplot(cces, aes(x = region, fill = pid7)) +\n",
    "    geom_bar() +\n",
    "    labs(x = 'Region', y = 'Count voters',\n",
    "         title = 'Voters per Region divided by voting Party')"
   ]
  },
  {
   "cell_type": "markdown",
   "id": "ddcfb1bf-02b4-4f5e-b451-1d5efe8ad4c8",
   "metadata": {},
   "source": [
    "However, if we don't want these bars to be stacked, and we want the different voting parties separated, we can add the `position = \"dodge\"` to the `geom_bar()` function:"
   ]
  },
  {
   "cell_type": "code",
   "execution_count": 42,
   "id": "9b9c2606-b768-404c-905d-f7570e688592",
   "metadata": {},
   "outputs": [
    {
     "data": {
      "image/png": "[encoded data removed]",
      "text/plain": [
       "plot without title"
      ]
     },
     "metadata": {
      "image/png": {
       "height": 420,
       "width": 420
      }
     },
     "output_type": "display_data"
    }
   ],
   "source": [
    "ggplot(cces, aes(x = region, fill = pid7)) +\n",
    "    geom_bar(position = \"dodge\") +\n",
    "    labs(x = 'Region', y = 'Count voters',\n",
    "         title = 'Voters per Region divided by voting Party')"
   ]
  },
  {
   "cell_type": "markdown",
   "id": "dd0fb337-a038-4011-887d-0742e29a8d9a",
   "metadata": {},
   "source": [
    "#### 3.2 Line plots and Time Series\n"
   ]
  },
  {
   "cell_type": "code",
   "execution_count": 49,
   "id": "9d10ed28-8d82-4c45-824c-ac18fa1144da",
   "metadata": {},
   "outputs": [],
   "source": [
    "# Generating fake data\n",
    "years = seq(2001, 2020, by = 1)\n",
    "price = rnorm(20, mean = 15, sd = 5)\n",
    "\n",
    "# Putting data into a tibble (table)\n",
    "stock_df = tibble(\"Year\" = years, \"StockPrice\" = price)\n"
   ]
  },
  {
   "cell_type": "code",
   "execution_count": 50,
   "id": "027b6afb-23c9-4a5c-b0da-221c2dd0e074",
   "metadata": {},
   "outputs": [
    {
     "data": {
      "image/png": "[encoded data removed]",
      "text/plain": [
       "plot without title"
      ]
     },
     "metadata": {
      "image/png": {
       "height": 420,
       "width": 420
      }
     },
     "output_type": "display_data"
    }
   ],
   "source": [
    "ggplot(stock_df, aes(x = years, y = price)) + \n",
    "    geom_line() +\n",
    "    labs(x = 'Year', y = 'Stock Price',\n",
    "         title = 'Stock Price per year')"
   ]
  },
  {
   "cell_type": "markdown",
   "id": "57a4af2f-bb87-4ad7-8905-6c661d4b965e",
   "metadata": {},
   "source": [
    "We'll add a Stock Id column for keeping track of different stock prices"
   ]
  },
  {
   "cell_type": "code",
   "execution_count": 51,
   "id": "e80d670d-dc4e-43a1-b29e-12d778727081",
   "metadata": {},
   "outputs": [],
   "source": [
    "stock_df$stock_id = rep(\"Stock_1\", 20)"
   ]
  },
  {
   "cell_type": "markdown",
   "id": "35c82721-502c-4349-9992-538e64c2d419",
   "metadata": {},
   "source": [
    "Now, we'll add another stock price for showing more than one in the same chart"
   ]
  },
  {
   "cell_type": "code",
   "execution_count": 52,
   "id": "e34e7c25-6dae-47f2-813c-a1a33b82f554",
   "metadata": {},
   "outputs": [],
   "source": [
    "# Generating fake data\n",
    "years = seq(2001, 2020, by = 1)\n",
    "price = rnorm(20, mean = 10, sd = 3)\n",
    "\n",
    "# Putting data into a tibble (table)\n",
    "stock_df2 = tibble(\"Year\" = years, \"StockPrice\" = price)\n",
    "stock_df2$stock_id = rep(\"Stock_2\", 20)\n"
   ]
  },
  {
   "cell_type": "markdown",
   "id": "7eede17f-2a00-4b49-a6f7-4fc20aca022b",
   "metadata": {},
   "source": [
    "Now we can combine both tibbles so we have a time series with both stocks"
   ]
  },
  {
   "cell_type": "code",
   "execution_count": 54,
   "id": "e99dbb30-713b-435b-a896-e9c723405576",
   "metadata": {},
   "outputs": [
    {
     "data": {
      "text/html": [
       "<table class=\"dataframe\">\n",
       "<caption>A tibble: 6 × 3</caption>\n",
       "<thead>\n",
       "\t<tr><th scope=col>Year</th><th scope=col>StockPrice</th><th scope=col>stock_id</th></tr>\n",
       "\t<tr><th scope=col>&lt;dbl&gt;</th><th scope=col>&lt;dbl&gt;</th><th scope=col>&lt;chr&gt;</th></tr>\n",
       "</thead>\n",
       "<tbody>\n",
       "\t<tr><td>2001</td><td>12.716102</td><td>Stock_1</td></tr>\n",
       "\t<tr><td>2002</td><td>11.522096</td><td>Stock_1</td></tr>\n",
       "\t<tr><td>2003</td><td> 9.388709</td><td>Stock_1</td></tr>\n",
       "\t<tr><td>2004</td><td>12.117003</td><td>Stock_1</td></tr>\n",
       "\t<tr><td>2005</td><td>15.789096</td><td>Stock_1</td></tr>\n",
       "\t<tr><td>2006</td><td>15.230183</td><td>Stock_1</td></tr>\n",
       "</tbody>\n",
       "</table>\n"
      ],
      "text/latex": [
       "A tibble: 6 × 3\n",
       "\\begin{tabular}{lll}\n",
       " Year & StockPrice & stock\\_id\\\\\n",
       " <dbl> & <dbl> & <chr>\\\\\n",
       "\\hline\n",
       "\t 2001 & 12.716102 & Stock\\_1\\\\\n",
       "\t 2002 & 11.522096 & Stock\\_1\\\\\n",
       "\t 2003 &  9.388709 & Stock\\_1\\\\\n",
       "\t 2004 & 12.117003 & Stock\\_1\\\\\n",
       "\t 2005 & 15.789096 & Stock\\_1\\\\\n",
       "\t 2006 & 15.230183 & Stock\\_1\\\\\n",
       "\\end{tabular}\n"
      ],
      "text/markdown": [
       "\n",
       "A tibble: 6 × 3\n",
       "\n",
       "| Year &lt;dbl&gt; | StockPrice &lt;dbl&gt; | stock_id &lt;chr&gt; |\n",
       "|---|---|---|\n",
       "| 2001 | 12.716102 | Stock_1 |\n",
       "| 2002 | 11.522096 | Stock_1 |\n",
       "| 2003 |  9.388709 | Stock_1 |\n",
       "| 2004 | 12.117003 | Stock_1 |\n",
       "| 2005 | 15.789096 | Stock_1 |\n",
       "| 2006 | 15.230183 | Stock_1 |\n",
       "\n"
      ],
      "text/plain": [
       "  Year StockPrice stock_id\n",
       "1 2001 12.716102  Stock_1 \n",
       "2 2002 11.522096  Stock_1 \n",
       "3 2003  9.388709  Stock_1 \n",
       "4 2004 12.117003  Stock_1 \n",
       "5 2005 15.789096  Stock_1 \n",
       "6 2006 15.230183  Stock_1 "
      ]
     },
     "metadata": {},
     "output_type": "display_data"
    }
   ],
   "source": [
    "all_stocks = bind_rows(stock_df, stock_df2)\n",
    "head(all_stocks)"
   ]
  },
  {
   "cell_type": "code",
   "execution_count": 55,
   "id": "5fd6f2d8-edf8-4ce1-9715-eb52e899a906",
   "metadata": {},
   "outputs": [
    {
     "data": {
      "text/html": [
       "<table class=\"dataframe\">\n",
       "<caption>A tibble: 6 × 3</caption>\n",
       "<thead>\n",
       "\t<tr><th scope=col>Year</th><th scope=col>StockPrice</th><th scope=col>stock_id</th></tr>\n",
       "\t<tr><th scope=col>&lt;dbl&gt;</th><th scope=col>&lt;dbl&gt;</th><th scope=col>&lt;chr&gt;</th></tr>\n",
       "</thead>\n",
       "<tbody>\n",
       "\t<tr><td>2015</td><td> 8.860942</td><td>Stock_2</td></tr>\n",
       "\t<tr><td>2016</td><td>11.263006</td><td>Stock_2</td></tr>\n",
       "\t<tr><td>2017</td><td>11.302013</td><td>Stock_2</td></tr>\n",
       "\t<tr><td>2018</td><td>16.119501</td><td>Stock_2</td></tr>\n",
       "\t<tr><td>2019</td><td>12.219583</td><td>Stock_2</td></tr>\n",
       "\t<tr><td>2020</td><td>14.354476</td><td>Stock_2</td></tr>\n",
       "</tbody>\n",
       "</table>\n"
      ],
      "text/latex": [
       "A tibble: 6 × 3\n",
       "\\begin{tabular}{lll}\n",
       " Year & StockPrice & stock\\_id\\\\\n",
       " <dbl> & <dbl> & <chr>\\\\\n",
       "\\hline\n",
       "\t 2015 &  8.860942 & Stock\\_2\\\\\n",
       "\t 2016 & 11.263006 & Stock\\_2\\\\\n",
       "\t 2017 & 11.302013 & Stock\\_2\\\\\n",
       "\t 2018 & 16.119501 & Stock\\_2\\\\\n",
       "\t 2019 & 12.219583 & Stock\\_2\\\\\n",
       "\t 2020 & 14.354476 & Stock\\_2\\\\\n",
       "\\end{tabular}\n"
      ],
      "text/markdown": [
       "\n",
       "A tibble: 6 × 3\n",
       "\n",
       "| Year &lt;dbl&gt; | StockPrice &lt;dbl&gt; | stock_id &lt;chr&gt; |\n",
       "|---|---|---|\n",
       "| 2015 |  8.860942 | Stock_2 |\n",
       "| 2016 | 11.263006 | Stock_2 |\n",
       "| 2017 | 11.302013 | Stock_2 |\n",
       "| 2018 | 16.119501 | Stock_2 |\n",
       "| 2019 | 12.219583 | Stock_2 |\n",
       "| 2020 | 14.354476 | Stock_2 |\n",
       "\n"
      ],
      "text/plain": [
       "  Year StockPrice stock_id\n",
       "1 2015  8.860942  Stock_2 \n",
       "2 2016 11.263006  Stock_2 \n",
       "3 2017 11.302013  Stock_2 \n",
       "4 2018 16.119501  Stock_2 \n",
       "5 2019 12.219583  Stock_2 \n",
       "6 2020 14.354476  Stock_2 "
      ]
     },
     "metadata": {},
     "output_type": "display_data"
    }
   ],
   "source": [
    "tail(all_stocks)"
   ]
  },
  {
   "cell_type": "code",
   "execution_count": 58,
   "id": "5f4b638b-7b8e-4ca6-a707-ac357cf3b8f1",
   "metadata": {},
   "outputs": [
    {
     "data": {
      "image/png": "[encoded data removed]",
      "text/plain": [
       "plot without title"
      ]
     },
     "metadata": {
      "image/png": {
       "height": 420,
       "width": 420
      }
     },
     "output_type": "display_data"
    }
   ],
   "source": [
    "ggplot(all_stocks, aes(x = Year, y = StockPrice, group = stock_id,\n",
    "                       color = stock_id, linetype = stock_id)) + \n",
    "    geom_line() +\n",
    "    labs(x = 'Year', y = 'Stock Price',\n",
    "         title = 'Stock Price per year')"
   ]
  },
  {
   "cell_type": "markdown",
   "id": "be7e81d1-b819-4926-a421-d2b27f753473",
   "metadata": {},
   "source": [
    "We can also plot both stocks in different charts with the `facet_wrap()` function"
   ]
  },
  {
   "cell_type": "code",
   "execution_count": 62,
   "id": "1a14a675-f06e-45e6-ad96-8bfbac665acb",
   "metadata": {},
   "outputs": [
    {
     "data": {
      "image/png": "[encoded data removed]",
      "text/plain": [
       "plot without title"
      ]
     },
     "metadata": {
      "image/png": {
       "height": 420,
       "width": 420
      }
     },
     "output_type": "display_data"
    }
   ],
   "source": [
    "ggplot(all_stocks, aes(x = Year, y = StockPrice, group = stock_id, color = stock_id)) + \n",
    "    geom_line() +\n",
    "    facet_wrap(~stock_id, ncol = 1) +\n",
    "    labs(x = 'Year', y = 'Stock Price',\n",
    "         title = 'Stock Price per year')"
   ]
  },
  {
   "cell_type": "markdown",
   "id": "caceebd5-7116-4477-b911-5d8c9948823f",
   "metadata": {},
   "source": [
    "Customizing colors"
   ]
  },
  {
   "cell_type": "code",
   "execution_count": 64,
   "id": "dca59e29-3110-4071-9125-fe8091a789be",
   "metadata": {},
   "outputs": [
    {
     "data": {
      "image/png": "[encoded data removed]",
      "text/plain": [
       "plot without title"
      ]
     },
     "metadata": {
      "image/png": {
       "height": 420,
       "width": 420
      }
     },
     "output_type": "display_data"
    }
   ],
   "source": [
    "ggplot(all_stocks, aes(x = Year, y = StockPrice, group = stock_id, color = stock_id)) + \n",
    "    geom_line() +\n",
    "    scale_color_manual(values = c(\"red\", \"blue\")) +\n",
    "    facet_wrap(~stock_id, ncol = 1) +\n",
    "    labs(x = 'Year', y = 'Stock Price',\n",
    "         title = 'Stock Price per year')"
   ]
  },
  {
   "cell_type": "markdown",
   "id": "2e863834-1ce4-4c37-bb8d-bbd5726dfef9",
   "metadata": {},
   "source": [
    "#### 3.3 Heatmaps and other visualizations\n",
    "\n",
    "There are many open source resources for how to make data visualizations in ggplot. One of these really great open source resources is the [R Graph Gallery](https://www.r-graph-gallery.com), which is a freely available website that provides templates for many of the figures that you can create in R. Some using ggplot and some using other packages.\n",
    "\n"
   ]
  },
  {
   "cell_type": "code",
   "execution_count": 65,
   "id": "5245ca01-1f21-45c8-bed2-dfc7409c9dc1",
   "metadata": {},
   "outputs": [],
   "source": [
    "# Dummy data\n",
    "x = LETTERS[1:20]\n",
    "y = paste0(\"var\", seq(1,20))\n",
    "\n",
    "# Creating dummy table with A1, A2, ..., A20, B1, ..., T20.\n",
    "data = expand.grid(X = x, Y = y)\n",
    "data$Z = runif(400, 0, 5)\n"
   ]
  },
  {
   "cell_type": "code",
   "execution_count": 67,
   "id": "aa611306-ff4b-465b-81f3-c17f29c9ef79",
   "metadata": {},
   "outputs": [
    {
     "data": {
      "image/png": "[encoded data removed]",
      "text/plain": [
       "plot without title"
      ]
     },
     "metadata": {
      "image/png": {
       "height": 420,
       "width": 420
      }
     },
     "output_type": "display_data"
    }
   ],
   "source": [
    "# Heatmap \n",
    "ggplot(data, aes(X, Y, fill= Z)) + \n",
    "      geom_tile()"
   ]
  },
  {
   "cell_type": "markdown",
   "id": "65f899cb-f1c9-4d33-9ae0-1459f2f8186c",
   "metadata": {},
   "source": [
    "Another example"
   ]
  },
  {
   "cell_type": "code",
   "execution_count": 68,
   "id": "656b0e2d-57e3-4993-a34a-27c67ae698a1",
   "metadata": {},
   "outputs": [],
   "source": [
    "# Fake dataset\n",
    "players = c(\"Michael\", \"LeBron\", \"Kobe\")\n",
    "points = c(35, 40, 45)\n",
    "assists = c(10, 12, 5)\n",
    "rebounds = c(15, 12, 5)\n",
    "\n",
    "# Creating tibble\n",
    "basket = tibble(players, points, assists, rebounds)\n"
   ]
  },
  {
   "cell_type": "markdown",
   "id": "1e30a18d-aa28-4cfc-bd0c-b9a2f832f256",
   "metadata": {},
   "source": [
    "One important thing is to **standardize variables' values for heatmaps**. Because if the values are not within the same range, the information will not be representative of all the variables"
   ]
  },
  {
   "cell_type": "code",
   "execution_count": 69,
   "id": "c3795ad5-504c-4358-a25f-d50f3f8eb410",
   "metadata": {},
   "outputs": [],
   "source": [
    "# Standardized cols\n",
    "basket$std_points = basket$points / max(basket$points)\n",
    "basket$std_assists = basket$assists / max(basket$assists)\n",
    "basket$std_rebounds = basket$rebounds / max(basket$rebounds)\n"
   ]
  },
  {
   "cell_type": "code",
   "execution_count": 70,
   "id": "0899825f-8c76-4a2b-a5eb-188ee7941050",
   "metadata": {},
   "outputs": [
    {
     "data": {
      "text/html": [
       "<table class=\"dataframe\">\n",
       "<caption>A tibble: 3 × 4</caption>\n",
       "<thead>\n",
       "\t<tr><th scope=col>players</th><th scope=col>std_points</th><th scope=col>std_assists</th><th scope=col>std_rebounds</th></tr>\n",
       "\t<tr><th scope=col>&lt;chr&gt;</th><th scope=col>&lt;dbl&gt;</th><th scope=col>&lt;dbl&gt;</th><th scope=col>&lt;dbl&gt;</th></tr>\n",
       "</thead>\n",
       "<tbody>\n",
       "\t<tr><td>Michael</td><td>0.7777778</td><td>0.8333333</td><td>1.0000000</td></tr>\n",
       "\t<tr><td>LeBron </td><td>0.8888889</td><td>1.0000000</td><td>0.8000000</td></tr>\n",
       "\t<tr><td>Kobe   </td><td>1.0000000</td><td>0.4166667</td><td>0.3333333</td></tr>\n",
       "</tbody>\n",
       "</table>\n"
      ],
      "text/latex": [
       "A tibble: 3 × 4\n",
       "\\begin{tabular}{llll}\n",
       " players & std\\_points & std\\_assists & std\\_rebounds\\\\\n",
       " <chr> & <dbl> & <dbl> & <dbl>\\\\\n",
       "\\hline\n",
       "\t Michael & 0.7777778 & 0.8333333 & 1.0000000\\\\\n",
       "\t LeBron  & 0.8888889 & 1.0000000 & 0.8000000\\\\\n",
       "\t Kobe    & 1.0000000 & 0.4166667 & 0.3333333\\\\\n",
       "\\end{tabular}\n"
      ],
      "text/markdown": [
       "\n",
       "A tibble: 3 × 4\n",
       "\n",
       "| players &lt;chr&gt; | std_points &lt;dbl&gt; | std_assists &lt;dbl&gt; | std_rebounds &lt;dbl&gt; |\n",
       "|---|---|---|---|\n",
       "| Michael | 0.7777778 | 0.8333333 | 1.0000000 |\n",
       "| LeBron  | 0.8888889 | 1.0000000 | 0.8000000 |\n",
       "| Kobe    | 1.0000000 | 0.4166667 | 0.3333333 |\n",
       "\n"
      ],
      "text/plain": [
       "  players std_points std_assists std_rebounds\n",
       "1 Michael 0.7777778  0.8333333   1.0000000   \n",
       "2 LeBron  0.8888889  1.0000000   0.8000000   \n",
       "3 Kobe    1.0000000  0.4166667   0.3333333   "
      ]
     },
     "metadata": {},
     "output_type": "display_data"
    }
   ],
   "source": [
    "# Creating std tibble\n",
    "basket_std = select(basket, \"players\", \"std_points\", \"std_assists\", \"std_rebounds\")\n",
    "\n",
    "head(basket_std)\n"
   ]
  },
  {
   "cell_type": "markdown",
   "id": "0ad94574-14c4-4348-a3b8-e8a156827a9d",
   "metadata": {},
   "source": [
    "As you may see, this tibble is in `wide data format`, so we should transform it to `long data format` data with the command `pivot_longer()`"
   ]
  },
  {
   "cell_type": "code",
   "execution_count": 71,
   "id": "08dd805c-35c8-4e80-8476-523afd1a47d6",
   "metadata": {},
   "outputs": [
    {
     "data": {
      "text/html": [
       "<table class=\"dataframe\">\n",
       "<caption>A tibble: 6 × 3</caption>\n",
       "<thead>\n",
       "\t<tr><th scope=col>players</th><th scope=col>stat</th><th scope=col>value</th></tr>\n",
       "\t<tr><th scope=col>&lt;chr&gt;</th><th scope=col>&lt;chr&gt;</th><th scope=col>&lt;dbl&gt;</th></tr>\n",
       "</thead>\n",
       "<tbody>\n",
       "\t<tr><td>Michael</td><td>std_points  </td><td>0.7777778</td></tr>\n",
       "\t<tr><td>Michael</td><td>std_assists </td><td>0.8333333</td></tr>\n",
       "\t<tr><td>Michael</td><td>std_rebounds</td><td>1.0000000</td></tr>\n",
       "\t<tr><td>LeBron </td><td>std_points  </td><td>0.8888889</td></tr>\n",
       "\t<tr><td>LeBron </td><td>std_assists </td><td>1.0000000</td></tr>\n",
       "\t<tr><td>LeBron </td><td>std_rebounds</td><td>0.8000000</td></tr>\n",
       "</tbody>\n",
       "</table>\n"
      ],
      "text/latex": [
       "A tibble: 6 × 3\n",
       "\\begin{tabular}{lll}\n",
       " players & stat & value\\\\\n",
       " <chr> & <chr> & <dbl>\\\\\n",
       "\\hline\n",
       "\t Michael & std\\_points   & 0.7777778\\\\\n",
       "\t Michael & std\\_assists  & 0.8333333\\\\\n",
       "\t Michael & std\\_rebounds & 1.0000000\\\\\n",
       "\t LeBron  & std\\_points   & 0.8888889\\\\\n",
       "\t LeBron  & std\\_assists  & 1.0000000\\\\\n",
       "\t LeBron  & std\\_rebounds & 0.8000000\\\\\n",
       "\\end{tabular}\n"
      ],
      "text/markdown": [
       "\n",
       "A tibble: 6 × 3\n",
       "\n",
       "| players &lt;chr&gt; | stat &lt;chr&gt; | value &lt;dbl&gt; |\n",
       "|---|---|---|\n",
       "| Michael | std_points   | 0.7777778 |\n",
       "| Michael | std_assists  | 0.8333333 |\n",
       "| Michael | std_rebounds | 1.0000000 |\n",
       "| LeBron  | std_points   | 0.8888889 |\n",
       "| LeBron  | std_assists  | 1.0000000 |\n",
       "| LeBron  | std_rebounds | 0.8000000 |\n",
       "\n"
      ],
      "text/plain": [
       "  players stat         value    \n",
       "1 Michael std_points   0.7777778\n",
       "2 Michael std_assists  0.8333333\n",
       "3 Michael std_rebounds 1.0000000\n",
       "4 LeBron  std_points   0.8888889\n",
       "5 LeBron  std_assists  1.0000000\n",
       "6 LeBron  std_rebounds 0.8000000"
      ]
     },
     "metadata": {},
     "output_type": "display_data"
    }
   ],
   "source": [
    "basket_std = pivot_longer(basket_std,\n",
    "                          c(\"std_points\", \"std_assists\", \"std_rebounds\"),\n",
    "                         names_to = \"stat\",\n",
    "                         values_to = \"value\")\n",
    "\n",
    "head(basket_std)"
   ]
  },
  {
   "cell_type": "markdown",
   "id": "6b262e8d-e7a2-4ecd-aafa-8418698623c1",
   "metadata": {},
   "source": [
    "Now we can create the heatmap"
   ]
  },
  {
   "cell_type": "code",
   "execution_count": 72,
   "id": "b9a89d1b-109f-46a5-95d1-0006fec01785",
   "metadata": {},
   "outputs": [
    {
     "data": {
      "image/png": "[encoded data removed]",
      "text/plain": [
       "plot without title"
      ]
     },
     "metadata": {
      "image/png": {
       "height": 420,
       "width": 420
      }
     },
     "output_type": "display_data"
    }
   ],
   "source": [
    "# Heatmap \n",
    "ggplot(basket_std, aes(players, stat, fill = value)) + \n",
    "      geom_tile()"
   ]
  },
  {
   "cell_type": "markdown",
   "id": "9a3b7cc7-e9ba-438e-ba5d-10ba4815c107",
   "metadata": {},
   "source": [
    "## 4. Annotations\n",
    "\n"
   ]
  },
  {
   "cell_type": "code",
   "execution_count": null,
   "id": "928c369d-1a4c-40f1-8bc4-186c1b41df72",
   "metadata": {},
   "outputs": [],
   "source": []
  }
 ],
 "metadata": {
  "kernelspec": {
   "display_name": "R",
   "language": "R",
   "name": "ir"
  },
  "language_info": {
   "codemirror_mode": "r",
   "file_extension": ".r",
   "mimetype": "text/x-r-source",
   "name": "R",
   "pygments_lexer": "r",
   "version": "4.1.0"
  }
 },
 "nbformat": 4,
 "nbformat_minor": 5
}
