{
 "cells": [
  {
   "cell_type": "markdown",
   "id": "84e40867-c93f-423d-af3c-deb6e9d7267e",
   "metadata": {},
   "source": [
    "# Deep Learning Fundamentals\n",
    "\n"
   ]
  },
  {
   "cell_type": "markdown",
   "id": "40f01000-6715-4358-a4fe-5a6c81b2dbbc",
   "metadata": {},
   "source": [
    "## 1. Universality\n",
    "\n",
    "What functions can a Neural Network represent? The Universial Approximation Theorem states and demostrates that a NN with just one hidden layer, can approximate any function if given the sufficient amount of hidden units."
   ]
  },
  {
   "cell_type": "markdown",
   "id": "370aa695-8b66-465b-96c8-b1d37794e5fc",
   "metadata": {},
   "source": [
    "## 2. Learning problems\n",
    "\n",
    "Although there are several learning problemas that can be approached as imitation learning and meta-learning, we have three main learning problems:\n",
    "\n",
    "- **Supervised Learning:** these are problems when we get labeled data, and the main task is to make predictions (regression or classification) based on training an algorithm with the labeled data.\n",
    "- **Unsupervised Learning:** these are problems when we get unlabeled data and you learn the structure of the data, for both getting insights on data (clustering, principal component analysis, etc) or also for generative algorithms (as GANs).\n",
    "- **Reinforcement Learning:** the goal is to learn how to take actions in an environment. Whenever an agent takes an action, as it's in an environment, after the action the agent gets feedback on this action to know if it was rewarded, negative rewarded or not rewarded."
   ]
  },
  {
   "cell_type": "markdown",
   "id": "3e7d1b59-26e6-412d-b0f8-3a45125ba93e",
   "metadata": {},
   "source": [
    "## 3. Coding a Neural Networks"
   ]
  },
  {
   "cell_type": "code",
   "execution_count": null,
   "id": "bad22cc0-1bc0-492b-b13f-3e061f8bfc06",
   "metadata": {},
   "outputs": [],
   "source": []
  }
 ],
 "metadata": {
  "kernelspec": {
   "display_name": "Python 3",
   "language": "python",
   "name": "python3"
  },
  "language_info": {
   "codemirror_mode": {
    "name": "ipython",
    "version": 3
   },
   "file_extension": ".py",
   "mimetype": "text/x-python",
   "name": "python",
   "nbconvert_exporter": "python",
   "pygments_lexer": "ipython3",
   "version": "3.9.5"
  }
 },
 "nbformat": 4,
 "nbformat_minor": 5
}
